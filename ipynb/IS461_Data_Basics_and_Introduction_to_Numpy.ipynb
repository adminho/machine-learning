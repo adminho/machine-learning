{
  "nbformat": 4,
  "nbformat_minor": 0,
  "metadata": {
    "colab": {
      "provenance": [],
      "collapsed_sections": [
        "wKCJaMsQeHIc",
        "nTBhiUSgOERw",
        "htRoJ2y2WYeY",
        "0lEyh1X4xmLj",
        "d7EzzNmvYBhP",
        "s6c7yKCaXMLL",
        "9DHbIhAhY5J7"
      ],
      "toc_visible": true
    },
    "kernelspec": {
      "name": "python3",
      "display_name": "Python 3"
    }
  },
  "cells": [
    {
      "cell_type": "markdown",
      "metadata": {
        "id": "8y0jBwRd6go3"
      },
      "source": [
        "<img height=\"60px\" src=\"https://upload.wikimedia.org/wikipedia/commons/3/32/Emblem_of_Thammasat_University.svg\" align=\"left\" hspace=\"10px\" vspace=\"0px\">\n",
        "\n",
        "# Data Basics and Introduction to Numpy\n",
        "\n",
        "## การใช้งาน numpy เบื้องต้น\n",
        "\n",
        "numpy เป็น library เอาไว้สร้างและจัดการชนิดข้อมูลแบบอาร์เรย์หลายมิติ (ndarray) ได้อย่างมีประสิทธิภาพ สามารถนำไปประยกุต์ใช้ใน data science ได้\n",
        "\n",
        "---\n",
        "\n",
        "**รหัสวิชา/ชื่อวิชา** IS461 Tools for Data Analytics ภาคเรียนที่ 1/66\n",
        "\n",
        "**หลักสูตร** บริหารธุรกิจบัณฑิต คณะ พาณิชยศาสตร์และการบัญชี<br>\n",
        "**ผู้สอน** จตุรพัชร์ พัฒนทรงศิวิไล\n",
        "\n"
      ]
    },
    {
      "cell_type": "markdown",
      "metadata": {
        "id": "jYZBhNs-o-y6"
      },
      "source": [
        "**cite:**\n",
        "* https://github.com/numpy/numpy</li>\n",
        "* https://colab.research.google.com/drive/1NQDtO3Y8kApxS5SwMPE2hvdUl3T_of4V</li>"
      ]
    },
    {
      "cell_type": "markdown",
      "metadata": {
        "id": "rwVHkFIG6vtd"
      },
      "source": [
        "# How to use Colab?\n",
        "\n",
        "Colab พัฒนาโดย google เป็นหน้าเว็บเอาไว้ใช้เขียนโค้ด python ได้ผ่านทางหน้าเว็บ พร้อมทั้งเป็นเอกสารในตัว (เหมือนกับ Jupyter Notebook)\n",
        "\n",
        "โดยหน้าเว็บจะเชื่อมต่อกับ  cloud service แถมยังเชื่อมต่อกับ google drive ของเราก็ได้ด้วย\n",
        "พร้อมทั้งรองรับ GPU และ TPU\n",
        "จึงเหมาะสำหรับงาน data science, machine learning, AI\n",
        "\n",
        "**หมายเหตุ** <font color='blue'>**ต้องมี Gmail**</font> ถึงจะรันหน้า colab ได้ และสามารถแก้ไขโค้ดได้ แต่**ไฟล์จะไม่ถูก save**\n",
        "\n",
        "<h3>สามารถแก้ไข และรันได้</h3>\n",
        "<img height=\"200px\" src=\"https://raw.githubusercontent.com/adminho/machine-learning/master/images/use_Colab3.png\" align=\"center\" hspace=\"10px\" vspace=\"0px\">\n",
        "\n",
        "\n",
        "---\n",
        "\n",
        "<h3>ถ้าจะแก้ไขและ save ได้ด้วย ต้อง copy ไฟล์ .ipynb ไปที่่ google drive ของเราเสียก่อน ดังนี้</h3>\n",
        "\n",
        "<h3>กด Copy to Drive ... เพื่อบันทึกไว้ google drive เครื่องเรา</h3>\n",
        "\n",
        "<img height=\"200px\" src=\"https://raw.githubusercontent.com/adminho/machine-learning/master/images/use_Colab1.png\" align=\"center\" hspace=\"10px\" vspace=\"0px\">\n",
        "\n",
        "\n",
        "\n",
        "<h3>จากนั้นไฟล์ .ipynb จะบันทึกที่ Google Drive ของเรา</h3>\n",
        "\n",
        "<img height=\"200px\" src=\"https://raw.githubusercontent.com/adminho/machine-learning/master/images/use_Colab2.png\" align=\"center\" hspace=\"10px\" vspace=\"0px\">\n",
        "\n",
        "---\n",
        "\n",
        "<h3>แต่ถ้าเราไม่มี Gmail ดาวน์โหลดไฟล์ .ipynb แล้วนำไปเปิดที่ Jupyter Notebook ในเครื่องของเรา </h3>\n",
        "\n",
        "\n",
        "<img height=\"500px\" src=\"https://raw.githubusercontent.com/adminho/machine-learning/master/images/use_Colab4.png\" align=\"center\" hspace=\"10px\" vspace=\"0px\">"
      ]
    },
    {
      "cell_type": "markdown",
      "source": [
        "# Data Basics\n",
        "\n",
        "<table>\n",
        "  <tr>\n",
        "    <th>Name</th>\n",
        "    <th>Web page</th>\n",
        "    <th>Data types</th>\n",
        "  </tr>\n",
        "  <tr>\n",
        "    <td>UCI</td>\n",
        "    <td><a href=\"https://archive.ics.uci.edu/ml/index.php\">link</a></td>\n",
        "    <td>Data for machine learning</td>\n",
        "  </tr>\n",
        "  <tr>\n",
        "    <td>WHO</td>\n",
        "    <td><a href=\"https://www.who.int/en\">link</a></td>\n",
        "    <td>Healthcare data</td>\n",
        "  </tr>\n",
        "  <tr>\n",
        "    <td>Amazon Web Service</td>\n",
        "    <td><a href=\"https://registry.opendata.aws/\">link</a></td>\n",
        "    <td>Web usage</td>\n",
        "  </tr>\n",
        "    <tr>\n",
        "    <td>US Government Open Data</td>\n",
        "    <td><a href=\"https://www.data.gov/\">link</a></td>\n",
        "    <td>Agriculture, climate, consumer, and so on</td>\n",
        "  </tr>\n",
        "  <tr>\n",
        "    <td>Github</td>\n",
        "    <td><a href=\"https://github.com/awesomedata/awesome-public-datasets\">link</a></td>\n",
        "    <td>Many datasets offered by individuals</td>\n",
        "  </tr>\n",
        "  <tr>\n",
        "    <td>Open data network</td>\n",
        "    <td><a href=\"https://www.opendatanetwork.com/\">link</a></td>\n",
        "    <td>Many useful datasets</td>\n",
        "  </tr>\n",
        "  <tr>\n",
        "    <td>Government health data</td>\n",
        "    <td><a href=\"https://healthdata.gov/\">link</a></td>\n",
        "    <td>Healthcare-related datasets</td>\n",
        "  </tr>\n",
        "  <tr>\n",
        "    <td>Google public data</td>\n",
        "    <td><a href=\"https://www.google.com/publicdata/directory\">link</a></td>\n",
        "    <td>World development indicators</td>\n",
        "  </tr>\n",
        "  <tr>\n",
        "    <td>Kaggle</td>\n",
        "    <td><a href=\"https://www.kaggle.com/datasets\">link</a></td>\n",
        "    <td>Open datasets and Machine Learning Project</td>\n",
        "  </tr>\n",
        "  <tr>\n",
        "    <td>Federal reserve economic data</td>\n",
        "    <td><a href=\"https://www.federalreserve.gov/datadownload/\">link</a></td>\n",
        "    <td>Data related to selected Federal Reserve Board statistical releases</td>\n",
        "  </tr>\n",
        "  <tr>\n",
        "    <td>Census bureau</td>\n",
        "    <td><a href=\"https://www.census.gov/about/index.html\">link</a></td>\n",
        "    <td>Census data</td>\n",
        "  </tr>\n",
        "  <tr>\n",
        "    <td>US. dept. treasure</td>\n",
        "    <td><a href=\"https://home.treasury.gov/\">link</a></td>\n",
        "    <td>US treasure yield</td>\n",
        "  </tr>\n",
        "  <tr>\n",
        "    <td>Bureau of labor statistics</td>\n",
        "    <td><a href=\"https://www.bls.gov/\">link</a></td>\n",
        "    <td>Inflation, employment, unemployment, pay and benefits, and so on</td>\n",
        "  </tr>\n",
        "  <tr>\n",
        "    <td>Bureau of economic analysis</td>\n",
        "    <td><a href=\"https://www.bea.gov/\">link</a></td>\n",
        "    <td>GDP, personal income outlays, corporate profit, and so on</td>\n",
        "  </tr>\n",
        "  <tr>\n",
        "    <td>National bureau of economic research</td>\n",
        "    <td><a href=\"https://www.nber.org/\">link</a></td>\n",
        "    <td>Business cycles, vital statistics, reports of presidents, and so on</td>\n",
        "  </tr>\n",
        "  <tr>\n",
        "    <td>Yahoo! Finance</td>\n",
        "    <td><a href=\"https://finance.yahoo.com/\">link</a></td>\n",
        "    <td>Historical pricing data, options, balance sheets, and income statements</td>\n",
        "  </tr>\n",
        "  <tr>\n",
        "    <td>Google Finance</td>\n",
        "    <td><a href=\"https://www.google.com/finance/\">link</a></td>\n",
        "    <td>Current and historical trading prices</td>\n",
        "  </tr>\n",
        "  <tr>\n",
        "    <td>Marketwatch</td>\n",
        "    <td><a href=\"https://www.marketwatch.com/\">link</a></td>\n",
        "    <td>Financial statements</td>\n",
        "  </tr>\n",
        "  <tr>\n",
        "    <td>SEC filing</td>\n",
        "    <td><a href=\"https://www.sec.gov/edgar.shtml\">link</a></td>\n",
        "    <td>Balance sheets, income statements, holdings, and so on</td>\n",
        "  </tr>\n",
        "  <tr>\n",
        "    <td>Professor French's data library</td>\n",
        "    <td><a href=\"https://mba.tuck.dartmouth.edu/pages/faculty/ken.french/data_library.html\">link</a></td>\n",
        "    <td>Fama/French factors, market index, risk-free rate, industry classification, and so on</td>\n",
        "  </tr>\n",
        "</table>"
      ],
      "metadata": {
        "id": "vFVyUL1LbTUg"
      }
    },
    {
      "cell_type": "markdown",
      "source": [
        "# Installation of NumPy\n",
        "\n",
        "คำสั่งติดตั้งโมดูล ถ้าไปที่ command line บนเครื่องตัวเอง\n",
        "ให้พิมพ์คำสั่งดังนี้<br>\n",
        "**pip install numpy**\n",
        "\n",
        "<font color='red'>*ปกติแล้ว ถ้าลง Anaconda\n",
        "หรือใช้งาน colab\n",
        "ไม่ต้องพิมพ์คำสั่งดังกล่าว*</font>"
      ],
      "metadata": {
        "id": "Q5zCxhmFWIZa"
      }
    },
    {
      "cell_type": "markdown",
      "metadata": {
        "id": "YbGlFmRxkqUn"
      },
      "source": [
        "# Import NumPy\n",
        "\n",
        "<font color=\"green\"><strong>ต้องนำเข้า Numpy ก่อน ถึงจะใช้งานได้</strong></font>\n",
        "\n",
        "<strong>** คำเตือน</strong> <font color=\"red\"> ถ้าหน้าเว็บ Colab มัน timeout (ถูกตัดขาดการเชื่อมต่อ) ก็ต้องกลับมากดรันโค้ดนี้ใหม่ด้วย</font>\n",
        "\n",
        "หรือเราจะไปที่ Runtime -> เลือก \"Run all\" (คีย์ลัด Ctrl+F9)\n",
        "เพื่อรันหน้านี้ใหม่ทั้งหมด\n",
        "\n",
        "หรือจะวางประโยคคำสั่ง import numpy as np ก่อนประโยคคำสั่งอื่นๆ ในทุกๆ cells"
      ]
    },
    {
      "cell_type": "code",
      "metadata": {
        "id": "oZaJg1AEj0r6"
      },
      "source": [
        "import numpy as np"
      ],
      "execution_count": null,
      "outputs": []
    },
    {
      "cell_type": "markdown",
      "source": [
        "# Numpy Tutorial\n",
        "* NumPy Creating Arrays\n",
        "* NumPy Array Indexing\n",
        "* NumPy Array Slicing\n",
        "* NumPy Data Types\n",
        "* NumPy Array Shape\n",
        "* NumPy Array Reshaping\n",
        "* NumPy Joining Array\n",
        "* NumPy Splitting Array\n",
        "* NumPy Searching Arrays\n",
        "* NumPy Sorting Arrays\n",
        "* NumPy Filter Array"
      ],
      "metadata": {
        "id": "t8EUgMPi3Sn8"
      }
    },
    {
      "cell_type": "markdown",
      "metadata": {
        "id": "XAOQg2Yokzq8"
      },
      "source": [
        "# NumPy Creating Arrays\n",
        "\n",
        "สร้างอาร์เรย์หลายมิติ (ndarray) จากชนิดข้อมูล list, tuple, array-like object โดยใช้ numpy\n",
        "\n",
        "**หมายเหตุ**  อาร์เรย์ใน numpy เรียกว่า **<font color=\"blue\">ndarray</font>**"
      ]
    },
    {
      "cell_type": "markdown",
      "source": [
        "ชนิดข้อมูลใน python ที่รองรับโครงสร้างข้อมูลแบบอาร์เรย์ ก็คือ list กับ tuple\n",
        "\n",
        "* ชนิดข้อมูล list ใน python จะเป็นอาร์เรย์ขยายขนาดได้ และแก้ไขได้\n",
        "* ส่วนชนิดข้อมูล tuple ใน python จะเป็นอาร์เรย์ที่สร้างขึ้นมาแล้ว จะแก้ไขอะไรไม่ได้\n",
        "\n",
        "* ซึ่งชนิดข้อมูลพวกนี้มีข้อจำกัดบางประการ ไม่สะดวกต่อการนำไปใช้ในงาน data science ด้วยเหตุนี้ numpy จึงกำหนดชนิดข้อมูล ndarray ขึ้นมา  เป็นอาร์เรย์หลายมิติ เพื่อให้ช่วยจัดการได้ง่ายขึ้น\n",
        "\n",
        "ตัวอย่าง\n",
        "* ตัวอย่าง list ใน python เช่น [1, 2, 3, 4, 5]\n",
        "* ตัวอย่าง tuple ใน python เช่น (1, 2, 3, 4, 5)"
      ],
      "metadata": {
        "id": "-zwh3g4WeGbh"
      }
    },
    {
      "cell_type": "code",
      "metadata": {
        "id": "4xZVQGVpk6lS",
        "colab": {
          "base_uri": "https://localhost:8080/"
        },
        "outputId": "7e1d9a21-1730-4f62-8d2b-02d919c6e026"
      },
      "source": [
        "# ตัวอย่าง list ใน pyhton\n",
        "[1, 2, 3, 4, 5]"
      ],
      "execution_count": null,
      "outputs": [
        {
          "output_type": "execute_result",
          "data": {
            "text/plain": [
              "[1, 2, 3, 4, 5]"
            ]
          },
          "metadata": {},
          "execution_count": 145
        }
      ]
    },
    {
      "cell_type": "code",
      "source": [
        "# ตัวอย่าง tuple ใน python\n",
        "(1, 2, 3, 4, 5)"
      ],
      "metadata": {
        "colab": {
          "base_uri": "https://localhost:8080/"
        },
        "id": "fB1pxgn73a2c",
        "outputId": "90646495-5208-4428-c186-fcb0da2f27db"
      },
      "execution_count": null,
      "outputs": [
        {
          "output_type": "execute_result",
          "data": {
            "text/plain": [
              "(1, 2, 3, 4, 5)"
            ]
          },
          "metadata": {},
          "execution_count": 146
        }
      ]
    },
    {
      "cell_type": "markdown",
      "source": [
        "**สร้าง ndarray ด้วยฟังก์ชัน array()**\n",
        "\n",
        "<img width=\"40%\" src=\"https://raw.githubusercontent.com/adminho/machine-learning/master/images/ndarry_1-dimension.png\">"
      ],
      "metadata": {
        "id": "_NYyU4oieaT2"
      }
    },
    {
      "cell_type": "code",
      "source": [
        "np.array( [1, 2, 3, 4, 5] ) # สร้าง ndarray จาก list\n",
        "np.array( [1, 2, 3, 4, 5, 6])"
      ],
      "metadata": {
        "id": "GeN9Bp3XZxwL",
        "colab": {
          "base_uri": "https://localhost:8080/"
        },
        "outputId": "deabc2ef-6642-413e-d5d7-00751f7812ec"
      },
      "execution_count": null,
      "outputs": [
        {
          "output_type": "execute_result",
          "data": {
            "text/plain": [
              "array([1, 2, 3, 4, 5, 6])"
            ]
          },
          "metadata": {},
          "execution_count": 147
        }
      ]
    },
    {
      "cell_type": "code",
      "source": [
        "np.array( (1, 2, 3, 4, 5) )  # สร้าง ndarray จาก tuple"
      ],
      "metadata": {
        "colab": {
          "base_uri": "https://localhost:8080/"
        },
        "id": "jB7uRaIW5Aqd",
        "outputId": "f5f5c3cb-5185-4706-c0db-e6a9f9fda94b"
      },
      "execution_count": null,
      "outputs": [
        {
          "output_type": "execute_result",
          "data": {
            "text/plain": [
              "array([1, 2, 3, 4, 5])"
            ]
          },
          "metadata": {},
          "execution_count": 148
        }
      ]
    },
    {
      "cell_type": "markdown",
      "source": [
        "**สามารถมีสมาชิกใน ndarray ไม่ต้องเป็นตัวเลขเสมอไป**"
      ],
      "metadata": {
        "id": "8ZQi4-uSY1tL"
      }
    },
    {
      "cell_type": "code",
      "source": [
        "np.array(['ant', 'bat', 'cat', 'dog', 'elephant']) # สมาชิกข้างในเป็น string"
      ],
      "metadata": {
        "colab": {
          "base_uri": "https://localhost:8080/"
        },
        "id": "ukJYzAVPY1A7",
        "outputId": "34756a00-47e1-4b67-ed65-efd8b4cc151c"
      },
      "execution_count": null,
      "outputs": [
        {
          "output_type": "execute_result",
          "data": {
            "text/plain": [
              "array(['ant', 'bat', 'cat', 'dog', 'elephant'], dtype='<U8')"
            ]
          },
          "metadata": {},
          "execution_count": 149
        }
      ]
    },
    {
      "cell_type": "code",
      "source": [
        "np.array([True, False, False, True]) # สมาชิกข้างในเป็น boolean"
      ],
      "metadata": {
        "colab": {
          "base_uri": "https://localhost:8080/"
        },
        "id": "t-sWp5Hmyrhw",
        "outputId": "f57005e3-17f9-4ee0-c11d-fdb9287cae18"
      },
      "execution_count": null,
      "outputs": [
        {
          "output_type": "execute_result",
          "data": {
            "text/plain": [
              "array([ True, False, False,  True])"
            ]
          },
          "metadata": {},
          "execution_count": 150
        }
      ]
    },
    {
      "cell_type": "markdown",
      "source": [
        "**กำหนดค่าของ ndarray ให้กับตัวแปรมาอ้างอิง**"
      ],
      "metadata": {
        "id": "JIYviHYJjy_a"
      }
    },
    {
      "cell_type": "code",
      "source": [
        "arr = np.array([1, 2, 3, 4, 5])\n",
        "#print(arr)"
      ],
      "metadata": {
        "id": "cFBfqp9oYT83"
      },
      "execution_count": null,
      "outputs": []
    },
    {
      "cell_type": "markdown",
      "source": [
        "**ดูชนิดข้อมูล** โดยใช้ฟังก์ชัน type()"
      ],
      "metadata": {
        "id": "cP5aOXeH3bkQ"
      }
    },
    {
      "cell_type": "code",
      "metadata": {
        "id": "QOhjsjEWlIp4",
        "colab": {
          "base_uri": "https://localhost:8080/"
        },
        "outputId": "606753ee-0618-4661-978e-619952039c3d"
      },
      "source": [
        "type( np.array([1, 2, 3, 4, 5]) )"
      ],
      "execution_count": null,
      "outputs": [
        {
          "output_type": "execute_result",
          "data": {
            "text/plain": [
              "numpy.ndarray"
            ]
          },
          "metadata": {},
          "execution_count": 152
        }
      ]
    },
    {
      "cell_type": "markdown",
      "source": [
        "## ndim กับ shape\n",
        "\n",
        "\n",
        "<img width=\"60%\" src=\"https://raw.githubusercontent.com/adminho/machine-learning/master/images/ndarray_is_object.png\">\n",
        "\n",
        "\n"
      ],
      "metadata": {
        "id": "C-8prADxSvF9"
      }
    },
    {
      "cell_type": "markdown",
      "source": [
        "**ดูมิติ (dimension)** โดยใช้แอตทริบิวต์ ndim\n",
        "\n",
        "\n"
      ],
      "metadata": {
        "id": "_BIWzJiV4qZy"
      }
    },
    {
      "cell_type": "code",
      "source": [
        "np.array([1, 2, 3, 4, 5]).ndim"
      ],
      "metadata": {
        "colab": {
          "base_uri": "https://localhost:8080/"
        },
        "id": "jp5KoTZ07eWj",
        "outputId": "f207ccdd-fd49-46bc-f466-a75bed7cc8f7"
      },
      "execution_count": null,
      "outputs": [
        {
          "output_type": "execute_result",
          "data": {
            "text/plain": [
              "1"
            ]
          },
          "metadata": {},
          "execution_count": 153
        }
      ]
    },
    {
      "cell_type": "markdown",
      "source": [
        "**ดูรูปร่าง (shape)** โดยใช้แอตทริบิวต์ shape จะรีเทิร์นข้อมูลออกมาในรูป tuple"
      ],
      "metadata": {
        "id": "TjEGli2T76es"
      }
    },
    {
      "cell_type": "code",
      "metadata": {
        "id": "4vItEwWb4uvk",
        "colab": {
          "base_uri": "https://localhost:8080/"
        },
        "outputId": "5fbf147d-7cd1-4241-b61c-0ae1480a5d96"
      },
      "source": [
        "np.array([1, 2, 3, 4, 5]).shape # มีสมาชิก 5 ตัว มี shape เป็น (5,)"
      ],
      "execution_count": null,
      "outputs": [
        {
          "output_type": "execute_result",
          "data": {
            "text/plain": [
              "(5,)"
            ]
          },
          "metadata": {},
          "execution_count": 154
        }
      ]
    },
    {
      "cell_type": "markdown",
      "source": [
        "## ข้อควรรู้ Shape\n",
        "\n",
        "index ของ shape ใน ndarray จะเรียกว่า axis (แกน) เป็นการบอกตำแหน่งของแกนมิติ\n",
        "\n",
        "**ตัวอย่าง ndadrray มีขนาด 1 มิติ โดยมี shape เป็น (5,)**\n",
        "\n",
        "ในกรณีนี้\n",
        "\n",
        "* axis หมายเลข 0 มีความยาวเป็น 5\n",
        "\n",
        "<img width=\"15%\" src=\"https://raw.githubusercontent.com/adminho/machine-learning/master/images/shape_axis_1d.png\">\n",
        "<img width=\"40%\" src=\"https://raw.githubusercontent.com/adminho/machine-learning/master/images/ndarry_1-dimension.png\">\n",
        "\n",
        "---\n",
        "\n",
        "**ตัวอย่าง ndadrray มีขนาด 2 มิติ โดยมี shape เป็น (2, 3)**\n",
        "\n",
        "ในกรณีนี้\n",
        "\n",
        "* axis หมายเลข 0 มีความยาวเป็น 2\n",
        "* axis หมายเลข 1 มีความยาวเป็น 3\n",
        "\n",
        "<img width=\"20%\" src=\"https://raw.githubusercontent.com/adminho/machine-learning/master/images/shape_axis_2d.png\">\n",
        "<img width=\"40%\" src=\"https://raw.githubusercontent.com/adminho/machine-learning/master/images/ndarry_2-dimension.png\">\n",
        "\n",
        "---\n",
        "\n",
        "**ตัวอย่าง ndadrray มีขนาด 3 มิติ โดยมี shape เป็น (2, 3, 4)**\n",
        "\n",
        "\n",
        "ในกรณีนี้\n",
        "\n",
        "* axis หมายเลข 0 มีความยาวเป็น 2\n",
        "* axis หมายเลข 1 มีความยาวเป็น 3\n",
        "* axis หมายเลข 2 มีความยาวเป็น 4\n",
        "\n",
        "<img width=\"23%\" src=\"https://raw.githubusercontent.com/adminho/machine-learning/master/images/shape_axis_3d.png\">\n",
        "<img width=\"40%\" src=\"https://raw.githubusercontent.com/adminho/machine-learning/master/images/ndarry_3-dimension.png\">"
      ],
      "metadata": {
        "id": "nKoXrvixyi49"
      }
    },
    {
      "cell_type": "markdown",
      "source": [
        "# Data Types in NumPy\n",
        "\n",
        "\n"
      ],
      "metadata": {
        "id": "z38XC9sWnyvz"
      }
    },
    {
      "cell_type": "markdown",
      "source": [
        "## dtype attribute\n",
        "\n",
        "ฟังก์ชัน type() ต้องการดูว่าอาร์เรย์เป็นชนิดข้อมูล ndarray หรือไม่\n",
        "\n",
        "แต่ถ้าจะดูชนิดข้อมูลของสมาชิกภายใน ndarray ก็ให้ใช้แอตทริบิวต์ dtype"
      ],
      "metadata": {
        "id": "CQYujU_u5_SC"
      }
    },
    {
      "cell_type": "code",
      "source": [
        "arr1 = np.array([1, 2, 3, 4, 5])\n",
        "print(arr1.dtype) # int64 -- integer 64 bits\n",
        "\n",
        "arr2 = np.array(['ant', 'bat', 'cat', 'dog', 'elephant']) # unicode string -- 8 characters\n",
        "print(arr2.dtype) # <U8\n",
        "\n",
        "arr3 = np.array(['ขาว', 'แดง', 'ดำ']) # unicode string -- 3 characters\n",
        "print(arr3.dtype) # <U3"
      ],
      "metadata": {
        "colab": {
          "base_uri": "https://localhost:8080/"
        },
        "id": "99nJMgVZx5TC",
        "outputId": "7817ed0a-2348-4246-af6a-d69e90d0ca91"
      },
      "execution_count": null,
      "outputs": [
        {
          "output_type": "stream",
          "name": "stdout",
          "text": [
            "int64\n",
            "<U8\n",
            "<U3\n"
          ]
        }
      ]
    },
    {
      "cell_type": "markdown",
      "source": [
        "## Creating Arrays With a Defined Data Type <font color=\"red\">(เสริมเพิ่มเติม)</font>"
      ],
      "metadata": {
        "id": "X9ysJOF_6RZO"
      }
    },
    {
      "cell_type": "markdown",
      "source": [
        "**สามารถระบุชนิดข้อมูลของสมาชิก ตั้งแต่เริ่มต้นสร้าง ndarray**\n",
        "\n",
        "โดยจะมีตัวอักษรที่สื่อถึงชนิดข้อมูล ดังนี้\n",
        "\n",
        "* i - integer\n",
        "* b - boolean\n",
        "* u - unsigned integer\n",
        "* f - float\n",
        "* c - complex float\n",
        "* m - timedelta\n",
        "* M - datetime\n",
        "* O - object\n",
        "* S - string\n",
        "* U - unicode string\n",
        "* V - fixed chunk of memory for other type ( void )"
      ],
      "metadata": {
        "id": "E9bKLFvvr-Wp"
      }
    },
    {
      "cell_type": "code",
      "source": [
        "arr = np.array([1, 2, 3, 4, 5], dtype='i4') # integer 4 bytes (8*4 = 32 bits)\n",
        "#arr = np.array([1, 2, 3, 4, 5], dtype='i') # default is 32 bits or 'i4'\n",
        "#arr = np.array([1, 2, 3, 4, 5], dtype='i8') # integer 4 bytes (8*8 = 64 bits)\n",
        "print(arr)\n",
        "print(arr.dtype)"
      ],
      "metadata": {
        "colab": {
          "base_uri": "https://localhost:8080/"
        },
        "id": "ecxibNYr06vj",
        "outputId": "e8b4d69f-12c5-4b25-d90e-64457745d084"
      },
      "execution_count": null,
      "outputs": [
        {
          "output_type": "stream",
          "name": "stdout",
          "text": [
            "[1 2 3 4 5]\n",
            "int32\n"
          ]
        }
      ]
    },
    {
      "cell_type": "markdown",
      "source": [
        "แปลงชนิดข้อมูลของสมาชิกภายใน ndarray ตั้งแต่ตอนสร้าง ndarray ครั้งแรก"
      ],
      "metadata": {
        "id": "1SvX5VQB5vMZ"
      }
    },
    {
      "cell_type": "code",
      "source": [
        "arr = np.array([1, 2, 3, 4, 5], dtype='S') # แปลงชนิดข้อมูลจาก int32 เป็น string\n",
        "print(arr)\n",
        "print(arr.dtype)"
      ],
      "metadata": {
        "colab": {
          "base_uri": "https://localhost:8080/"
        },
        "id": "y4_sHBVU1LN-",
        "outputId": "95da6dac-cbca-4a67-a7c3-9f7f1ad0bbd5"
      },
      "execution_count": null,
      "outputs": [
        {
          "output_type": "stream",
          "name": "stdout",
          "text": [
            "[b'1' b'2' b'3' b'4' b'5']\n",
            "|S1\n"
          ]
        }
      ]
    },
    {
      "cell_type": "markdown",
      "source": [
        "## Converting Data Type on Existing Arrays <font color=\"red\">(เสริมเพิ่มเติม)</font>\n",
        "\n",
        "ใช้ฟังก์ชัน astype()"
      ],
      "metadata": {
        "id": "oq_wVtQK56YP"
      }
    },
    {
      "cell_type": "code",
      "source": [
        "arr = np.array([1.1, 2.1, 3.1]) # float\n",
        "newarr = arr.astype('i') # integer -- default 32 bits or 'i4'\n",
        "\n",
        "print(newarr)\n",
        "print(newarr.dtype)"
      ],
      "metadata": {
        "colab": {
          "base_uri": "https://localhost:8080/"
        },
        "id": "JJ1QI74j5Wy1",
        "outputId": "5b723b82-2d50-462f-96f3-f6d453fbec11"
      },
      "execution_count": null,
      "outputs": [
        {
          "output_type": "stream",
          "name": "stdout",
          "text": [
            "[1 2 3]\n",
            "int32\n"
          ]
        }
      ]
    },
    {
      "cell_type": "markdown",
      "source": [
        "อีกทางเลือกหนึ่ง"
      ],
      "metadata": {
        "id": "al8xP9bd7TVl"
      }
    },
    {
      "cell_type": "code",
      "source": [
        "import numpy as np\n",
        "arr = np.array([1.1, 2.1, 3.1])\n",
        "newarr = arr.astype(int) # integer 64 bits\n",
        "print(newarr)\n",
        "print(newarr.dtype)"
      ],
      "metadata": {
        "colab": {
          "base_uri": "https://localhost:8080/"
        },
        "id": "M_FV0yTz7RpM",
        "outputId": "7b2f543b-aad5-49ce-e2c6-0d1a40c0baa1"
      },
      "execution_count": null,
      "outputs": [
        {
          "output_type": "stream",
          "name": "stdout",
          "text": [
            "[1 2 3]\n",
            "int64\n"
          ]
        }
      ]
    },
    {
      "cell_type": "markdown",
      "source": [
        "**ตัวอย่าง** แปลงตัวเลขเป็น boolean\n",
        " * ถ้าเป็นเลข 0 จะแปลงเป็น False\n",
        " * ถ้าไม่ใช่เลข 0 จะแปลงเป็น True"
      ],
      "metadata": {
        "id": "Jm9vkXJAKy3J"
      }
    },
    {
      "cell_type": "code",
      "source": [
        "arr = np.array([1, 0, -3])\n",
        "newarr = arr.astype(bool)\n",
        "print(newarr)\n",
        "print(newarr.dtype)"
      ],
      "metadata": {
        "colab": {
          "base_uri": "https://localhost:8080/"
        },
        "id": "RKjCxomDKwEY",
        "outputId": "7cc9a3fb-ad1d-4983-e524-a7bb9f6dd5a0"
      },
      "execution_count": null,
      "outputs": [
        {
          "output_type": "stream",
          "name": "stdout",
          "text": [
            "[ True False  True]\n",
            "bool\n"
          ]
        }
      ]
    },
    {
      "cell_type": "markdown",
      "source": [
        "**หมายเหตุ** <font color=\"red\">ถ้าแปลงชนิดข้อมูลไม่ได้ NumPy จะเกิด (ValueError)</font>"
      ],
      "metadata": {
        "id": "bEGhFQaQPw17"
      }
    },
    {
      "cell_type": "markdown",
      "source": [
        "# Creating Multi-dimensional array\n",
        "\n",
        "Dimensions in Arrays\n",
        "\n",
        "* 0-D Arrays\n",
        "* 1-D Arrays เปรียบได้เป็น ตารางแถวเดียว\n",
        "* 2-D Arrays เปรียบได้เป็น ตารางที่มีทั้งแถว และคอลัมน์\n",
        "* 3-D arrays เปรียบได้เป็น ตารางที่ซ่อนกันหลายชั้น\n",
        "* n-D arrays"
      ],
      "metadata": {
        "id": "Hh7QP_QA4w4L"
      }
    },
    {
      "cell_type": "markdown",
      "source": [
        "## 0-D Arrays\n",
        "\n",
        "ndarray ขนาด 0 มิติ จะเป็น scalar หรือเลขจำนวนค่าหนึ่ง"
      ],
      "metadata": {
        "id": "3o0_W8_f5jnl"
      }
    },
    {
      "cell_type": "code",
      "source": [
        "arr = np.array(1)\n",
        "print(arr)\n",
        "print('number of dimensions :', arr.ndim)\n",
        "print('shape :', arr.shape)"
      ],
      "metadata": {
        "colab": {
          "base_uri": "https://localhost:8080/"
        },
        "id": "xw_im38H4v_5",
        "outputId": "18aac3b8-ae2c-48bb-f0df-808cc643d458"
      },
      "execution_count": null,
      "outputs": [
        {
          "output_type": "stream",
          "name": "stdout",
          "text": [
            "1\n",
            "number of dimensions : 0\n",
            "shape : ()\n"
          ]
        }
      ]
    },
    {
      "cell_type": "markdown",
      "source": [
        "## 1-D Arrays\n",
        "\n",
        "<p>ตัวอย่าง ndarray ขนาด 1 มิติ</p>\n",
        "<img width=\"50%\" src=\"https://raw.githubusercontent.com/adminho/machine-learning/master/images/ndarry_1-dimension.png?raw=true\">"
      ],
      "metadata": {
        "id": "-BSRppFe9K8F"
      }
    },
    {
      "cell_type": "code",
      "source": [
        "arr = np.array([1, 2, 3, 4, 5])\n",
        "print(arr)\n",
        "print('number of dimensions :', arr.ndim)\n",
        "print('shape :', arr.shape)"
      ],
      "metadata": {
        "colab": {
          "base_uri": "https://localhost:8080/"
        },
        "id": "dunnKxrA9MVf",
        "outputId": "988965da-c007-4f58-d578-46ea00978fa0"
      },
      "execution_count": null,
      "outputs": [
        {
          "output_type": "stream",
          "name": "stdout",
          "text": [
            "[1 2 3 4 5]\n",
            "number of dimensions : 1\n",
            "shape : (5,)\n"
          ]
        }
      ]
    },
    {
      "cell_type": "markdown",
      "source": [
        "## 2-D Arrays\n",
        "\n",
        "ndarray 2 มิติ ก็คืออาร์เรย์ 1 มิติ ที่ซ้อนอยู่ในอีกอาร์เรย์หนึ่ง\n",
        "สามารถใช้แทน matrix หรือตารางได้\n",
        "\n",
        "<p>ตัวอย่างอาร์เรย์ขนาด 2 มิติ ซึ่งจะมี shape = (2, 3)</p>\n",
        "\n",
        "ถ้าเปรียบ ndarray 2 มิติ เป็นตาราง\n",
        "* axis 0 ก็คือ แถว\n",
        "* axis 1 ก็คือ คอลัมน์\n",
        "\n",
        "ดังนั้น shape = (2, 3) ก็จะประกอบด้วย\n",
        "* มี 2 แถว\n",
        "* มี 3 คอลัมน์\n",
        "\n",
        "<img width=\"40%\" src=\"https://raw.githubusercontent.com/adminho/machine-learning/master/images/ndarry_2-dimension.png\">\n",
        "\n"
      ],
      "metadata": {
        "id": "cVwZy2n19exy"
      }
    },
    {
      "cell_type": "code",
      "source": [
        "arr = np.array([[1, 2, 3],\n",
        "                [4, 5, 6]])\n",
        "\n",
        "print(arr)\n",
        "print('number of dimensions :', arr.ndim)\n",
        "print('shape :', arr.shape)"
      ],
      "metadata": {
        "colab": {
          "base_uri": "https://localhost:8080/"
        },
        "id": "IWya41t_9dfc",
        "outputId": "95cbb3c4-ee0d-43de-d4d6-88b5a66db373"
      },
      "execution_count": null,
      "outputs": [
        {
          "output_type": "stream",
          "name": "stdout",
          "text": [
            "[[1 2 3]\n",
            " [4 5 6]]\n",
            "number of dimensions : 2\n",
            "shape : (2, 3)\n"
          ]
        }
      ]
    },
    {
      "cell_type": "markdown",
      "source": [
        "## 3-D Arrays\n",
        "\n",
        "ndarray 3 มิติ ก็คืออาร์เรย์ 2 มิติ ที่ซ้อนอยู่ในอีกอาร์เรย์หนึ่ง สามารถใช้แทน tensor 3 มิติ\n",
        "\n",
        "<p>ตัวอย่างอาร์เรย์ขนาด 3 มิติ ซึ่งจะมี shape = (2, 3, 4)</p>\n",
        "\n",
        "ถ้าเปรียบ ndarray 3 มิติ เป็นตาราง ก็จะเป็นตารางที่ซ้อนกัน\n",
        "* axis 0 ก็คือ จำนวนตารางที่ซ้อนกัน\n",
        "* axis 1 ก็คือ แถว\n",
        "* axis 2 ก็คือ คอลัมน์\n",
        "\n",
        "ดังนั้น shape = (2, 3, 4) ก็จะประกอบด้วย\n",
        "* จำนวนตาราง 2 อัน\n",
        "* แต่ละตารางมี 3 แถว\n",
        "* แต่ละตารางมี 4 คอลัมน์\n",
        "\n",
        "<img width=\"40%\" src=\"https://raw.githubusercontent.com/adminho/machine-learning/master/images/ndarry_3-dimension.png\">\n",
        "\n",
        "\n",
        "\n"
      ],
      "metadata": {
        "id": "4YGBgHg-_h_A"
      }
    },
    {
      "cell_type": "code",
      "source": [
        "arr = np.array([[[1, 2, 3, 4],\n",
        "                [5, 6, 7, 8],\n",
        "                [9, 10, 11, 12]],\n",
        "\n",
        "                [[13, 14, 15, 16],\n",
        "                 [17, 18, 19, 20],\n",
        "                 [21, 22, 23, 24]]])\n",
        "print(arr)\n",
        "print('number of dimensions :', arr.ndim)\n",
        "print('shape :', arr.shape)"
      ],
      "metadata": {
        "colab": {
          "base_uri": "https://localhost:8080/"
        },
        "id": "K44FWuT3_hhN",
        "outputId": "8ec6eb61-28b7-4996-da5c-5c2e85c28c50"
      },
      "execution_count": null,
      "outputs": [
        {
          "output_type": "stream",
          "name": "stdout",
          "text": [
            "[[[ 1  2  3  4]\n",
            "  [ 5  6  7  8]\n",
            "  [ 9 10 11 12]]\n",
            "\n",
            " [[13 14 15 16]\n",
            "  [17 18 19 20]\n",
            "  [21 22 23 24]]]\n",
            "number of dimensions : 3\n",
            "shape : (2, 3, 4)\n"
          ]
        }
      ]
    },
    {
      "cell_type": "markdown",
      "source": [
        "## Higher Dimensional Arrays <font color=\"red\">(เสริมเพิ่มเติม)</font>\n",
        "\n",
        "ตอนสร้างอาร์เรย์ สามารถกำหนดมิติเท่าไรได้"
      ],
      "metadata": {
        "id": "A1yGwQEDvgU_"
      }
    },
    {
      "cell_type": "code",
      "source": [
        "arr = np.array([1, 2, 3, 4], ndmin=2)\n",
        "print(arr)\n",
        "print('number of dimensions :', arr.ndim)\n",
        "print('shape :', arr.shape)"
      ],
      "metadata": {
        "colab": {
          "base_uri": "https://localhost:8080/"
        },
        "id": "W5o75he4vlOO",
        "outputId": "281b9748-42a6-4fa6-95e1-d3d73f972c4e"
      },
      "execution_count": null,
      "outputs": [
        {
          "output_type": "stream",
          "name": "stdout",
          "text": [
            "[[1 2 3 4]]\n",
            "number of dimensions : 2\n",
            "shape : (1, 4)\n"
          ]
        }
      ]
    },
    {
      "cell_type": "code",
      "source": [
        "arr = np.array([1, 2, 3, 4], ndmin=5)\n",
        "print(arr)\n",
        "print('number of dimensions :', arr.ndim)\n",
        "print('shape :', arr.shape)"
      ],
      "metadata": {
        "colab": {
          "base_uri": "https://localhost:8080/"
        },
        "id": "R-xiMO5ifi0X",
        "outputId": "3d5a69e3-1e37-4289-af14-df9a674284de"
      },
      "execution_count": null,
      "outputs": [
        {
          "output_type": "stream",
          "name": "stdout",
          "text": [
            "[[[[[1 2 3 4]]]]]\n",
            "number of dimensions : 5\n",
            "shape : (1, 1, 1, 1, 4)\n"
          ]
        }
      ]
    },
    {
      "cell_type": "markdown",
      "metadata": {
        "id": "95wCNXa4mAUs"
      },
      "source": [
        "# สร้าง ndarray จากฟังก์ชัน\n",
        "\n",
        "สามารถสร้าง ndarray ด้วยการะบุ shape (tuple) พร้อมด้วยการระบุสมาชิกตั้งต้นให้"
      ]
    },
    {
      "cell_type": "markdown",
      "source": [
        "**ฟังก์ชัน zeros()** จะระบุค่าของสมาชิกทุกตัวใน ndarray เป็นศูนย์หมด"
      ],
      "metadata": {
        "id": "1YBCGuTGO2Uo"
      }
    },
    {
      "cell_type": "code",
      "source": [
        "np.zeros( (5) )    # shape (5) สมาชิกจะเป็นเลข 0 หมด -- 1 มิติ"
      ],
      "metadata": {
        "colab": {
          "base_uri": "https://localhost:8080/"
        },
        "id": "0n6JVwUJODXj",
        "outputId": "df958497-1a60-48b1-ac8f-f50d215fe021"
      },
      "execution_count": null,
      "outputs": [
        {
          "output_type": "execute_result",
          "data": {
            "text/plain": [
              "array([0., 0., 0., 0., 0.])"
            ]
          },
          "metadata": {},
          "execution_count": 167
        }
      ]
    },
    {
      "cell_type": "code",
      "metadata": {
        "id": "VjtmylCEljb4",
        "colab": {
          "base_uri": "https://localhost:8080/"
        },
        "outputId": "67757b3f-5839-4cce-f6a6-3f4062443908"
      },
      "source": [
        "np.zeros((2, 3))    # shape (2, 3) สมาชิกจะเป็นเลข 0 หมด -- 2 มิติ"
      ],
      "execution_count": null,
      "outputs": [
        {
          "output_type": "execute_result",
          "data": {
            "text/plain": [
              "array([[0., 0., 0.],\n",
              "       [0., 0., 0.]])"
            ]
          },
          "metadata": {},
          "execution_count": 168
        }
      ]
    },
    {
      "cell_type": "code",
      "source": [
        "np.zeros((2, 3, 4)) # (2, 3, 4) สมาชิกเป็นเลข 0 หมด -- 3 มิติ"
      ],
      "metadata": {
        "colab": {
          "base_uri": "https://localhost:8080/"
        },
        "id": "3gB0LLXhbaAN",
        "outputId": "14c78d8f-a1d0-4a26-df07-a7ed734605cd"
      },
      "execution_count": null,
      "outputs": [
        {
          "output_type": "execute_result",
          "data": {
            "text/plain": [
              "array([[[0., 0., 0., 0.],\n",
              "        [0., 0., 0., 0.],\n",
              "        [0., 0., 0., 0.]],\n",
              "\n",
              "       [[0., 0., 0., 0.],\n",
              "        [0., 0., 0., 0.],\n",
              "        [0., 0., 0., 0.]]])"
            ]
          },
          "metadata": {},
          "execution_count": 169
        }
      ]
    },
    {
      "cell_type": "markdown",
      "source": [
        "**ฟังก์ชัน ones()** จะระบุค่าของสมาชิกทุกตัวใน ndarray เป็น 1 หมด"
      ],
      "metadata": {
        "id": "ODkDu0pvO7Fd"
      }
    },
    {
      "cell_type": "code",
      "source": [
        "np.ones((5))     # shape (5) สมาชิกจะเป็นเลข 1 หมด -- 1 มิติ"
      ],
      "metadata": {
        "colab": {
          "base_uri": "https://localhost:8080/"
        },
        "id": "Qj5qnoZNOTdJ",
        "outputId": "09b25c65-72ae-407c-e071-e908fcfc7385"
      },
      "execution_count": null,
      "outputs": [
        {
          "output_type": "execute_result",
          "data": {
            "text/plain": [
              "array([1., 1., 1., 1., 1.])"
            ]
          },
          "metadata": {},
          "execution_count": 170
        }
      ]
    },
    {
      "cell_type": "code",
      "metadata": {
        "id": "OA2HrNHmmVyg",
        "colab": {
          "base_uri": "https://localhost:8080/"
        },
        "outputId": "67135db7-e805-47ee-976e-41f7d60e948f"
      },
      "source": [
        "np.ones((2, 3))     # shape (2, 3) สมาชิกจะเป็นเลข 1 หมด -- 2 มิติ"
      ],
      "execution_count": null,
      "outputs": [
        {
          "output_type": "execute_result",
          "data": {
            "text/plain": [
              "array([[1., 1., 1.],\n",
              "       [1., 1., 1.]])"
            ]
          },
          "metadata": {},
          "execution_count": 171
        }
      ]
    },
    {
      "cell_type": "code",
      "source": [
        "np.ones((2, 3, 4)) # (2, 3, 4) สมาชิกเป็นเลข 1 หมด -- 3 มิติ"
      ],
      "metadata": {
        "colab": {
          "base_uri": "https://localhost:8080/"
        },
        "id": "egs3KqI9caI_",
        "outputId": "aa3cff43-46c1-4e26-e057-38dc9e1bf08f"
      },
      "execution_count": null,
      "outputs": [
        {
          "output_type": "execute_result",
          "data": {
            "text/plain": [
              "array([[[1., 1., 1., 1.],\n",
              "        [1., 1., 1., 1.],\n",
              "        [1., 1., 1., 1.]],\n",
              "\n",
              "       [[1., 1., 1., 1.],\n",
              "        [1., 1., 1., 1.],\n",
              "        [1., 1., 1., 1.]]])"
            ]
          },
          "metadata": {},
          "execution_count": 172
        }
      ]
    },
    {
      "cell_type": "markdown",
      "source": [
        "**ฟังก์ชัน full()** จะระบุค่าของสมาชิกทุกตัวใน ndarray เป็นค่าอะไรก็ได้ (ค่าเดียวเหมือนกันหมด)"
      ],
      "metadata": {
        "id": "yuududpBPBcL"
      }
    },
    {
      "cell_type": "code",
      "source": [
        "np.full( (5), 1.1)   # shape = (5) สมาชิกเป็น 1.1 หมด -- 1 มิติ"
      ],
      "metadata": {
        "colab": {
          "base_uri": "https://localhost:8080/"
        },
        "id": "UPjDQ6ppOef-",
        "outputId": "c5f028b9-7032-4629-85c4-97b465d92092"
      },
      "execution_count": null,
      "outputs": [
        {
          "output_type": "execute_result",
          "data": {
            "text/plain": [
              "array([1.1, 1.1, 1.1, 1.1, 1.1])"
            ]
          },
          "metadata": {},
          "execution_count": 173
        }
      ]
    },
    {
      "cell_type": "code",
      "metadata": {
        "id": "feSM5msGm7Mr",
        "colab": {
          "base_uri": "https://localhost:8080/"
        },
        "outputId": "c88946be-29f4-4a43-b503-fd4f8c6aa42c"
      },
      "source": [
        "np.full( (4, 5), 3.2)   # shape = (4, 5) สมาชิกเป็น 3.2 หมด -- 2 มิติ"
      ],
      "execution_count": null,
      "outputs": [
        {
          "output_type": "execute_result",
          "data": {
            "text/plain": [
              "array([[3.2, 3.2, 3.2, 3.2, 3.2],\n",
              "       [3.2, 3.2, 3.2, 3.2, 3.2],\n",
              "       [3.2, 3.2, 3.2, 3.2, 3.2],\n",
              "       [3.2, 3.2, 3.2, 3.2, 3.2]])"
            ]
          },
          "metadata": {},
          "execution_count": 174
        }
      ]
    },
    {
      "cell_type": "code",
      "source": [
        "np.full((2, 3, 4), 0.7) # shape = (2, 3, 4) สมาชิกเป็นเลข 0.7 หมด -- 3 มิติ"
      ],
      "metadata": {
        "colab": {
          "base_uri": "https://localhost:8080/"
        },
        "id": "_Ct_XXlSc25Y",
        "outputId": "49152243-6100-4808-b7ed-0e8e077f4c09"
      },
      "execution_count": null,
      "outputs": [
        {
          "output_type": "execute_result",
          "data": {
            "text/plain": [
              "array([[[0.7, 0.7, 0.7, 0.7],\n",
              "        [0.7, 0.7, 0.7, 0.7],\n",
              "        [0.7, 0.7, 0.7, 0.7]],\n",
              "\n",
              "       [[0.7, 0.7, 0.7, 0.7],\n",
              "        [0.7, 0.7, 0.7, 0.7],\n",
              "        [0.7, 0.7, 0.7, 0.7]]])"
            ]
          },
          "metadata": {},
          "execution_count": 175
        }
      ]
    },
    {
      "cell_type": "markdown",
      "metadata": {
        "id": "xvbASjy6n1ay"
      },
      "source": [
        ":**สร้างสมาชิกใน ndarry 1 มิติ แบบเพิมค่าขึ้นไปเรื่อยๆ ด้วยฟังก์ชัน arange()**"
      ]
    },
    {
      "cell_type": "code",
      "metadata": {
        "id": "xYmqV7GFWrK2",
        "colab": {
          "base_uri": "https://localhost:8080/"
        },
        "outputId": "3630ab6d-c6d5-4000-918b-b2c81c102829"
      },
      "source": [
        "np.arange(5) # สร้าง ndarray 1 มิติ เริ่มตั้งแต่ 0 แต่ยังไม่ถึง 5 (สมาชิก 5 ตัว)"
      ],
      "execution_count": null,
      "outputs": [
        {
          "output_type": "execute_result",
          "data": {
            "text/plain": [
              "array([0, 1, 2, 3, 4])"
            ]
          },
          "metadata": {},
          "execution_count": 176
        }
      ]
    },
    {
      "cell_type": "code",
      "metadata": {
        "id": "8KY9gRlcnz4P",
        "colab": {
          "base_uri": "https://localhost:8080/"
        },
        "outputId": "b04ed445-67b2-42ff-f475-beb1f2af7660"
      },
      "source": [
        "np.arange(5, 10) # สร้าง ndarray 1 มิติ เริ่มตั้งแต่เลข 5 แต่ยังไม่ถึง 10 (เพิ่มทีละ 1 ค่า)"
      ],
      "execution_count": null,
      "outputs": [
        {
          "output_type": "execute_result",
          "data": {
            "text/plain": [
              "array([5, 6, 7, 8, 9])"
            ]
          },
          "metadata": {},
          "execution_count": 177
        }
      ]
    },
    {
      "cell_type": "markdown",
      "source": [
        "**สามารถระบุ step ได้ด้วย**"
      ],
      "metadata": {
        "id": "KgtIHxewd_Ck"
      }
    },
    {
      "cell_type": "code",
      "metadata": {
        "id": "1406I0omntmH",
        "colab": {
          "base_uri": "https://localhost:8080/"
        },
        "outputId": "5d6281bf-6072-443b-ba0d-35c341f2701f"
      },
      "source": [
        "np.arange(0, 10, 2) # เริ่มตั้งแต่เลข 0 เพิ่มไปที่ละ 2 ค่า แต่ยังไม่ถึง 10"
      ],
      "execution_count": null,
      "outputs": [
        {
          "output_type": "execute_result",
          "data": {
            "text/plain": [
              "array([0, 2, 4, 6, 8])"
            ]
          },
          "metadata": {},
          "execution_count": 178
        }
      ]
    },
    {
      "cell_type": "markdown",
      "metadata": {
        "id": "TfFIakXSJA8o"
      },
      "source": [
        "**หรือจะสร้างสมาชิกแบบลดค่าลงไปเรื่อยๆ ก็ได้ โดยใช้ step เป็นค่าติดลบ**"
      ]
    },
    {
      "cell_type": "code",
      "metadata": {
        "id": "V8iWeSfdJDs8",
        "colab": {
          "base_uri": "https://localhost:8080/"
        },
        "outputId": "7aa532fa-487c-4c17-a3d3-2e19fce61cb0"
      },
      "source": [
        "np.arange(10, 5, -1) # เริ่มจาก 10 ลดไปทีละ -1 แต่ยังไม่ถึง 5"
      ],
      "execution_count": null,
      "outputs": [
        {
          "output_type": "execute_result",
          "data": {
            "text/plain": [
              "array([10,  9,  8,  7,  6])"
            ]
          },
          "metadata": {},
          "execution_count": 179
        }
      ]
    },
    {
      "cell_type": "markdown",
      "source": [
        "**ฟังก์ชัน linspace()** สร้างสมาชิกโดยมีค่าอยู่ระหว่างช่วงข้อมูล"
      ],
      "metadata": {
        "id": "4jof4aAyuwyu"
      }
    },
    {
      "cell_type": "code",
      "metadata": {
        "id": "CmQ2LtbjVsc2",
        "colab": {
          "base_uri": "https://localhost:8080/"
        },
        "outputId": "9abe77a1-c5df-4c18-9727-ed4744ed0e1e"
      },
      "source": [
        "# สร้าง ndarray 1 มิติ เลขระหว่าง 0 ถึง 1 โดยจะมีสมาชิก 4 ตัว\n",
        "np.linspace(0, 5, 4)"
      ],
      "execution_count": null,
      "outputs": [
        {
          "output_type": "execute_result",
          "data": {
            "text/plain": [
              "array([0.        , 1.66666667, 3.33333333, 5.        ])"
            ]
          },
          "metadata": {},
          "execution_count": 180
        }
      ]
    },
    {
      "cell_type": "markdown",
      "metadata": {
        "id": "ntcOhjaL5inB"
      },
      "source": [
        "## สร้างสมาชิกใน ndarray แบบ random <font color=\"red\">(เสริมเพิ่มเติม)</font>"
      ]
    },
    {
      "cell_type": "code",
      "metadata": {
        "id": "8PaHleyC5k7T",
        "colab": {
          "base_uri": "https://localhost:8080/"
        },
        "outputId": "dd819032-993b-4f23-e739-1acae8c8fa4a"
      },
      "source": [
        "# ใช้ฟังก์ชัน normal\n",
        "mean = 10\n",
        "stdev = 3    # Standard deviation\n",
        "number_values = 20\n",
        "np.random.normal(mean, stdev, number_values) # normal (Gaussian) distribution"
      ],
      "execution_count": null,
      "outputs": [
        {
          "output_type": "execute_result",
          "data": {
            "text/plain": [
              "array([10.80413169,  8.53060886, 15.63964316,  9.85226606,  9.56324619,\n",
              "        7.52640172, 12.22258656,  5.14684044, 11.49176273,  9.31487439,\n",
              "        5.67795405,  8.89317395, 11.28722899, 10.32047921,  9.94172365,\n",
              "       13.30076544,  8.07560788, 10.38519345, 12.20825879,  1.46240553])"
            ]
          },
          "metadata": {},
          "execution_count": 181
        }
      ]
    },
    {
      "cell_type": "code",
      "metadata": {
        "id": "wrSwaYP9NA7c",
        "colab": {
          "base_uri": "https://localhost:8080/"
        },
        "outputId": "25de9aaa-31b8-4079-c041-0fdfc840e143"
      },
      "source": [
        "# ใช้ฟังก์ชัน randint\n",
        "np.random.randint(0, 10, 20) # สุ่มค่าตั้งแต่ 0 เป็นต้นไป แต่ยังไม่ถึง 10 ( 0 <= N < 10) มีจำนวนสมาชิก 20 ตัว"
      ],
      "execution_count": null,
      "outputs": [
        {
          "output_type": "execute_result",
          "data": {
            "text/plain": [
              "array([5, 5, 9, 4, 8, 9, 6, 9, 2, 0, 9, 2, 7, 5, 4, 8, 3, 3, 5, 1])"
            ]
          },
          "metadata": {},
          "execution_count": 182
        }
      ]
    },
    {
      "cell_type": "code",
      "source": [
        "# ใช้ฟังก์ชัน permutation\n",
        "np.random.permutation(20) # สร้างเลข 0 เป็นต้นไป แต่ยังไม่ถึง 20 ( 0 <= N < 20) -- พร้อมจัดเรียงสับเปลี่ยนลำดับอัตโนมัติ (รันแต่ละครั้งลำดับไม่เหมือนเดิม)"
      ],
      "metadata": {
        "colab": {
          "base_uri": "https://localhost:8080/"
        },
        "id": "zYc1FkFg8t8Z",
        "outputId": "1929cae0-032a-4068-e183-fe0feaf9f34a"
      },
      "execution_count": null,
      "outputs": [
        {
          "output_type": "execute_result",
          "data": {
            "text/plain": [
              "array([19, 10, 12,  2,  3,  7, 17, 18, 15,  9, 13,  8, 14,  1,  6, 16,  0,\n",
              "       11,  5,  4])"
            ]
          },
          "metadata": {},
          "execution_count": 183
        }
      ]
    },
    {
      "cell_type": "code",
      "source": [
        "# สับเปลี่ยนอาร์เรย์\n",
        "np.random.permutation([1, 2, 3, 4, 5])"
      ],
      "metadata": {
        "colab": {
          "base_uri": "https://localhost:8080/"
        },
        "id": "9d9a4pA7Efsu",
        "outputId": "35449f69-476f-4bfc-de7a-a56b87433f78"
      },
      "execution_count": null,
      "outputs": [
        {
          "output_type": "execute_result",
          "data": {
            "text/plain": [
              "array([5, 3, 1, 2, 4])"
            ]
          },
          "metadata": {},
          "execution_count": 184
        }
      ]
    },
    {
      "cell_type": "markdown",
      "metadata": {
        "id": "34NqT8rmA2Ry"
      },
      "source": [
        "# Reshape\n",
        "\n",
        "โดยใช้เมธอด reshape() แล้วได้เป็น **ndarray ตัวใหม่** ที่มี shape เปลี่ยนไป"
      ]
    },
    {
      "cell_type": "markdown",
      "source": [
        "## Reshape From 1-D to 2-D\n",
        "\n",
        "**ข้อควรระวัง** <font color=\"red\">ถ้าปรับขนาดที่ไม่เหมาะสมจะเกิด error (จำนวนสมาชิกเกินมาหรือขาดไม่ได้)</font>"
      ],
      "metadata": {
        "id": "B8mVmx4ZtL8d"
      }
    },
    {
      "cell_type": "code",
      "source": [
        "arr = np.array([1, 2, 3, 4, 5, 6, 7, 8, 9, 10, 11, 12])\n",
        "arr.reshape(4, 3) # แถว=4, คอลัมน์=3"
      ],
      "metadata": {
        "colab": {
          "base_uri": "https://localhost:8080/"
        },
        "id": "lbn1cKxntRED",
        "outputId": "6a866207-07b0-435d-ea4c-fb2af5e2d088"
      },
      "execution_count": null,
      "outputs": [
        {
          "output_type": "execute_result",
          "data": {
            "text/plain": [
              "array([[ 1,  2,  3],\n",
              "       [ 4,  5,  6],\n",
              "       [ 7,  8,  9],\n",
              "       [10, 11, 12]])"
            ]
          },
          "metadata": {},
          "execution_count": 185
        }
      ]
    },
    {
      "cell_type": "markdown",
      "source": [
        "## Reshape From 1-D to 3-D\n",
        "\n",
        "**ข้อควรระวัง** <font color=\"red\">ถ้าปรับขนาดที่ไม่เหมาะสมจะเกิด error (จำนวนสมาชิกเกินมาหรือขาดไม่ได้)</font>"
      ],
      "metadata": {
        "id": "oRgwZ-GcteLO"
      }
    },
    {
      "cell_type": "code",
      "source": [
        "arr = np.array([1, 2, 3, 4, 5, 6, 7, 8, 9, 10, 11, 12, 13, 14, 15, 16, 17, 18, 19, 20, 21, 22, 23, 24])\n",
        "arr.reshape(2, 3, 4) # จำนวนตาราง=2, แถว=3, คอลัมน์=4"
      ],
      "metadata": {
        "colab": {
          "base_uri": "https://localhost:8080/"
        },
        "id": "vMmBf9yxtgyi",
        "outputId": "7a6ec929-8c08-49b2-ccc9-4aa367d7073f"
      },
      "execution_count": null,
      "outputs": [
        {
          "output_type": "execute_result",
          "data": {
            "text/plain": [
              "array([[[ 1,  2,  3,  4],\n",
              "        [ 5,  6,  7,  8],\n",
              "        [ 9, 10, 11, 12]],\n",
              "\n",
              "       [[13, 14, 15, 16],\n",
              "        [17, 18, 19, 20],\n",
              "        [21, 22, 23, 24]]])"
            ]
          },
          "metadata": {},
          "execution_count": 186
        }
      ]
    },
    {
      "cell_type": "markdown",
      "source": [
        "## Unknown Dimension\n",
        "\n",
        "ถ้าไม่รู้ขนาดแกน ก็ให้ใส่ -1 เพื่อให้ reshape คำนวณความยาวให้อัตโนมัติ"
      ],
      "metadata": {
        "id": "42rc9-nUt0V1"
      }
    },
    {
      "cell_type": "code",
      "source": [
        "arr = np.array([1, 2, 3, 4, 5, 6, 7, 8])\n",
        "new_arr = arr.reshape(2, 2, -1)\n",
        "print(new_arr)\n",
        "print('shape :', new_arr.shape)"
      ],
      "metadata": {
        "colab": {
          "base_uri": "https://localhost:8080/"
        },
        "id": "uqPUVhQOtz_W",
        "outputId": "02497e10-bbae-4931-d800-4a1dd9cef225"
      },
      "execution_count": null,
      "outputs": [
        {
          "output_type": "stream",
          "name": "stdout",
          "text": [
            "[[[1 2]\n",
            "  [3 4]]\n",
            "\n",
            " [[5 6]\n",
            "  [7 8]]]\n",
            "shape : (2, 2, 2)\n"
          ]
        }
      ]
    },
    {
      "cell_type": "markdown",
      "source": [
        "## ตัวอย่างอื่นๆ"
      ],
      "metadata": {
        "id": "7JXuRQAb2qfD"
      }
    },
    {
      "cell_type": "markdown",
      "source": [
        "**ตัวอย่าง** แปลง ndarray จาก shape (2, 3) ไปเป็น (3, 2) และ (6, 1)"
      ],
      "metadata": {
        "id": "MLo6komY5AwT"
      }
    },
    {
      "cell_type": "code",
      "metadata": {
        "id": "c3WCMLVFBT_H",
        "colab": {
          "base_uri": "https://localhost:8080/"
        },
        "outputId": "4fdc8591-081f-4add-95e3-2df3b73d2c6f"
      },
      "source": [
        "arr = np.array([[10, 20, 30],\n",
        "                [40, 50 ,60]])\n",
        "print(\"Before reshape\")\n",
        "print(arr)\n",
        "print(\"After reshape to (3, 2)\")\n",
        "new_arr = arr.reshape(3, 2)\n",
        "print(new_arr)\n",
        "print(\"After reshape to (6, 1)\")\n",
        "new_arr = arr.reshape(6, 1)\n",
        "print(new_arr)"
      ],
      "execution_count": null,
      "outputs": [
        {
          "output_type": "stream",
          "name": "stdout",
          "text": [
            "Before reshape\n",
            "[[10 20 30]\n",
            " [40 50 60]]\n",
            "After reshape to (3, 2)\n",
            "[[10 20]\n",
            " [30 40]\n",
            " [50 60]]\n",
            "After reshape to (6, 1)\n",
            "[[10]\n",
            " [20]\n",
            " [30]\n",
            " [40]\n",
            " [50]\n",
            " [60]]\n"
          ]
        }
      ]
    },
    {
      "cell_type": "markdown",
      "source": [
        "**ตัวอย่าง** แปลง ndarrray จาก shape (2, 3, 4) ไปเป็น (3, 2, 4)"
      ],
      "metadata": {
        "id": "G8apb7aq7NwI"
      }
    },
    {
      "cell_type": "code",
      "source": [
        "arr = np.array([[[1, 2, 3, 4],\n",
        "                [5, 6, 7, 8],\n",
        "                [9, 10, 11, 12]],\n",
        "\n",
        "                [[13, 14, 15, 16],\n",
        "                 [17, 18, 19, 20],\n",
        "                 [21, 22, 23, 24]]])\n",
        "print(\"Before reshape\")\n",
        "print(arr)\n",
        "print('shape :', arr.shape)\n",
        "print(\"After reshape to (3, 2, 4)\")\n",
        "new_arr = arr.reshape(3, 2, 4)\n",
        "print(new_arr)"
      ],
      "metadata": {
        "colab": {
          "base_uri": "https://localhost:8080/"
        },
        "id": "e4jdl-p26eBT",
        "outputId": "ecda7dc6-a04b-4d40-c4a6-19f98708848d"
      },
      "execution_count": null,
      "outputs": [
        {
          "output_type": "stream",
          "name": "stdout",
          "text": [
            "Before reshape\n",
            "[[[ 1  2  3  4]\n",
            "  [ 5  6  7  8]\n",
            "  [ 9 10 11 12]]\n",
            "\n",
            " [[13 14 15 16]\n",
            "  [17 18 19 20]\n",
            "  [21 22 23 24]]]\n",
            "shape : (2, 3, 4)\n",
            "After reshape to (3, 2, 4)\n",
            "[[[ 1  2  3  4]\n",
            "  [ 5  6  7  8]]\n",
            "\n",
            " [[ 9 10 11 12]\n",
            "  [13 14 15 16]]\n",
            "\n",
            " [[17 18 19 20]\n",
            "  [21 22 23 24]]]\n"
          ]
        }
      ]
    },
    {
      "cell_type": "markdown",
      "source": [
        "## Flattening the arrays\n",
        "\n",
        "เราสามารถจับ ndarray ที่มีหลายมิติ มายืดออก ให้เหลือ 1 มิติ ด้วยการระบุค่า -1 ส่งไปให้ฟังก์ชัน reshape()"
      ],
      "metadata": {
        "id": "LKMAy4pS5rIS"
      }
    },
    {
      "cell_type": "code",
      "source": [
        "arr = np.array([[1, 2, 3],\n",
        "                [4, 5, 6]])\n",
        "arr.reshape(-1)"
      ],
      "metadata": {
        "id": "R_guozdx6R8a",
        "colab": {
          "base_uri": "https://localhost:8080/"
        },
        "outputId": "4d9e5531-2890-4e7e-cf6a-b6e290f21a2f"
      },
      "execution_count": null,
      "outputs": [
        {
          "output_type": "execute_result",
          "data": {
            "text/plain": [
              "array([1, 2, 3, 4, 5, 6])"
            ]
          },
          "metadata": {},
          "execution_count": 190
        }
      ]
    },
    {
      "cell_type": "markdown",
      "metadata": {
        "id": "MEcAs74FBm8D"
      },
      "source": [
        "# Access Array Elements (1-D)\n",
        "\n"
      ]
    },
    {
      "cell_type": "markdown",
      "source": [
        "## อ่านและแก้ไขค่าสมาชิกใน ndarray ทีละตัว\n",
        "\n",
        "สามารถเข้าถึงสมาชิกแต่ละตัวใน ndarray ด้วยวงเล็บเหลี่ยมเปิดและปิด ([...])\n",
        "และข้างในวงเหล็บเหลี่ยมจะระบุ index เพื่อบอกตำแหน่งของแต่ละสมาชิก\n",
        "\n",
        "ลองพิจารณาตัวอย่าง\n",
        "\n",
        "<img width=\"50%\" src=\"https://raw.githubusercontent.com/adminho/machine-learning/master/images/negative_index.png\">"
      ],
      "metadata": {
        "id": "jv-WekW09LqQ"
      }
    },
    {
      "cell_type": "markdown",
      "source": [
        "**อ่านค่าใน ndarray**"
      ],
      "metadata": {
        "id": "czSKlw3L9oPp"
      }
    },
    {
      "cell_type": "code",
      "metadata": {
        "id": "MR_IHptvBxNw",
        "colab": {
          "base_uri": "https://localhost:8080/"
        },
        "outputId": "bbbee9ba-973d-4713-ce5e-cea5d917643f"
      },
      "source": [
        "arr = np.array([10, 20, 30, 40, 50])\n",
        "print(arr[3]) # อินเดกซ์เป็นบวก\n",
        "print(arr[-2]) # อินเดกซ์เป็นลบ"
      ],
      "execution_count": null,
      "outputs": [
        {
          "output_type": "stream",
          "name": "stdout",
          "text": [
            "40\n",
            "40\n"
          ]
        }
      ]
    },
    {
      "cell_type": "markdown",
      "source": [
        "**แก้ไขสมาชิกใน ndarray**"
      ],
      "metadata": {
        "id": "tA3fvyhURvWB"
      }
    },
    {
      "cell_type": "code",
      "source": [
        "arr = np.array([10, 20, 30, 40, 50])\n",
        "arr[2] = 300\n",
        "arr[-2] = 400\n",
        "print(arr)"
      ],
      "metadata": {
        "colab": {
          "base_uri": "https://localhost:8080/"
        },
        "id": "4I7T_rgDSUbt",
        "outputId": "744bcfc7-94d5-4acd-a2a7-5229db46647c"
      },
      "execution_count": null,
      "outputs": [
        {
          "output_type": "stream",
          "name": "stdout",
          "text": [
            "[ 10  20 300 400  50]\n"
          ]
        }
      ]
    },
    {
      "cell_type": "markdown",
      "metadata": {
        "id": "2LlwTf-aEuQ6"
      },
      "source": [
        "## Slicing\n",
        "\n",
        "Slicing คือการตัดเฉือนสมาชิก ตามช่วงที่ระบุ\n",
        "\n",
        "**รูปแบบการใช้งาน**\n",
        "* arr[<strong><font color=\"orange\">start</font>:<font color=\"blue\">end</font></strong>]\n",
        "* arr[<strong><font color=\"orange\">start</font>:<font color=\"blue\">end</font>:<font color=\"green\">step</font></strong>]\n",
        "\n",
        "การตัดเฉือนสมาชิกใน ndarray จะเริ่มจากตำแหน่ง start แต่ยังไม่ถึง end โดยนับเพิ่มขึ้นทีละ step **(ได้เป็น ndarray ตัวใหม่ออกมา)**\n",
        "\n",
        "**โดยดีฟอลต์**\n",
        "* ถ้าไม่ระบุ startจะมีค่าเป็น 0\n",
        "* ถ้าไม่ระบุ end จะมีค่าเป็นความยาวของมิตินั้นๆ\n",
        "* ถ้าไม่ระบุ step จะมีค่าเป็น 1 (เพิ่มขึ้นที่ละหนึ่ง)"
      ]
    },
    {
      "cell_type": "markdown",
      "source": [
        "**ตัวอย่างการทำ slicing**\n",
        "\n",
        "<img width=\"60%\" src=\"https://raw.githubusercontent.com/adminho/machine-learning/master/images/slicing_index.png\">"
      ],
      "metadata": {
        "id": "36XWbAssBQmX"
      }
    },
    {
      "cell_type": "code",
      "source": [
        "arr = np.array([10, 20, 30, 40, 50])\n",
        "print(arr[1:4])\n",
        "print(arr[4:])  # เสมือนเขียน arr[4:5]\n",
        "print(arr[:4])  # เสมือนเขียน arr[0:4]"
      ],
      "metadata": {
        "colab": {
          "base_uri": "https://localhost:8080/"
        },
        "id": "e6I7S6ypA9EG",
        "outputId": "40cb0ee1-c739-4f4b-9b4d-fb31bad15354"
      },
      "execution_count": null,
      "outputs": [
        {
          "output_type": "stream",
          "name": "stdout",
          "text": [
            "[20 30 40]\n",
            "[50]\n",
            "[10 20 30 40]\n"
          ]
        }
      ]
    },
    {
      "cell_type": "markdown",
      "source": [
        "**ตัวอย่างการทำ slicing โดยใช้ index เป็นค่าลบ**"
      ],
      "metadata": {
        "id": "2isP-zLYBhRj"
      }
    },
    {
      "cell_type": "code",
      "source": [
        "arr = np.array([10, 20, 30, 40, 50])\n",
        "print(arr[-4:-1])\n",
        "print(arr[-1:5])  # เสมือนเขียนเป็น arr[-1:5]\n",
        "print(arr[0:-1])  # เสมือนเขียนเป็น arr[0:-1]"
      ],
      "metadata": {
        "id": "Q2zoQL1ECJ0L",
        "colab": {
          "base_uri": "https://localhost:8080/"
        },
        "outputId": "39925acd-edbe-40e2-ae15-e6d6abeb5f8b"
      },
      "execution_count": null,
      "outputs": [
        {
          "output_type": "stream",
          "name": "stdout",
          "text": [
            "[20 30 40]\n",
            "[50]\n",
            "[10 20 30 40]\n"
          ]
        }
      ]
    },
    {
      "cell_type": "markdown",
      "source": [
        "### การระบุ Step ตอนทำ slicing\n",
        "\n",
        "<img width=\"60%\" src=\"https://raw.githubusercontent.com/adminho/machine-learning/master/images/slicing_index.png\">"
      ],
      "metadata": {
        "id": "jsSWcFh_gVsi"
      }
    },
    {
      "cell_type": "markdown",
      "metadata": {
        "id": "rVL8w_hjHAqq"
      },
      "source": [
        "**ตัวอย่างการทำ slicing เพิ่มทีละสเตป (ค่าบวก)**"
      ]
    },
    {
      "cell_type": "code",
      "metadata": {
        "id": "dyjMDPwJHGJL",
        "colab": {
          "base_uri": "https://localhost:8080/"
        },
        "outputId": "e309ae78-a568-43fa-8f2c-7b9a75c8b310"
      },
      "source": [
        "arr = np.array([10, 20, 30, 40, 50])\n",
        "arr[::2] # slicing มาห่างกันทีละ 2 อินเด็กซ์ เสมือนเขียน arr[0:5:2]"
      ],
      "execution_count": null,
      "outputs": [
        {
          "output_type": "execute_result",
          "data": {
            "text/plain": [
              "array([10, 30, 50])"
            ]
          },
          "metadata": {},
          "execution_count": 195
        }
      ]
    },
    {
      "cell_type": "code",
      "metadata": {
        "id": "_zpkA6UcHQsp",
        "colab": {
          "base_uri": "https://localhost:8080/"
        },
        "outputId": "b46b9009-934f-4884-efa4-8fcbc0db98d7"
      },
      "source": [
        "arr = np.array([10, 20, 30, 40, 50])\n",
        "arr[0:3:2] # slicing เริ่มที่อินเด็กซ์ start=0 (ยังไม่ถึงอินเด็กซ์ end=3) และเพิ่มทีละ 2 อินเด็กซ์"
      ],
      "execution_count": null,
      "outputs": [
        {
          "output_type": "execute_result",
          "data": {
            "text/plain": [
              "array([10, 30])"
            ]
          },
          "metadata": {},
          "execution_count": 196
        }
      ]
    },
    {
      "cell_type": "markdown",
      "metadata": {
        "id": "FM0IrKB2Hp5m"
      },
      "source": [
        "**สามารถมี step เป็นค่าติดลบ เพื่อประยุกต์ reverse ย้อนกลับหลังได้**\n",
        "\n",
        "\n",
        "\n",
        "\n",
        "\n",
        "\n",
        "<img width=\"60%\" src=\"https://raw.githubusercontent.com/adminho/machine-learning/master/images/slicing_index.png\">"
      ]
    },
    {
      "cell_type": "code",
      "metadata": {
        "id": "ADdmf7btHyCd",
        "colab": {
          "base_uri": "https://localhost:8080/"
        },
        "outputId": "b7a09659-a58b-4132-f812-f55704fcc7d7"
      },
      "source": [
        "arr = np.array([10, 20, 30, 40, 50])\n",
        "arr[::-1] # ขยับลดทีละ -1 อินเด็กซ์ จากหลังไปหน้า เสมือนเขียน arr[0:5:-1]"
      ],
      "execution_count": null,
      "outputs": [
        {
          "output_type": "execute_result",
          "data": {
            "text/plain": [
              "array([50, 40, 30, 20, 10])"
            ]
          },
          "metadata": {},
          "execution_count": 197
        }
      ]
    },
    {
      "cell_type": "code",
      "metadata": {
        "id": "E20pGl3hH6d6",
        "colab": {
          "base_uri": "https://localhost:8080/"
        },
        "outputId": "b00fb5cf-7b76-402d-cf5e-64361019b404"
      },
      "source": [
        "arr = np.array([10, 20, 30, 40, 50])\n",
        "arr[::-2] # ขยับลดทีละ -2 อินเด็กซ์ จากหลังไปหน้า เสมือนเขียน arr[0:5:-2]"
      ],
      "execution_count": null,
      "outputs": [
        {
          "output_type": "execute_result",
          "data": {
            "text/plain": [
              "array([50, 30, 10])"
            ]
          },
          "metadata": {},
          "execution_count": 198
        }
      ]
    },
    {
      "cell_type": "code",
      "metadata": {
        "id": "nFT_vCp6H-vf",
        "colab": {
          "base_uri": "https://localhost:8080/"
        },
        "outputId": "88461807-736f-4473-b4b4-75e366d204c4"
      },
      "source": [
        "arr = np.array([10, 20, 30, 40, 50])\n",
        "# ถ้า start > end\n",
        "# ดู start กับ end ตรงตำแหน่ง index โดยตรง\n",
        "arr[4:2:-1] # ตำแหน่งเริ่มต้นอินเด็กซ์ start=4 ไล่ย้อนมา (ยังไม่ถึงอินเดกซ์ end=2 )โดยลดทีละ -1 อินเด็กซ์"
      ],
      "execution_count": null,
      "outputs": [
        {
          "output_type": "execute_result",
          "data": {
            "text/plain": [
              "array([50, 40])"
            ]
          },
          "metadata": {},
          "execution_count": 199
        }
      ]
    },
    {
      "cell_type": "markdown",
      "metadata": {
        "id": "ckW7M3uFdWHc"
      },
      "source": [
        "**ข้อสังเกต ถ้า slicing โดยใช้ : หมายถึงเข้าถึงสมาชิกทั้งหมดในแกนนั้นๆ**"
      ]
    },
    {
      "cell_type": "code",
      "metadata": {
        "id": "q4BTMBTNdbbr",
        "colab": {
          "base_uri": "https://localhost:8080/"
        },
        "outputId": "90b2d0ad-ac13-495d-9aab-830dd23f6935"
      },
      "source": [
        "arr = np.array([10, 20, 30, 40, 50])\n",
        "print( arr[:] ) # เสมือนเขียน arr[0:5]\n",
        "print( arr[::1] ) # เสมือนเขียน arr[0:5:1]"
      ],
      "execution_count": null,
      "outputs": [
        {
          "output_type": "stream",
          "name": "stdout",
          "text": [
            "[10 20 30 40 50]\n",
            "[10 20 30 40 50]\n"
          ]
        }
      ]
    },
    {
      "cell_type": "markdown",
      "source": [
        "## อ่านและแก้ไขค่าสมาชิกใน ndarray เป็นช่วงข้อมูล\n",
        "\n",
        "โดยสามารถนำการ slicing มาประยุกต์ใช้ได้ เพื่อแก้ไขข้อมูล ในช่วงข้อมูลใดข้อมูลหนึ่ง\n",
        "\n",
        "<img width=\"60%\" src=\"https://raw.githubusercontent.com/adminho/machine-learning/master/images/slicing_index.png\">"
      ],
      "metadata": {
        "id": "cnvi_vSNWdcv"
      }
    },
    {
      "cell_type": "markdown",
      "metadata": {
        "id": "_utlNvWVg4Fm"
      },
      "source": [
        "**แก้ไขบางช่วงของ ndarray**"
      ]
    },
    {
      "cell_type": "code",
      "metadata": {
        "id": "WUICK-tQg6Bq",
        "colab": {
          "base_uri": "https://localhost:8080/"
        },
        "outputId": "21e443d3-8526-4391-9222-9c05889af52e"
      },
      "source": [
        "arr = np.array([10, 20, 30, 40, 50])\n",
        "arr[2:4] = -100\n",
        "print(arr)"
      ],
      "execution_count": null,
      "outputs": [
        {
          "output_type": "stream",
          "name": "stdout",
          "text": [
            "[  10   20 -100 -100   50]\n"
          ]
        }
      ]
    },
    {
      "cell_type": "markdown",
      "source": [
        "**แก้ไขข้อมูลทั้งหมดใน ndarray ให้มีค่าเดียวกันหมด**"
      ],
      "metadata": {
        "id": "QkyO_dckVRrs"
      }
    },
    {
      "cell_type": "code",
      "metadata": {
        "id": "_m25pGjRd4-h",
        "colab": {
          "base_uri": "https://localhost:8080/"
        },
        "outputId": "a732ca57-873b-4661-c030-7c6f9353018c"
      },
      "source": [
        "arr = np.array([10, 20, 30, 40, 50])\n",
        "arr[:] = 255 # ห้ามเขียน arr = 255\n",
        "print(arr)"
      ],
      "execution_count": null,
      "outputs": [
        {
          "output_type": "stream",
          "name": "stdout",
          "text": [
            "[255 255 255 255 255]\n"
          ]
        }
      ]
    },
    {
      "cell_type": "markdown",
      "metadata": {
        "id": "_c-dkCOZd16-"
      },
      "source": [
        "**ข้อสังเกต การแก้ไขข้อมูลใน ndarray ทั้งชุด**\n",
        "\n",
        "ต้อง slicing มาทั้งหมดก่อน แล้วถึงอัปเดตทีหลัง\n",
        "เพราะถ้าเขียน arr = 255\n",
        "จะเป็นการเปลี่ยนให้ arr ชี้ไปยังตัวเลข 255 ไม่ใช่ np.array([10, 20, 30, 40, 50])"
      ]
    },
    {
      "cell_type": "markdown",
      "metadata": {
        "id": "aV6rl7yACbjk"
      },
      "source": [
        "# Access Array Elements (2-D)\n",
        "\n",
        "\n",
        "\n"
      ]
    },
    {
      "cell_type": "markdown",
      "source": [
        "**เข้าถึงสมาชิกที่ละตัว โดยใช้วงเล็บเหลี่ยมเปิดและปิด ([...])**\n",
        "\n",
        "<img width=\"50%\" src=\"https://raw.githubusercontent.com/adminho/machine-learning/master/images/Access_Array_Elements_2-D.png\">"
      ],
      "metadata": {
        "id": "OtNcSXu_WTHw"
      }
    },
    {
      "cell_type": "code",
      "source": [
        "arr = np.array([[10, 20, 30, 40, 50],\n",
        "                [60, 70, 80, 90, 100]])\n",
        "print(arr[1, 2])\n",
        "\n",
        "# เข้าถึงอินเด็กซ์เป็นลบ\n",
        "print(arr[-2,-3])"
      ],
      "metadata": {
        "colab": {
          "base_uri": "https://localhost:8080/"
        },
        "id": "U97_5qowWSmB",
        "outputId": "cd9c1771-4dd8-4cbb-a5f9-06fb2c2d9cfb"
      },
      "execution_count": null,
      "outputs": [
        {
          "output_type": "stream",
          "name": "stdout",
          "text": [
            "80\n",
            "30\n"
          ]
        }
      ]
    },
    {
      "cell_type": "markdown",
      "source": [
        "**สามารถทำ slicing ก็ได้ (ได้เป็น ndarray ตัวใหม่ออกมา)**\n",
        "\n",
        "<img width=\"60%\" src=\"https://raw.githubusercontent.com/adminho/machine-learning/master/images/Access_Array_Elements_2-D_slicing.png\">\n"
      ],
      "metadata": {
        "id": "49FAvWxsZ956"
      }
    },
    {
      "cell_type": "code",
      "source": [
        "arr = np.array([[10, 20, 30, 40, 50],\n",
        "                [60, 70, 80, 90, 100]])\n",
        "\n",
        "print(arr[1, 1:4])\n",
        "print(arr[0:2, 2])\n",
        "print(arr[0:2, 1:4])"
      ],
      "metadata": {
        "colab": {
          "base_uri": "https://localhost:8080/"
        },
        "id": "qKmxzNLtT1rL",
        "outputId": "2f52081c-08e8-40a9-ae71-3945ad09d97d"
      },
      "execution_count": null,
      "outputs": [
        {
          "output_type": "stream",
          "name": "stdout",
          "text": [
            "[70 80 90]\n",
            "[30 80]\n",
            "[[20 30 40]\n",
            " [70 80 90]]\n"
          ]
        }
      ]
    },
    {
      "cell_type": "markdown",
      "metadata": {
        "id": "S6Yj-DENL16I"
      },
      "source": [
        "**หรือจะ slice โดยระบุ step**"
      ]
    },
    {
      "cell_type": "code",
      "metadata": {
        "id": "Am7QOPGbL1a4",
        "colab": {
          "base_uri": "https://localhost:8080/"
        },
        "outputId": "7e296067-4aea-4ceb-8eac-0980d2fb65aa"
      },
      "source": [
        "arr = np.array([[10, 20, 30, 40, 50],\n",
        "                [60, 70, 80, 90, 100]])\n",
        "arr[::2, ::2] # เสมือนเขียน arr[0:2:2, 0:5:2]"
      ],
      "execution_count": null,
      "outputs": [
        {
          "output_type": "execute_result",
          "data": {
            "text/plain": [
              "array([[10, 30, 50]])"
            ]
          },
          "metadata": {},
          "execution_count": 205
        }
      ]
    },
    {
      "cell_type": "markdown",
      "source": [
        "\n",
        "\n",
        "**เข้าถึงแค่มิติแรกอย่างเดียวก็ได้ (เข้าถึงแถวอย่างเดียว)**"
      ],
      "metadata": {
        "id": "dWa4cXuVYGkb"
      }
    },
    {
      "cell_type": "code",
      "source": [
        "arr = np.array([[10, 20, 30, 40, 50],\n",
        "                [60, 70, 80, 90, 100]])\n",
        "print(arr[1]) # เข้าถึงแถว ตรง index = 1\n",
        "print(arr[-2]) # เข้าถึงแถว ตรง index = -2\n",
        "print(arr[1:2]) # เข้าถึงแถว โดยการทำ slicing เป็น 1:2"
      ],
      "metadata": {
        "colab": {
          "base_uri": "https://localhost:8080/"
        },
        "id": "U65fWMv2Zx7J",
        "outputId": "aa07b814-20ff-45f6-bdff-2cb4f087c48f"
      },
      "execution_count": null,
      "outputs": [
        {
          "output_type": "stream",
          "name": "stdout",
          "text": [
            "[ 60  70  80  90 100]\n",
            "[10 20 30 40 50]\n",
            "[[ 60  70  80  90 100]]\n"
          ]
        }
      ]
    },
    {
      "cell_type": "markdown",
      "source": [
        "**slicing โดยใช้ : เพื่อเข้าถึงสมาชิกทุกตัวในแกนนั้นๆ**"
      ],
      "metadata": {
        "id": "Jebx87sSeQKK"
      }
    },
    {
      "cell_type": "code",
      "source": [
        "arr = np.array([[10, 20, 30, 40, 50],\n",
        "                [60, 70, 80, 90, 100]])\n",
        "print(arr[1, :]) # เสมือนเขียน arr[1, 0:5] หรือ arr[1]"
      ],
      "metadata": {
        "colab": {
          "base_uri": "https://localhost:8080/"
        },
        "id": "3SPlYQejem0h",
        "outputId": "e3ecc3aa-afcb-46cc-f67d-fb699595c2bb"
      },
      "execution_count": null,
      "outputs": [
        {
          "output_type": "stream",
          "name": "stdout",
          "text": [
            "[ 60  70  80  90 100]\n"
          ]
        }
      ]
    },
    {
      "cell_type": "markdown",
      "source": [
        "**ประยุกต์ใช้ slicing เพื่อเข้าถึงข้อมูลเป็นช่วง แล้วแก้ไขให้มีค่าเดียวกัน**\n",
        "\n",
        "<img width=\"60%\" src=\"https://raw.githubusercontent.com/adminho/machine-learning/master/images/Access_Array_Elements_2-D_slicing.png\">"
      ],
      "metadata": {
        "id": "fIY4CkqAfPSd"
      }
    },
    {
      "cell_type": "code",
      "source": [
        "arr = np.array([[10, 20, 30, 40, 50],\n",
        "                [60, 70, 80, 90, 100]])\n",
        "arr[:, 1:3] = -1  # เสมือนเขียน arr[0:2, 1:3] = -1\n",
        "print(arr)"
      ],
      "metadata": {
        "colab": {
          "base_uri": "https://localhost:8080/"
        },
        "id": "97Dbat2ufzH2",
        "outputId": "e7f591de-3180-4624-dcd5-85c4086fb753"
      },
      "execution_count": null,
      "outputs": [
        {
          "output_type": "stream",
          "name": "stdout",
          "text": [
            "[[ 10  -1  -1  40  50]\n",
            " [ 60  -1  -1  90 100]]\n"
          ]
        }
      ]
    },
    {
      "cell_type": "markdown",
      "source": [
        "**หรือจะเลือกเข้าถึงแค่มิติแรก (เข้าถึงแถว) แล้วแก้ไขทั้งแถว ให้มีค่าเดียวกันหมด**"
      ],
      "metadata": {
        "id": "r6-0-acPiMvK"
      }
    },
    {
      "cell_type": "code",
      "source": [
        "arr = np.array([[10, 20, 30, 40, 50],\n",
        "                [60, 70, 80, 90, 100]])\n",
        "arr[1] = 3 # เข้าถึงแถวตรง index = 1\n",
        "print(arr)"
      ],
      "metadata": {
        "colab": {
          "base_uri": "https://localhost:8080/"
        },
        "id": "CSLyaikviUQ2",
        "outputId": "32af1801-b300-40ad-fa24-0e3094c91052"
      },
      "execution_count": null,
      "outputs": [
        {
          "output_type": "stream",
          "name": "stdout",
          "text": [
            "[[10 20 30 40 50]\n",
            " [ 3  3  3  3  3]]\n"
          ]
        }
      ]
    },
    {
      "cell_type": "markdown",
      "source": [
        "**แก้ไขค่าทั้งหมดใน ndarray ให้มีค่าเดียวกันหมด**"
      ],
      "metadata": {
        "id": "B5hvnOyAhAba"
      }
    },
    {
      "cell_type": "code",
      "source": [
        "arr = np.array([[10, 20, 30, 40, 50],\n",
        "                [60, 70, 80, 90, 100]])\n",
        "arr[:] = 1 # เสมือนเขียน arr[0:2] = 1 (เข้าถึงทุกแถวในอาร์เรย์ แล้วกำหนดค่าให้กับสมาชิกทุกตัวเป็น 1 หมดในคราวเดียวกัน)\n",
        "print(arr)"
      ],
      "metadata": {
        "colab": {
          "base_uri": "https://localhost:8080/"
        },
        "id": "2GpPsvtJhFy4",
        "outputId": "4c255bcd-f983-4735-b047-90c6dc76cbaf"
      },
      "execution_count": null,
      "outputs": [
        {
          "output_type": "stream",
          "name": "stdout",
          "text": [
            "[[1 1 1 1 1]\n",
            " [1 1 1 1 1]]\n"
          ]
        }
      ]
    },
    {
      "cell_type": "markdown",
      "source": [
        "**ข้อสังเกต การแก้ไขข้อมูลใน ndarray ทั้งชุด**\n",
        "\n",
        "ต้อง slicing มาทั้งหมดก่อน แล้วถึงอัปเดตทีหลัง\n",
        "เพราะถ้าเขียน arr = 1\n",
        "จะเป็นการเปลี่ยนให้ arr ชี้ไปยังตัวเลข 1 ไม่ใช่ ndarray"
      ],
      "metadata": {
        "id": "mYaSPWkc8ijC"
      }
    },
    {
      "cell_type": "markdown",
      "source": [
        "# Access Array Elements (3-D) <font color=\"red\">(เสริมเพิ่มเติม)</font>"
      ],
      "metadata": {
        "id": "wKCJaMsQeHIc"
      }
    },
    {
      "cell_type": "markdown",
      "metadata": {
        "id": "IZzKcXuJeJvE"
      },
      "source": [
        "**ตัวอย่างใช้** เครื่องหมาย : เพื่อทำการ slicing เข้าถึงทั้งมิตินั้นๆ"
      ]
    },
    {
      "cell_type": "code",
      "metadata": {
        "id": "SwBejpvCeMsK",
        "colab": {
          "base_uri": "https://localhost:8080/"
        },
        "outputId": "2f5691e1-d85c-49d1-809c-3539350a12ed"
      },
      "source": [
        "x = np.array( [\n",
        "                [[1, 2, 3],\n",
        "                 [4, 5 ,6],\n",
        "                 [7, 8, 9]],\n",
        "\n",
        "                [[11, 12, 13],\n",
        "                 [14, 15 ,16],\n",
        "                 [17, 18, 19]]\n",
        "              ]\n",
        "             )\n",
        "\n",
        "print(\"shape = \", x.shape)\n",
        "print( x[1, : , :])\n",
        "print( x[:, 2 , :])\n",
        "print( x[:, : , 0])"
      ],
      "execution_count": null,
      "outputs": [
        {
          "output_type": "stream",
          "name": "stdout",
          "text": [
            "shape =  (2, 3, 3)\n",
            "[[11 12 13]\n",
            " [14 15 16]\n",
            " [17 18 19]]\n",
            "[[ 7  8  9]\n",
            " [17 18 19]]\n",
            "[[ 1  4  7]\n",
            " [11 14 17]]\n"
          ]
        }
      ]
    },
    {
      "cell_type": "markdown",
      "metadata": {
        "id": "AldhdO5ggcCT"
      },
      "source": [
        "แก้ไขค่าทั้งหมด โดยระบุช่วงข้อมูลที่ต้องการ (ใช้ slicing)"
      ]
    },
    {
      "cell_type": "code",
      "metadata": {
        "id": "oIA2g57Lhoq_",
        "colab": {
          "base_uri": "https://localhost:8080/"
        },
        "outputId": "d197f778-d381-4f0a-8089-9790383e9cd4"
      },
      "source": [
        "x[0:1, : , :] = 72\n",
        "x"
      ],
      "execution_count": null,
      "outputs": [
        {
          "output_type": "execute_result",
          "data": {
            "text/plain": [
              "array([[[72, 72, 72],\n",
              "        [72, 72, 72],\n",
              "        [72, 72, 72]],\n",
              "\n",
              "       [[11, 12, 13],\n",
              "        [14, 15, 16],\n",
              "        [17, 18, 19]]])"
            ]
          },
          "metadata": {},
          "execution_count": 212
        }
      ]
    },
    {
      "cell_type": "code",
      "metadata": {
        "id": "OYd1aebagfGK",
        "colab": {
          "base_uri": "https://localhost:8080/"
        },
        "outputId": "d61f1b09-19cb-4546-a568-a750c727a87a"
      },
      "source": [
        "x[:, 0:1 , :] = 255\n",
        "x"
      ],
      "execution_count": null,
      "outputs": [
        {
          "output_type": "execute_result",
          "data": {
            "text/plain": [
              "array([[[255, 255, 255],\n",
              "        [ 72,  72,  72],\n",
              "        [ 72,  72,  72]],\n",
              "\n",
              "       [[255, 255, 255],\n",
              "        [ 14,  15,  16],\n",
              "        [ 17,  18,  19]]])"
            ]
          },
          "metadata": {},
          "execution_count": 213
        }
      ]
    },
    {
      "cell_type": "code",
      "metadata": {
        "id": "T6v_-hEUhSgp",
        "colab": {
          "base_uri": "https://localhost:8080/"
        },
        "outputId": "343f4cd1-dcaf-4c53-f54d-c7967b54c545"
      },
      "source": [
        "x [:, :, 1:3] = -10\n",
        "x"
      ],
      "execution_count": null,
      "outputs": [
        {
          "output_type": "execute_result",
          "data": {
            "text/plain": [
              "array([[[255, -10, -10],\n",
              "        [ 72, -10, -10],\n",
              "        [ 72, -10, -10]],\n",
              "\n",
              "       [[255, -10, -10],\n",
              "        [ 14, -10, -10],\n",
              "        [ 17, -10, -10]]])"
            ]
          },
          "metadata": {},
          "execution_count": 214
        }
      ]
    },
    {
      "cell_type": "markdown",
      "metadata": {
        "id": "HlUYJgh9iH-1"
      },
      "source": [
        "หรือจะเปลี่ยนค่าของสมาชิกทุกตัวในคราวเดียวกัน"
      ]
    },
    {
      "cell_type": "code",
      "metadata": {
        "id": "SDke53xJgv2h",
        "colab": {
          "base_uri": "https://localhost:8080/"
        },
        "outputId": "be683c60-c42e-4ec0-c80c-4f3a22115c42"
      },
      "source": [
        "x[:, :, :] = -333 # ห้ามเขียน x = 333\n",
        "print(x)\n",
        "x[:] = 222 # ห้ามเขียน x = 22\n",
        "print(x)"
      ],
      "execution_count": null,
      "outputs": [
        {
          "output_type": "stream",
          "name": "stdout",
          "text": [
            "[[[-333 -333 -333]\n",
            "  [-333 -333 -333]\n",
            "  [-333 -333 -333]]\n",
            "\n",
            " [[-333 -333 -333]\n",
            "  [-333 -333 -333]\n",
            "  [-333 -333 -333]]]\n",
            "[[[222 222 222]\n",
            "  [222 222 222]\n",
            "  [222 222 222]]\n",
            "\n",
            " [[222 222 222]\n",
            "  [222 222 222]\n",
            "  [222 222 222]]]\n"
          ]
        }
      ]
    },
    {
      "cell_type": "markdown",
      "metadata": {
        "id": "ku5ja4ZDNqeg"
      },
      "source": [
        "# เข้าถึงสมาชิกใน ndarray หลายๆ ค่า ด้วยการระบุ index หลายๆ ค่า (indices)\n",
        "\n",
        "โดยภายในเครื่องหมายวงเล็บเหลี่ยมเปิดและปิด ([...]) จะกำหนดให้มี list ของ\n",
        "index ต่างๆ (จะมีวงเหล็บเหลี่ยมเปิดและปิดซ้อนกันสองชั้น) เพื่อกรองเอาสมาชิกที่ต้องการออกมา **(ได้เป็น ndarray ตัวใหม่ออกมา)**"
      ]
    },
    {
      "cell_type": "markdown",
      "source": [
        "**ตัวอย่าง**\n",
        "\n",
        "<img width=\"40%\" src=\"https://raw.githubusercontent.com/adminho/machine-learning/master/images/ndarray_many_indices.png\">"
      ],
      "metadata": {
        "id": "K8KABHuT_lFA"
      }
    },
    {
      "cell_type": "code",
      "metadata": {
        "id": "riUPsX9LNu0B",
        "colab": {
          "base_uri": "https://localhost:8080/"
        },
        "outputId": "7802a3f2-da9c-4da2-afdf-20d32e6c8931"
      },
      "source": [
        "arr = np.array([10 , 20 , 30 , 40 , 50])\n",
        "arr[[0, 2, 4]]"
      ],
      "execution_count": null,
      "outputs": [
        {
          "output_type": "execute_result",
          "data": {
            "text/plain": [
              "array([10, 30, 50])"
            ]
          },
          "metadata": {},
          "execution_count": 216
        }
      ]
    },
    {
      "cell_type": "markdown",
      "metadata": {
        "id": "6s6mtc9QPwwU"
      },
      "source": [
        "**ระบุอินเด็กซ์โดยใช้ ndarray ก็ได้**"
      ]
    },
    {
      "cell_type": "code",
      "metadata": {
        "id": "aPumjeExPgpo",
        "colab": {
          "base_uri": "https://localhost:8080/"
        },
        "outputId": "5205fbca-99af-447a-d67e-40c12e5fb6ad"
      },
      "source": [
        "arr = np.array([10 , 20 , 30 , 40 , 50])\n",
        "indices = np.array([0, 2, 4])\n",
        "arr[indices] # arr[[0, 2, 4]]\n",
        "arr[[0, 2, 4]]"
      ],
      "execution_count": null,
      "outputs": [
        {
          "output_type": "execute_result",
          "data": {
            "text/plain": [
              "array([10, 30, 50])"
            ]
          },
          "metadata": {},
          "execution_count": 217
        }
      ]
    },
    {
      "cell_type": "markdown",
      "metadata": {
        "id": "yiGTpVdyOBZL"
      },
      "source": [
        "**ไม่ต้องเรียงลำดับก็ได้**"
      ]
    },
    {
      "cell_type": "code",
      "metadata": {
        "id": "h7zJTFqZOArm",
        "colab": {
          "base_uri": "https://localhost:8080/"
        },
        "outputId": "149f2eb8-147b-4285-a69c-af664bd07e89"
      },
      "source": [
        "arr = np.array([10 , 20 , 30 , 40 , 50])\n",
        "arr[[4, 2, 0]]"
      ],
      "execution_count": null,
      "outputs": [
        {
          "output_type": "execute_result",
          "data": {
            "text/plain": [
              "array([50, 30, 10])"
            ]
          },
          "metadata": {},
          "execution_count": 218
        }
      ]
    },
    {
      "cell_type": "markdown",
      "metadata": {
        "id": "yVrwFYOhTlIv"
      },
      "source": [
        "**นำไปประยุกต์จัดเรียงตำแหน่งใหม่ แบบย้อนหลัง (reverse)**\n",
        "\n",
        "\n",
        "\n"
      ]
    },
    {
      "cell_type": "code",
      "metadata": {
        "id": "yTHWrJNCTkPi",
        "colab": {
          "base_uri": "https://localhost:8080/"
        },
        "outputId": "f82b2ff4-34d3-466f-edfb-a3164276c47f"
      },
      "source": [
        "arr = np.array([10 , 20 , 30 , 40 , 50])\n",
        "arr[[4, 3, 2, 1, 0]] # หรือจะเขียนเป็น arr[::-1]"
      ],
      "execution_count": null,
      "outputs": [
        {
          "output_type": "execute_result",
          "data": {
            "text/plain": [
              "array([50, 40, 30, 20, 10])"
            ]
          },
          "metadata": {},
          "execution_count": 219
        }
      ]
    },
    {
      "cell_type": "markdown",
      "metadata": {
        "id": "YDtmtnyWVxFn"
      },
      "source": [
        "**ระบุอินเด็กซ์ติดลบก็ได้ด้วย**"
      ]
    },
    {
      "cell_type": "code",
      "metadata": {
        "id": "rqr4OCOiULJo",
        "colab": {
          "base_uri": "https://localhost:8080/"
        },
        "outputId": "3d68fc0e-3280-4d41-cd0a-a7f9131b9619"
      },
      "source": [
        "arr = np.array([10 , 20 , 30 , 40 , 50])\n",
        "arr[[0, -2, -1]]"
      ],
      "execution_count": null,
      "outputs": [
        {
          "output_type": "execute_result",
          "data": {
            "text/plain": [
              "array([10, 40, 50])"
            ]
          },
          "metadata": {},
          "execution_count": 220
        }
      ]
    },
    {
      "cell_type": "markdown",
      "metadata": {
        "id": "QHW69W8hPRHB"
      },
      "source": [
        "# คัดเลือกสมาชิกใน ndarray ด้วยการระบุเป็น Boolean ก็ได้\n",
        "\n",
        "โดยภายในเครื่องหมายวงเล็บเหลี่ยม ([...]) จะกำหนดให้มี list ของ Boolean เพื่อกรองเอาสมาชิกที่ต้องการออกมา  **(ได้เป็น ndarray ใหม่ออกมา)**\n"
      ]
    },
    {
      "cell_type": "markdown",
      "source": [
        "**ตัวอย่าง**\n",
        "\n",
        "<img width=\"50%\" src=\"https://raw.githubusercontent.com/adminho/machine-learning/master/images/ndarray_many_indices_boolean.png\">\n",
        "\n",
        "**ข้อสังเกต** จำนวน Boolean ต้องเท่ากับจำนวนสมาชิกใน ndarray"
      ],
      "metadata": {
        "id": "RYGqSASk_otg"
      }
    },
    {
      "cell_type": "code",
      "metadata": {
        "id": "kh-qSIRQOohp",
        "colab": {
          "base_uri": "https://localhost:8080/"
        },
        "outputId": "7cf01ac2-c774-41e4-9e62-8f2f49506c16"
      },
      "source": [
        "arr = np.array([10 , 20 , 30 , 40 , 50])\n",
        "arr[[True, False, True, False, True]] # เลือกสมาชิกที่ตำแหน่งตรงกัน True"
      ],
      "execution_count": null,
      "outputs": [
        {
          "output_type": "execute_result",
          "data": {
            "text/plain": [
              "array([10, 30, 50])"
            ]
          },
          "metadata": {},
          "execution_count": 221
        }
      ]
    },
    {
      "cell_type": "markdown",
      "metadata": {
        "id": "srRgH4LNQPeI"
      },
      "source": [
        "# นำ ndarray มาเปรียบเทียบกับ scalar\n",
        "\n",
        "นำสมาชิกทุกตัวใน ndarray มาเปรียบเทียบกับ scalar **ได้เป็น ndarray ตัวใหม่** ที่มีสมาชิกเป็น boolean (True หรือ False)\n",
        "\n"
      ]
    },
    {
      "cell_type": "markdown",
      "source": [
        "**ตัวอย่าง**\n",
        "\n",
        "<img width=\"50%\" src=\"https://raw.githubusercontent.com/adminho/machine-learning/master/images/compare_ndarray_equal.png\">"
      ],
      "metadata": {
        "id": "12G9pBGg9YJO"
      }
    },
    {
      "cell_type": "code",
      "source": [
        "arr = np.array([1, 2, 3, 4, 5, 4, 4])\n",
        "arr == 4  # นำสมาชิกทุกตัวมาเปรียบเทียบ ได้เป็น ndarray ของ boolean"
      ],
      "metadata": {
        "colab": {
          "base_uri": "https://localhost:8080/"
        },
        "id": "OvhnClD29_ur",
        "outputId": "42b746b8-3bbf-438d-cd6d-53b0c1a9a29f"
      },
      "execution_count": null,
      "outputs": [
        {
          "output_type": "execute_result",
          "data": {
            "text/plain": [
              "array([False, False, False,  True, False,  True,  True])"
            ]
          },
          "metadata": {},
          "execution_count": 222
        }
      ]
    },
    {
      "cell_type": "markdown",
      "source": [
        "**ตัวอย่าง**\n",
        "\n",
        "<img width=\"50%\" src=\"https://raw.githubusercontent.com/adminho/machine-learning/master/images/compare_ndarray_greater_than.png\">\n",
        "\n"
      ],
      "metadata": {
        "id": "DReR-O-5Nd5y"
      }
    },
    {
      "cell_type": "code",
      "source": [
        "arr = np.array([1, 2, 3, 4, 5, 4, 4])\n",
        "arr > 3 # นำสมาชิกทุกตัวมาเปรียบเทียบ ได้เป็น ndarray ของ boolean"
      ],
      "metadata": {
        "colab": {
          "base_uri": "https://localhost:8080/"
        },
        "id": "ECJ-rvuTS_AG",
        "outputId": "a621e2da-3165-442d-bbb4-c579ac8db1f9"
      },
      "execution_count": null,
      "outputs": [
        {
          "output_type": "execute_result",
          "data": {
            "text/plain": [
              "array([False, False, False,  True,  True,  True,  True])"
            ]
          },
          "metadata": {},
          "execution_count": 223
        }
      ]
    },
    {
      "cell_type": "markdown",
      "source": [
        "**ตัวอย่าง**\n",
        "\n",
        "<img width=\"50%\" src=\"https://raw.githubusercontent.com/adminho/machine-learning/master/images/compare_ndarray_not_equal.png\">"
      ],
      "metadata": {
        "id": "wysc5_-MTEc_"
      }
    },
    {
      "cell_type": "code",
      "metadata": {
        "id": "DGFAFt_vQkG0",
        "colab": {
          "base_uri": "https://localhost:8080/"
        },
        "outputId": "d78404b4-486d-4339-9720-b19fa1657de3"
      },
      "source": [
        "arr = np.array([1, 2, 3, 4, 5, 4, 4])\n",
        "arr != 4 # นำสมาชิกทุกตัวมาเปรียบเทียบ ได้เป็นอาร์เรย์ของ boolean"
      ],
      "execution_count": null,
      "outputs": [
        {
          "output_type": "execute_result",
          "data": {
            "text/plain": [
              "array([ True,  True,  True, False,  True, False, False])"
            ]
          },
          "metadata": {},
          "execution_count": 224
        }
      ]
    },
    {
      "cell_type": "markdown",
      "source": [
        "## ค้นหาสมาชิกใน ndarry ตามเงื่อนไขเปรียบเทียบ\n",
        "\n",
        "**ตัวอย่าง**\n",
        "\n",
        "<img width=\"60%\" src=\"https://raw.githubusercontent.com/adminho/machine-learning/master/images/NumPy_Searching_Arrays_with_conditons.png\">"
      ],
      "metadata": {
        "id": "kZ3rUc73TjjT"
      }
    },
    {
      "cell_type": "code",
      "source": [
        "arr = np.array([10, 20, 30, 40, 50, 40, 40])\n",
        "#print(arr== 4) # [False, False, False, True, False, True, True]\n",
        "\n",
        "arr[arr==40]  # เสมือนเขียน arr[[False, False, False, True, False, True, True]]"
      ],
      "metadata": {
        "colab": {
          "base_uri": "https://localhost:8080/"
        },
        "id": "NAcFNUTSyKep",
        "outputId": "9cbe11a3-05ae-4d50-e1d8-9895908d6a8d"
      },
      "execution_count": null,
      "outputs": [
        {
          "output_type": "execute_result",
          "data": {
            "text/plain": [
              "array([40, 40, 40])"
            ]
          },
          "metadata": {},
          "execution_count": 225
        }
      ]
    },
    {
      "cell_type": "markdown",
      "source": [
        "**ใช้ฟังก์ชัน where() เพื่อรีเทิร์นตำแหน่ง indexes ออกมา**"
      ],
      "metadata": {
        "id": "3tO-TSjK1Y-Q"
      }
    },
    {
      "cell_type": "code",
      "source": [
        "arr = np.array([10, 20, 30, 40, 50, 40, 40])\n",
        "#print(arr== 4) # [False, False, False, True, False, True, True]\n",
        "\n",
        "np.where(arr == 40) # เสมือนเขียน np.where([False, False, False, True, False, True, True])"
      ],
      "metadata": {
        "colab": {
          "base_uri": "https://localhost:8080/"
        },
        "id": "0uxCsredxmno",
        "outputId": "a651e2b2-e0b1-4fc2-95a7-a6d8215beabb"
      },
      "execution_count": null,
      "outputs": [
        {
          "output_type": "execute_result",
          "data": {
            "text/plain": [
              "(array([3, 5, 6]),)"
            ]
          },
          "metadata": {},
          "execution_count": 226
        }
      ]
    },
    {
      "cell_type": "markdown",
      "source": [
        "## ตัวอย่าง ทำการค้นหาโดยใช้เงื่อนไขที่ซับซ้อนขึ้น <font color=\"red\">(เสริมเพิ่มเติม)</font>\n",
        "\n"
      ],
      "metadata": {
        "id": "nTBhiUSgOERw"
      }
    },
    {
      "cell_type": "markdown",
      "source": [
        "**ตัวอย่าง**\n",
        "\n",
        "<img width=\"80%\" src=\"https://raw.githubusercontent.com/adminho/machine-learning/master/images/NumPy_Searching_Arrays_with_conditons_complex.png\">"
      ],
      "metadata": {
        "id": "hJJZW0Llzt7g"
      }
    },
    {
      "cell_type": "code",
      "metadata": {
        "id": "DjJ9L4JlRxqx",
        "colab": {
          "base_uri": "https://localhost:8080/"
        },
        "outputId": "ab67098f-82c1-47e9-f994-c525a370ed5c"
      },
      "source": [
        "arr = np.array([1, 2, 3, 4, 5, 6, 7])\n",
        "arr[(arr>5) & (arr!=7)]"
      ],
      "execution_count": null,
      "outputs": [
        {
          "output_type": "execute_result",
          "data": {
            "text/plain": [
              "array([6])"
            ]
          },
          "metadata": {},
          "execution_count": 227
        }
      ]
    },
    {
      "cell_type": "markdown",
      "metadata": {
        "id": "YcPHndASV3Lp"
      },
      "source": [
        "# ดำเนินการทางคณิตศาสตร์"
      ]
    },
    {
      "cell_type": "markdown",
      "metadata": {
        "id": "ziWDBcKxXtoG"
      },
      "source": [
        "**ตัวอย่าง scalar คูณกับ ndarray**"
      ]
    },
    {
      "cell_type": "code",
      "metadata": {
        "id": "WQ3HpO3hV_km",
        "colab": {
          "base_uri": "https://localhost:8080/"
        },
        "outputId": "c43e6726-f7f1-4458-d065-513316a70a2a"
      },
      "source": [
        "x = np.array([1, 2, 3, 4, 5])\n",
        "-10*x"
      ],
      "execution_count": null,
      "outputs": [
        {
          "output_type": "execute_result",
          "data": {
            "text/plain": [
              "array([-10, -20, -30, -40, -50])"
            ]
          },
          "metadata": {},
          "execution_count": 228
        }
      ]
    },
    {
      "cell_type": "markdown",
      "source": [
        "ใส่ค่าติดลบ"
      ],
      "metadata": {
        "id": "EZ_GanS670kC"
      }
    },
    {
      "cell_type": "code",
      "source": [
        "x = np.array([1, 2, 3, 4, 5])\n",
        "-x"
      ],
      "metadata": {
        "colab": {
          "base_uri": "https://localhost:8080/"
        },
        "id": "Cw9YDI5idq8B",
        "outputId": "0f8cb4a5-4285-4424-c908-bc991a839bcd"
      },
      "execution_count": null,
      "outputs": [
        {
          "output_type": "execute_result",
          "data": {
            "text/plain": [
              "array([-1, -2, -3, -4, -5])"
            ]
          },
          "metadata": {},
          "execution_count": 229
        }
      ]
    },
    {
      "cell_type": "markdown",
      "source": [
        "**ตัวอย่าง scalar บวกกับ ndarray**"
      ],
      "metadata": {
        "id": "N7Vj7xPFj2F-"
      }
    },
    {
      "cell_type": "code",
      "metadata": {
        "id": "N9T8LEq7XlH3",
        "colab": {
          "base_uri": "https://localhost:8080/"
        },
        "outputId": "ef797ae4-e53c-4f4d-a760-ca3183d9cebf"
      },
      "source": [
        "x = np.array([1, 2, 3, 4, 5])\n",
        "x + 10"
      ],
      "execution_count": null,
      "outputs": [
        {
          "output_type": "execute_result",
          "data": {
            "text/plain": [
              "array([11, 12, 13, 14, 15])"
            ]
          },
          "metadata": {},
          "execution_count": 230
        }
      ]
    },
    {
      "cell_type": "markdown",
      "source": [
        "**นำสมาชิกใน ndarray มายกกำลัง**"
      ],
      "metadata": {
        "id": "9nH-EMDUlFHX"
      }
    },
    {
      "cell_type": "code",
      "source": [
        "x = np.array([1, 2, 3, 4, 5])\n",
        "x**2"
      ],
      "metadata": {
        "colab": {
          "base_uri": "https://localhost:8080/"
        },
        "id": "nSrdzqe1kxNw",
        "outputId": "c9f7f516-fff1-45c7-c4db-a2c983bf98cf"
      },
      "execution_count": null,
      "outputs": [
        {
          "output_type": "execute_result",
          "data": {
            "text/plain": [
              "array([ 1,  4,  9, 16, 25])"
            ]
          },
          "metadata": {},
          "execution_count": 231
        }
      ]
    },
    {
      "cell_type": "markdown",
      "metadata": {
        "id": "Rn3RewiFXx9r"
      },
      "source": [
        "**ตัวอย่างอาร์เรย์ กับ อาร์เรย์ นำมาบวก หรือลบกัน (ตำแหน่งต่อตำแหน่ง)**"
      ]
    },
    {
      "cell_type": "code",
      "metadata": {
        "id": "_-Vyv9qnWPM4",
        "colab": {
          "base_uri": "https://localhost:8080/"
        },
        "outputId": "682cccc6-c580-496c-b44d-5f52681f0f31"
      },
      "source": [
        "a = np.array([1, 2, 3, 4, 5])\n",
        "b = np.array([6, 7, 8, 9, 10])\n",
        "print(a + b)\n",
        "print(a - b)"
      ],
      "execution_count": null,
      "outputs": [
        {
          "output_type": "stream",
          "name": "stdout",
          "text": [
            "[ 7  9 11 13 15]\n",
            "[-5 -5 -5 -5 -5]\n"
          ]
        }
      ]
    },
    {
      "cell_type": "markdown",
      "source": [
        "**ตัวอย่างอาร์เรย์ กับ อาร์เรย์ นำมาคูณ หรือหารกัน (ตำแหน่งต่อตำแหน่ง)**"
      ],
      "metadata": {
        "id": "vEQmjaLClskH"
      }
    },
    {
      "cell_type": "code",
      "metadata": {
        "id": "Z7KavR-5W_H7",
        "colab": {
          "base_uri": "https://localhost:8080/"
        },
        "outputId": "46694864-6588-4607-963a-a3bd8ed7ed9f"
      },
      "source": [
        "a = np.array([1, 2, 3, 4, 5])\n",
        "b = np.array([6, 7, 8, 9, 10])\n",
        "print(a * b)\n",
        "print(a / b)"
      ],
      "execution_count": null,
      "outputs": [
        {
          "output_type": "stream",
          "name": "stdout",
          "text": [
            "[ 6 14 24 36 50]\n",
            "[0.16666667 0.28571429 0.375      0.44444444 0.5       ]\n"
          ]
        }
      ]
    },
    {
      "cell_type": "markdown",
      "metadata": {
        "id": "YAn64-QzYZxA"
      },
      "source": [
        "**สามารถกระทำทางคณิตศาสตร์ กับ ndarray หลายมิติก็ได้ด้วย**\n",
        "\n",
        "<img width=\"50%\" src=\"https://raw.githubusercontent.com/adminho/machine-learning/master/images/operator_with_ndarray_complex.png\">"
      ]
    },
    {
      "cell_type": "code",
      "metadata": {
        "id": "UpuHz9fyXLaX",
        "colab": {
          "base_uri": "https://localhost:8080/"
        },
        "outputId": "a3ee7004-4f4d-480f-8a3d-f0fe26282b19"
      },
      "source": [
        "a = np.array([[1, 2],\n",
        "              [3, 4]])\n",
        "b = np.array([[5, 6],\n",
        "              [7, 8]])\n",
        "\n",
        "ans = a/4 + 3*b\n",
        "print(ans)"
      ],
      "execution_count": null,
      "outputs": [
        {
          "output_type": "stream",
          "name": "stdout",
          "text": [
            "[[15.25 18.5 ]\n",
            " [21.75 25.  ]]\n"
          ]
        }
      ]
    },
    {
      "cell_type": "markdown",
      "source": [
        "# Joining NumPy Arrays <font color=\"red\">(เสริมเพิ่มเติม)</font>\n",
        "\n",
        "รวม 2 ndarray เข้าด้วยกัน\n",
        "\n",
        "ภายหลังการรวมกันแล้ว shape เปลี่ยน\n",
        "\n"
      ],
      "metadata": {
        "id": "T6qArhCRm4fL"
      }
    },
    {
      "cell_type": "markdown",
      "source": [
        "**ตัวอย่างใช้ฟังก์ชัน concatenate() กับ ndarray 1-D**"
      ],
      "metadata": {
        "id": "sztXDj09HlHz"
      }
    },
    {
      "cell_type": "code",
      "source": [
        "arr1 = np.array([1, 2, 3])\n",
        "arr2 = np.array([4, 5, 6])\n",
        "np.concatenate((arr1, arr2))"
      ],
      "metadata": {
        "colab": {
          "base_uri": "https://localhost:8080/"
        },
        "id": "2GEEb_nBnjJW",
        "outputId": "343f23c6-d800-419b-da6f-093dc865ab3d"
      },
      "execution_count": null,
      "outputs": [
        {
          "output_type": "execute_result",
          "data": {
            "text/plain": [
              "array([1, 2, 3, 4, 5, 6])"
            ]
          },
          "metadata": {},
          "execution_count": 235
        }
      ]
    },
    {
      "cell_type": "markdown",
      "source": [
        "**ตัวอย่าง** ndarray ขนาด 2-D มารวมกัน โดย **axis=0** จะหมายถึงนำคอลัมน์มาต่อกัน\n",
        "\n",
        "<img width=\"40%\" src=\"https://raw.githubusercontent.com/adminho/machine-learning/master/images/stack_vstack.png\">"
      ],
      "metadata": {
        "id": "B15PELLAoYBb"
      }
    },
    {
      "cell_type": "code",
      "source": [
        "arr1 = np.array([[1, 2],\n",
        "                [3, 4]])\n",
        "arr2 = np.array([[5, 6],\n",
        "                [7, 8]])\n",
        "\n",
        "np.concatenate((arr1, arr2), axis=0)\n"
      ],
      "metadata": {
        "colab": {
          "base_uri": "https://localhost:8080/"
        },
        "id": "G--BweF7nzYl",
        "outputId": "abcf5f08-ff95-4385-abd8-48d82861c555"
      },
      "execution_count": null,
      "outputs": [
        {
          "output_type": "execute_result",
          "data": {
            "text/plain": [
              "array([[1, 2],\n",
              "       [3, 4],\n",
              "       [5, 6],\n",
              "       [7, 8]])"
            ]
          },
          "metadata": {},
          "execution_count": 236
        }
      ]
    },
    {
      "cell_type": "markdown",
      "source": [
        "**ตัวอย่าง** ndarray ขนาด 2-D มารวมกัน โดย **axis=1** (เป็นค่า default) จะหมายถึงนำแถวมาต่อกัน\n",
        "\n",
        "<img width=\"60%\" src=\"https://raw.githubusercontent.com/adminho/machine-learning/master/images/stack_hstack.png\">"
      ],
      "metadata": {
        "id": "qoXOv2-LoOus"
      }
    },
    {
      "cell_type": "code",
      "source": [
        "arr1 = np.array([[1, 2],\n",
        "                 [3, 4]])\n",
        "arr2 = np.array([[5, 6],\n",
        "                 [7, 8]])\n",
        "\n",
        "np.concatenate((arr1, arr2), axis=1)"
      ],
      "metadata": {
        "colab": {
          "base_uri": "https://localhost:8080/"
        },
        "id": "elfb8dwYoE2C",
        "outputId": "735bc563-c25a-4dbc-91d7-7e01e10d626c"
      },
      "execution_count": null,
      "outputs": [
        {
          "output_type": "execute_result",
          "data": {
            "text/plain": [
              "array([[1, 2, 5, 6],\n",
              "       [3, 4, 7, 8]])"
            ]
          },
          "metadata": {},
          "execution_count": 237
        }
      ]
    },
    {
      "cell_type": "markdown",
      "source": [
        "**ตัวอย่างฟังก์ชัน vstack()**\n",
        "\n",
        "จะคล้ายๆ np.concatenate(tup, axis=1) เป็นการนำคอลัมน์มาต่อกัน\n"
      ],
      "metadata": {
        "id": "RBbAXnlKGEGF"
      }
    },
    {
      "cell_type": "code",
      "source": [
        "arr1 = np.array([[1, 2],\n",
        "                 [3, 4]])\n",
        "arr2 = np.array([[5, 6],\n",
        "                 [7, 8]])\n",
        "np.vstack((arr1, arr2))"
      ],
      "metadata": {
        "colab": {
          "base_uri": "https://localhost:8080/"
        },
        "id": "zh7lmg9ZsaO1",
        "outputId": "4232134b-7f53-4395-b32d-8b94f0db9985"
      },
      "execution_count": null,
      "outputs": [
        {
          "output_type": "execute_result",
          "data": {
            "text/plain": [
              "array([[1, 2],\n",
              "       [3, 4],\n",
              "       [5, 6],\n",
              "       [7, 8]])"
            ]
          },
          "metadata": {},
          "execution_count": 238
        }
      ]
    },
    {
      "cell_type": "markdown",
      "source": [
        "**ตัวอย่างฟังก์ชัน hstack()**\n",
        "\n",
        "จะคล้ายๆ np.concatenate(tup, axis=0) เป็นการนำแถวมาต่อกัน"
      ],
      "metadata": {
        "id": "xUcCmHOFqb5z"
      }
    },
    {
      "cell_type": "code",
      "source": [
        "arr1 = np.array([[1, 2],\n",
        "                         [3, 4]])\n",
        "arr2 = np.array([[5, 6],\n",
        "                         [7, 8]])\n",
        "np.hstack((arr1, arr2))"
      ],
      "metadata": {
        "colab": {
          "base_uri": "https://localhost:8080/"
        },
        "id": "smiiUkL0qheW",
        "outputId": "c5b1b8c3-8c06-49e6-f7ff-b18177ebc6e2"
      },
      "execution_count": null,
      "outputs": [
        {
          "output_type": "execute_result",
          "data": {
            "text/plain": [
              "array([[1, 2, 5, 6],\n",
              "       [3, 4, 7, 8]])"
            ]
          },
          "metadata": {},
          "execution_count": 239
        }
      ]
    },
    {
      "cell_type": "code",
      "source": [
        "arr1 = np.array([1, 2, 3])\n",
        "arr2 = np.array([4, 5, 6])\n",
        "np.hstack((arr1, arr2))"
      ],
      "metadata": {
        "colab": {
          "base_uri": "https://localhost:8080/"
        },
        "id": "gaexpo05Z1pu",
        "outputId": "57c3ba28-afa8-4dff-9277-8a42873b24d0"
      },
      "execution_count": null,
      "outputs": [
        {
          "output_type": "execute_result",
          "data": {
            "text/plain": [
              "array([1, 2, 3, 4, 5, 6])"
            ]
          },
          "metadata": {},
          "execution_count": 240
        }
      ]
    },
    {
      "cell_type": "markdown",
      "source": [
        "**ตัวอย่างฟังก์ชัน stack()** <font color=\"red\">(เสริมเพิ่มเติม)</font>\n",
        "\n",
        "ภายหลังการใช้ stack() เพื่อรวมกันของสอง ndarray แล้ว นอกจาก shape เปลี่ยนแล้ว มิติก็เพิ่มขึ้น (แกน axis เพิ่มขึ้นมา)\n",
        "\n",
        "ต่อกันตามแกน axis=0 แล้วคำนวณ shape ใหม่ พร้อมจัดเรียงใหม่"
      ],
      "metadata": {
        "id": "Lv4j2aNspqXR"
      }
    },
    {
      "cell_type": "code",
      "source": [
        "arr1 = np.array([1, 2, 3])\n",
        "arr2 = np.array([4, 5, 6])\n",
        "print(arr1.shape)\n",
        "print(arr2.shape)\n",
        "\n",
        "new_arr = np.stack((arr1, arr2), axis=0)\n",
        "print(new_arr.shape)\n",
        "print(new_arr)"
      ],
      "metadata": {
        "colab": {
          "base_uri": "https://localhost:8080/"
        },
        "id": "rDqZLm1Lo-dQ",
        "outputId": "eec72b02-15a0-482c-a50b-71441d862225"
      },
      "execution_count": null,
      "outputs": [
        {
          "output_type": "stream",
          "name": "stdout",
          "text": [
            "(3,)\n",
            "(3,)\n",
            "(2, 3)\n",
            "[[1 2 3]\n",
            " [4 5 6]]\n"
          ]
        }
      ]
    },
    {
      "cell_type": "markdown",
      "source": [
        "ต่อกันตามแกน axis=1 แล้วคำนวณ shape ใหม่ พร้อมจัดเรียงใหม่"
      ],
      "metadata": {
        "id": "f54oWrGROmmr"
      }
    },
    {
      "cell_type": "code",
      "source": [
        "arr1 = np.array([1, 2, 3])\n",
        "arr2 = np.array([4, 5, 6])\n",
        "print(arr1.shape)\n",
        "print(arr2.shape)\n",
        "\n",
        "new_arr = np.stack((arr1, arr2), axis=1)\n",
        "print(new_arr.shape)\n",
        "print(new_arr)"
      ],
      "metadata": {
        "colab": {
          "base_uri": "https://localhost:8080/"
        },
        "id": "B5YZsF0qqH7H",
        "outputId": "3d275b07-873f-4f49-e10d-82b447c4db40"
      },
      "execution_count": null,
      "outputs": [
        {
          "output_type": "stream",
          "name": "stdout",
          "text": [
            "(3,)\n",
            "(3,)\n",
            "(3, 2)\n",
            "[[1 4]\n",
            " [2 5]\n",
            " [3 6]]\n"
          ]
        }
      ]
    },
    {
      "cell_type": "markdown",
      "source": [
        "**ตัวอย่าง dstack()** <font color=\"red\">(เสริมเพิ่มเติม)</font>\n",
        "\n",
        "รวมกันแล้ว เพิ่มมิติแนวลึก แล้วคำนวณ shape ใหม่ พร้อมจัดเรียงใหม่"
      ],
      "metadata": {
        "id": "Scv5gQjOLPN2"
      }
    },
    {
      "cell_type": "code",
      "source": [
        "arr1 = np.array([1, 2, 3])\n",
        "arr2 = np.array([4, 5, 6])\n",
        "new_arr = np.dstack((arr1, arr2))\n",
        "print(new_arr.shape)\n",
        "print(new_arr)\n"
      ],
      "metadata": {
        "colab": {
          "base_uri": "https://localhost:8080/"
        },
        "id": "3XyQdMTwK6JV",
        "outputId": "7fa5940b-c975-4ceb-c6c9-7212c7a418c5"
      },
      "execution_count": null,
      "outputs": [
        {
          "output_type": "stream",
          "name": "stdout",
          "text": [
            "(1, 3, 2)\n",
            "[[[1 4]\n",
            "  [2 5]\n",
            "  [3 6]]]\n"
          ]
        }
      ]
    },
    {
      "cell_type": "markdown",
      "source": [
        "# Splitting NumPy Arrays <font color=\"red\">(เสริมเพิ่มเติม)</font>"
      ],
      "metadata": {
        "id": "htRoJ2y2WYeY"
      }
    },
    {
      "cell_type": "code",
      "source": [
        "import numpy as np\n",
        "arr = np.array([1, 2, 3, 4, 5, 6])\n",
        "np.array_split(arr, 3)"
      ],
      "metadata": {
        "colab": {
          "base_uri": "https://localhost:8080/"
        },
        "id": "Yq3EaUatWguu",
        "outputId": "32a07777-fd78-462f-dfa8-eba7af3803bd"
      },
      "execution_count": null,
      "outputs": [
        {
          "output_type": "execute_result",
          "data": {
            "text/plain": [
              "[array([1, 2]), array([3, 4]), array([5, 6])]"
            ]
          },
          "metadata": {},
          "execution_count": 244
        }
      ]
    },
    {
      "cell_type": "markdown",
      "source": [
        "**แบ่ง 1-D ndarray**"
      ],
      "metadata": {
        "id": "8_zpCYNNH2TE"
      }
    },
    {
      "cell_type": "code",
      "source": [
        "arr = np.array([1, 2, 3, 4, 5, 6])\n",
        "newarr = np.array_split(arr, 3)\n",
        "print(newarr[0])\n",
        "print(newarr[1])\n",
        "print(newarr[2])\n"
      ],
      "metadata": {
        "colab": {
          "base_uri": "https://localhost:8080/"
        },
        "id": "tkxzeN4jWtii",
        "outputId": "67abba1c-bf3e-4020-a4af-ad5a456bda5e"
      },
      "execution_count": null,
      "outputs": [
        {
          "output_type": "stream",
          "name": "stdout",
          "text": [
            "[1 2]\n",
            "[3 4]\n",
            "[5 6]\n"
          ]
        }
      ]
    },
    {
      "cell_type": "markdown",
      "source": [
        "**แบ่ง 2-D ndarray**"
      ],
      "metadata": {
        "id": "1Bt1RuI9Hxry"
      }
    },
    {
      "cell_type": "code",
      "source": [
        "import numpy as np\n",
        "arr = np.array([[1, 2], [3, 4], [5, 6], [7, 8], [9, 10], [11, 12]])\n",
        "np.array_split(arr, 3)"
      ],
      "metadata": {
        "colab": {
          "base_uri": "https://localhost:8080/"
        },
        "id": "0e1m9_cNXlzP",
        "outputId": "0cef07b4-ad90-48c1-fd98-d9ee9557a398"
      },
      "execution_count": null,
      "outputs": [
        {
          "output_type": "execute_result",
          "data": {
            "text/plain": [
              "[array([[1, 2],\n",
              "        [3, 4]]),\n",
              " array([[5, 6],\n",
              "        [7, 8]]),\n",
              " array([[ 9, 10],\n",
              "        [11, 12]])]"
            ]
          },
          "metadata": {},
          "execution_count": 246
        }
      ]
    },
    {
      "cell_type": "markdown",
      "source": [
        "# NumPy Searching Arrays <font color=\"red\">(เสริมเพิ่มเติม)</font>\n",
        "\n"
      ],
      "metadata": {
        "id": "0lEyh1X4xmLj"
      }
    },
    {
      "cell_type": "markdown",
      "source": [
        "## Search Sorted\n",
        "\n",
        "ฟังก์ชั่น searchsorted() ใช้ในการค้นหา ผลลัพธ์จะรีเทิร์นตำแหน่ง index ของสมาชิกที่พบเจอครั้งแรก\n",
        "\n",
        "**หมายเหตุ** จะทำการค้นหาในอาร์เรย์ที่สมาชิกถูกจัดเรียงลำดับเท่านั้น ซึ่งอัลกอริทึมที่ใช้เป็น binary serach ในการค้นหา\n"
      ],
      "metadata": {
        "id": "PCsNR8EaTVid"
      }
    },
    {
      "cell_type": "code",
      "source": [
        "arr = np.array([6, 7, 8, 9]) # สมาชิกถูกเรียงลำดับ\n",
        "np.searchsorted(arr, 7) # found 7 at index 1"
      ],
      "metadata": {
        "colab": {
          "base_uri": "https://localhost:8080/"
        },
        "id": "BhxuJyMZT1zA",
        "outputId": "411035d1-06a6-4073-d88e-3c4df92bddcb"
      },
      "execution_count": null,
      "outputs": [
        {
          "output_type": "execute_result",
          "data": {
            "text/plain": [
              "1"
            ]
          },
          "metadata": {},
          "execution_count": 247
        }
      ]
    },
    {
      "cell_type": "markdown",
      "source": [
        "ข้อมูลต้องถูกจัดเรียงตามลำดับก่อน ถ้าไม่เรียงต้องจัดเรียงลำดับ"
      ],
      "metadata": {
        "id": "4_7kvjyem5w9"
      }
    },
    {
      "cell_type": "code",
      "source": [
        "arr = np.array([9, 7, 8, 6])\n",
        "arr_sorted = np.sort(arr) # ต้องเรียงลำดับก่อน\n",
        "print(arr_sorted)\n",
        "np.searchsorted(arr_sorted, 7) # found 7 at index 1"
      ],
      "metadata": {
        "colab": {
          "base_uri": "https://localhost:8080/"
        },
        "id": "5rhFoFxeT_ya",
        "outputId": "c37712f7-f85d-4d82-8826-2f37830452bf"
      },
      "execution_count": null,
      "outputs": [
        {
          "output_type": "stream",
          "name": "stdout",
          "text": [
            "[6 7 8 9]\n"
          ]
        },
        {
          "output_type": "execute_result",
          "data": {
            "text/plain": [
              "1"
            ]
          },
          "metadata": {},
          "execution_count": 248
        }
      ]
    },
    {
      "cell_type": "markdown",
      "source": [
        "## Search From the Right Side\n",
        "\n",
        "โดย default จะค้นหาจากซ้ายไปขวา\n",
        "รีเทิร์น index ของสมาชิกตัวเแรกที่เจอ\n",
        "\n",
        "ดังตัวอย่าง\n",
        "\n",
        "<img width=\"40%\" src=\"https://raw.githubusercontent.com/adminho/machine-learning/master/images/Search_From_the_Right_Side.png\">"
      ],
      "metadata": {
        "id": "9x8oQ2AB-qtY"
      }
    },
    {
      "cell_type": "code",
      "source": [
        "arr = np.array([6, 7, 7, 9])\n",
        "np.searchsorted(arr, 7) # found 7 at index 1"
      ],
      "metadata": {
        "colab": {
          "base_uri": "https://localhost:8080/"
        },
        "id": "BC7PyXhz_Bd8",
        "outputId": "ecf3687a-8417-4136-8edd-56d226624785"
      },
      "execution_count": null,
      "outputs": [
        {
          "output_type": "execute_result",
          "data": {
            "text/plain": [
              "1"
            ]
          },
          "metadata": {},
          "execution_count": 249
        }
      ]
    },
    {
      "cell_type": "markdown",
      "source": [
        "แต่เราก็สามารถค้นหาจากขวาไปซ้ายก่อนได้"
      ],
      "metadata": {
        "id": "2MpIz6wf_Hxc"
      }
    },
    {
      "cell_type": "code",
      "source": [
        "arr = np.array([6, 7, 7, 9])\n",
        "np.searchsorted(arr, 7,side='right') # # found 7 at index 3"
      ],
      "metadata": {
        "colab": {
          "base_uri": "https://localhost:8080/"
        },
        "id": "lacIXo-8-noy",
        "outputId": "0055a7fa-93b8-4b86-b641-29caca6f1a68"
      },
      "execution_count": null,
      "outputs": [
        {
          "output_type": "execute_result",
          "data": {
            "text/plain": [
              "3"
            ]
          },
          "metadata": {},
          "execution_count": 250
        }
      ]
    },
    {
      "cell_type": "markdown",
      "source": [
        "# Sorting Arrays <font color=\"red\">(เสริมเพิ่มเติม)</font>\n",
        "\n",
        "จัดเรียงสมาชิกใน ndarray"
      ],
      "metadata": {
        "id": "d7EzzNmvYBhP"
      }
    },
    {
      "cell_type": "markdown",
      "source": [
        "## Sorting a 1-D Array\n",
        "\n",
        "**เรียงจากน้อยที่สุด ไปหามากที่สุด (ascending order)**"
      ],
      "metadata": {
        "id": "nINFA4RCdIwB"
      }
    },
    {
      "cell_type": "code",
      "source": [
        "arr = np.array([3, -2, 0, 1, 5, -4])\n",
        "np.sort(arr)"
      ],
      "metadata": {
        "colab": {
          "base_uri": "https://localhost:8080/"
        },
        "id": "-YRJn0PHYG5K",
        "outputId": "d71a4b38-e919-41b1-807a-83ac51b46708"
      },
      "execution_count": null,
      "outputs": [
        {
          "output_type": "execute_result",
          "data": {
            "text/plain": [
              "array([-4, -2,  0,  1,  3,  5])"
            ]
          },
          "metadata": {},
          "execution_count": 251
        }
      ]
    },
    {
      "cell_type": "markdown",
      "source": [
        "**สมาชิกที่เป็นชนิดข้อมูลอื่น ก็ถูกจัดเรียงได้ ไม่ใช่แค่ตัวเลข**"
      ],
      "metadata": {
        "id": "0IvtacLEYUUc"
      }
    },
    {
      "cell_type": "code",
      "source": [
        "arr = np.array(['watermelon', 'apple','orange', 'papaya', 'banana', 'strawberry'])\n",
        "print(np.sort(arr))"
      ],
      "metadata": {
        "colab": {
          "base_uri": "https://localhost:8080/"
        },
        "id": "0srBSOiRYSKN",
        "outputId": "96626e85-1b07-4d84-da83-877e3abca185"
      },
      "execution_count": null,
      "outputs": [
        {
          "output_type": "stream",
          "name": "stdout",
          "text": [
            "['apple' 'banana' 'orange' 'papaya' 'strawberry' 'watermelon']\n"
          ]
        }
      ]
    },
    {
      "cell_type": "markdown",
      "source": [
        "**จัดเรียงจากมากที่สุด ไปหาน้อยที่สุด (decreasing order)**\n",
        "\n",
        "นำฟังก์ชัน flip() มากลับด้านข้อมูล"
      ],
      "metadata": {
        "id": "yiIhSGFZbzA-"
      }
    },
    {
      "cell_type": "code",
      "source": [
        "arr = np.array([3, -2, 0, 1, 5, -4])\n",
        "arr_asc = np.sort(arr)  # ให้จัดเรียงจากน้อยที่สุด ไปหามากที่สุด เสียก่อน\n",
        "np.flip(arr_asc) # แล้วค่อยกลับด้าน"
      ],
      "metadata": {
        "colab": {
          "base_uri": "https://localhost:8080/"
        },
        "id": "Cuz5fLiEhl6W",
        "outputId": "74b3ee8d-9141-4e3c-e239-1d6a8662856b"
      },
      "execution_count": null,
      "outputs": [
        {
          "output_type": "execute_result",
          "data": {
            "text/plain": [
              "array([ 5,  3,  1,  0, -2, -4])"
            ]
          },
          "metadata": {},
          "execution_count": 253
        }
      ]
    },
    {
      "cell_type": "markdown",
      "source": [
        "**หรือจะใช้เทคนิค slicing เข้าช่วย เพื่อ reverse ย้อนกลับ**"
      ],
      "metadata": {
        "id": "jk6Ui7myh23o"
      }
    },
    {
      "cell_type": "code",
      "source": [
        "arr = np.array([3, -2, 0, 1, 5, -4])\n",
        "np.sort(arr)[::-1]"
      ],
      "metadata": {
        "colab": {
          "base_uri": "https://localhost:8080/"
        },
        "id": "af2Mc-qGbyLv",
        "outputId": "623ed855-b806-4358-b1e6-ccc3d8c7972b"
      },
      "execution_count": null,
      "outputs": [
        {
          "output_type": "execute_result",
          "data": {
            "text/plain": [
              "array([ 5,  3,  1,  0, -2, -4])"
            ]
          },
          "metadata": {},
          "execution_count": 254
        }
      ]
    },
    {
      "cell_type": "markdown",
      "source": [
        "**ข้อควรระวัง np.sort()**\n",
        "\n",
        "เวลาจัดเรียง ไม่ได้แก้ไขค่าใน ndarray ตัวต้นฉบับ\n",
        "แต่จะรีเทิร์น ndarray ตัวใหม่ที่ถูกจัดเรียงออกมาแล้ว"
      ],
      "metadata": {
        "id": "RQI6sMlGf7aO"
      }
    },
    {
      "cell_type": "code",
      "source": [
        "arr = np.array([3, -2, 0, 1, 5, -4])\n",
        "arr_sorted = np.sort(arr)\n",
        "print(\"Before sorted:\" ,arr)\n",
        "print(\"After sorted:\" ,arr_sorted)"
      ],
      "metadata": {
        "colab": {
          "base_uri": "https://localhost:8080/"
        },
        "id": "yeWb1vSMgQDP",
        "outputId": "8441e941-6e64-45b0-a0a7-76eb9079fb8e"
      },
      "execution_count": null,
      "outputs": [
        {
          "output_type": "stream",
          "name": "stdout",
          "text": [
            "Before sorted: [ 3 -2  0  1  5 -4]\n",
            "After sorted: [-4 -2  0  1  3  5]\n"
          ]
        }
      ]
    },
    {
      "cell_type": "markdown",
      "source": [
        "## Sorting a 2-D Array"
      ],
      "metadata": {
        "id": "M6f7AbMEc3U-"
      }
    },
    {
      "cell_type": "code",
      "source": [
        "arr = np.array([[3, 2, 4],\n",
        "                [5, 6, 1]])\n",
        "print(\"Before sorted\");\n",
        "print(arr)\n",
        "print(\"After sorted\");\n",
        "print(np.sort(arr))    # default axis = -1"
      ],
      "metadata": {
        "colab": {
          "base_uri": "https://localhost:8080/"
        },
        "id": "YlgEN_Ejc364",
        "outputId": "42a4efb6-508c-4720-c472-7ec334784a7b"
      },
      "execution_count": null,
      "outputs": [
        {
          "output_type": "stream",
          "name": "stdout",
          "text": [
            "Before sorted\n",
            "[[3 2 4]\n",
            " [5 6 1]]\n",
            "After sorted\n",
            "[[2 3 4]\n",
            " [1 5 6]]\n"
          ]
        }
      ]
    },
    {
      "cell_type": "markdown",
      "source": [
        "**การระบุ axis**\n",
        "\n",
        "* axis = 0 จัดเรียงตามแกน axis = 0\n",
        "* axis = 1 จัดเรียงตามแกน axis = 1\n",
        "\n",
        "โดย default แล้ว axis = -1 หมายถึง axis ตัวสุดท้าย\n",
        "\n",
        "ดังนั้นในกรณี 2-D array ค่า default ก็คือ axis = 1"
      ],
      "metadata": {
        "id": "mf5iiZnpgv5G"
      }
    },
    {
      "cell_type": "markdown",
      "source": [
        "**ลองพิจารณาตัวอย่าง**\n",
        "\n",
        "<img width=\"50%\" src=\"https://raw.githubusercontent.com/adminho/machine-learning/master/images/Sorting_2-D_Array_with_axis.png\">"
      ],
      "metadata": {
        "id": "-VUhrEXGwDmh"
      }
    },
    {
      "cell_type": "code",
      "source": [
        "arr = np.array([[9, 6, 4],\n",
        "                [5, 8, 1],\n",
        "                [3, 2, 7]])\n",
        "\n",
        "print(\"After sorting with axis=0\");\n",
        "print(np.sort(arr, axis=0))\n",
        "\n",
        "print(\"After sorting with axis=1\");\n",
        "print(np.sort(arr, axis=1))"
      ],
      "metadata": {
        "colab": {
          "base_uri": "https://localhost:8080/"
        },
        "id": "S2qSTWpZfeBB",
        "outputId": "28ee092b-000a-48c8-84f5-cc7f1e79c0f1"
      },
      "execution_count": null,
      "outputs": [
        {
          "output_type": "stream",
          "name": "stdout",
          "text": [
            "After sorting with axis=0\n",
            "[[3 2 1]\n",
            " [5 6 4]\n",
            " [9 8 7]]\n",
            "After sorting with axis=1\n",
            "[[4 6 9]\n",
            " [1 5 8]\n",
            " [2 3 7]]\n"
          ]
        }
      ]
    },
    {
      "cell_type": "markdown",
      "metadata": {
        "id": "s6c7yKCaXMLL"
      },
      "source": [
        "# ตัวอย่างฟังก์ชันที่เป็น Utility ใน numpy <font color=\"red\">(เสริมเพิ่มเติม)</font>"
      ]
    },
    {
      "cell_type": "code",
      "metadata": {
        "id": "CgobdSaHYj_q",
        "colab": {
          "base_uri": "https://localhost:8080/"
        },
        "outputId": "b932335d-72a5-4c4e-de25-9f3984cdd5c1"
      },
      "source": [
        "x = np.array([[10, 20] ,\n",
        "              [30, 40] ,\n",
        "              [50 ,60], [70, 80]])\n",
        "print(x)"
      ],
      "execution_count": null,
      "outputs": [
        {
          "output_type": "stream",
          "name": "stdout",
          "text": [
            "[[10 20]\n",
            " [30 40]\n",
            " [50 60]\n",
            " [70 80]]\n"
          ]
        }
      ]
    },
    {
      "cell_type": "code",
      "source": [
        "x.min() # หาค่าน้อยที่สุด"
      ],
      "metadata": {
        "id": "rYFzrBk3UcaX",
        "colab": {
          "base_uri": "https://localhost:8080/"
        },
        "outputId": "cbb6eda5-8981-4e07-ed0c-58375b7c83a1"
      },
      "execution_count": null,
      "outputs": [
        {
          "output_type": "execute_result",
          "data": {
            "text/plain": [
              "10"
            ]
          },
          "metadata": {},
          "execution_count": 259
        }
      ]
    },
    {
      "cell_type": "code",
      "metadata": {
        "id": "nM4JvTSQYmxu",
        "colab": {
          "base_uri": "https://localhost:8080/"
        },
        "outputId": "38f83638-b933-427b-dc9c-21bd54fbf592"
      },
      "source": [
        "x.max() # หาค่ามากที่สุด"
      ],
      "execution_count": null,
      "outputs": [
        {
          "output_type": "execute_result",
          "data": {
            "text/plain": [
              "80"
            ]
          },
          "metadata": {},
          "execution_count": 260
        }
      ]
    },
    {
      "cell_type": "code",
      "metadata": {
        "id": "DbYsN_RiYomV",
        "colab": {
          "base_uri": "https://localhost:8080/"
        },
        "outputId": "feb5a1f0-b853-4edb-d004-7e9a7e5ed84d"
      },
      "source": [
        "x.cumsum() # บวกค่าแบบสะสมไปเรื่อยๆ"
      ],
      "execution_count": null,
      "outputs": [
        {
          "output_type": "execute_result",
          "data": {
            "text/plain": [
              "array([ 10,  30,  60, 100, 150, 210, 280, 360])"
            ]
          },
          "metadata": {},
          "execution_count": 261
        }
      ]
    },
    {
      "cell_type": "code",
      "metadata": {
        "id": "w41SZX_vZN9y",
        "colab": {
          "base_uri": "https://localhost:8080/"
        },
        "outputId": "be50aabc-ccdd-4b54-9633-57f40cb4c406"
      },
      "source": [
        "x.cumprod() # คูณค่าแบบสะสมไปเรื่อยๆ"
      ],
      "execution_count": null,
      "outputs": [
        {
          "output_type": "execute_result",
          "data": {
            "text/plain": [
              "array([           10,           200,          6000,        240000,\n",
              "            12000000,     720000000,   50400000000, 4032000000000])"
            ]
          },
          "metadata": {},
          "execution_count": 262
        }
      ]
    },
    {
      "cell_type": "markdown",
      "source": [
        "คำนวณทางคณิตศาสตร์ทั้ง ndarray"
      ],
      "metadata": {
        "id": "gCDuXMko_Ulj"
      }
    },
    {
      "cell_type": "code",
      "source": [
        "import numpy as np\n",
        "x = np.arange(10)\n",
        "np.sin(x)\n",
        "np.cos(x)\n",
        "np.tanh(x)"
      ],
      "metadata": {
        "colab": {
          "base_uri": "https://localhost:8080/"
        },
        "id": "C0dH0-QG_Z3M",
        "outputId": "714d4d70-04bb-46bc-ceb6-2a390b780bbf"
      },
      "execution_count": null,
      "outputs": [
        {
          "output_type": "execute_result",
          "data": {
            "text/plain": [
              "array([0.        , 0.76159416, 0.96402758, 0.99505475, 0.9993293 ,\n",
              "       0.9999092 , 0.99998771, 0.99999834, 0.99999977, 0.99999997])"
            ]
          },
          "metadata": {},
          "execution_count": 263
        }
      ]
    },
    {
      "cell_type": "markdown",
      "metadata": {
        "id": "9DHbIhAhY5J7"
      },
      "source": [
        "# ใน numpy มีฟังก์ชันใช้งานกับ list ได้ <font color=\"red\">(เสริมเพิ่มเติม)</font>"
      ]
    },
    {
      "cell_type": "code",
      "metadata": {
        "id": "tBap94BIY93G",
        "colab": {
          "base_uri": "https://localhost:8080/"
        },
        "outputId": "80f1afeb-3ef7-4021-ba56-2398aa6f54cc"
      },
      "source": [
        "x = [[10, 20] , [30, 40] , [50 ,60], [70, 80]]\n",
        "np.shape(x) # ดูรูปร่างของ list"
      ],
      "execution_count": null,
      "outputs": [
        {
          "output_type": "execute_result",
          "data": {
            "text/plain": [
              "(4, 2)"
            ]
          },
          "metadata": {},
          "execution_count": 264
        }
      ]
    },
    {
      "cell_type": "code",
      "metadata": {
        "id": "GTYFrzXiZEAz",
        "colab": {
          "base_uri": "https://localhost:8080/"
        },
        "outputId": "247080b0-918d-4797-89e1-7b92de685f86"
      },
      "source": [
        "np.min(x)  # หาค่าน้อยที่สุด"
      ],
      "execution_count": null,
      "outputs": [
        {
          "output_type": "execute_result",
          "data": {
            "text/plain": [
              "10"
            ]
          },
          "metadata": {},
          "execution_count": 265
        }
      ]
    },
    {
      "cell_type": "code",
      "metadata": {
        "id": "y-W6I3NiZGNt",
        "colab": {
          "base_uri": "https://localhost:8080/"
        },
        "outputId": "0fbcfd01-e962-45a2-8430-aa50e9e0f923"
      },
      "source": [
        "np.max(x)  # หาค่ามากที่สุด"
      ],
      "execution_count": null,
      "outputs": [
        {
          "output_type": "execute_result",
          "data": {
            "text/plain": [
              "80"
            ]
          },
          "metadata": {},
          "execution_count": 266
        }
      ]
    },
    {
      "cell_type": "code",
      "metadata": {
        "id": "8kSQi2G-ZIOc",
        "colab": {
          "base_uri": "https://localhost:8080/"
        },
        "outputId": "b49a1555-8e4e-40a3-f0dc-7bb88775efa2"
      },
      "source": [
        "np.cumsum(x) # บวกค่าแบบสะสมไปเรื่อยๆ"
      ],
      "execution_count": null,
      "outputs": [
        {
          "output_type": "execute_result",
          "data": {
            "text/plain": [
              "array([ 10,  30,  60, 100, 150, 210, 280, 360])"
            ]
          },
          "metadata": {},
          "execution_count": 267
        }
      ]
    },
    {
      "cell_type": "code",
      "metadata": {
        "id": "-B482dQHZWdY",
        "colab": {
          "base_uri": "https://localhost:8080/"
        },
        "outputId": "e7515a08-9786-4bc0-e622-a193577c06c9"
      },
      "source": [
        "np.cumprod(x) # คูณค่าแบบสะสมไปเรื่อยๆ"
      ],
      "execution_count": null,
      "outputs": [
        {
          "output_type": "execute_result",
          "data": {
            "text/plain": [
              "array([           10,           200,          6000,        240000,\n",
              "            12000000,     720000000,   50400000000, 4032000000000])"
            ]
          },
          "metadata": {},
          "execution_count": 268
        }
      ]
    },
    {
      "cell_type": "markdown",
      "source": [
        "# ทิ้งท้าย"
      ],
      "metadata": {
        "id": "p3l0__3C__lq"
      }
    },
    {
      "cell_type": "markdown",
      "source": [
        "สามารถใช้ฟังก์ชั่น savetxt() บันทึกข้อมูลลงเป็นไฟล์ csv ก็ได้"
      ],
      "metadata": {
        "id": "Rzx5QVB5FnXh"
      }
    },
    {
      "cell_type": "code",
      "source": [
        "import numpy as np\n",
        "arr = np.full((100,100), 3.2)\n",
        "np.savetxt('test.csv', arr, fmt=\"%f\", delimiter=',')\n"
      ],
      "metadata": {
        "id": "ipPHy4lEEvar"
      },
      "execution_count": null,
      "outputs": []
    },
    {
      "cell_type": "markdown",
      "source": [
        "สามารถใช้ฟังก์ชั่น savetxt() อ่านข้อมูลจากไฟล์ csv กลับคืนมา\n"
      ],
      "metadata": {
        "id": "a7lGLgu6SdOh"
      }
    },
    {
      "cell_type": "code",
      "source": [
        "arr = np.loadtxt('test.csv',delimiter=',')\n",
        "arr"
      ],
      "metadata": {
        "colab": {
          "base_uri": "https://localhost:8080/"
        },
        "id": "NcIay8Z5FRRg",
        "outputId": "c5d3b362-35ff-4d8f-b4ee-30a8ed7198e0"
      },
      "execution_count": null,
      "outputs": [
        {
          "output_type": "execute_result",
          "data": {
            "text/plain": [
              "array([[3.2, 3.2, 3.2, ..., 3.2, 3.2, 3.2],\n",
              "       [3.2, 3.2, 3.2, ..., 3.2, 3.2, 3.2],\n",
              "       [3.2, 3.2, 3.2, ..., 3.2, 3.2, 3.2],\n",
              "       ...,\n",
              "       [3.2, 3.2, 3.2, ..., 3.2, 3.2, 3.2],\n",
              "       [3.2, 3.2, 3.2, ..., 3.2, 3.2, 3.2],\n",
              "       [3.2, 3.2, 3.2, ..., 3.2, 3.2, 3.2]])"
            ]
          },
          "metadata": {},
          "execution_count": 270
        }
      ]
    },
    {
      "cell_type": "markdown",
      "source": [
        "เนื่องจากเวลาเราใช้ numpy จะต้องสร้างข้อมูล โดยระบุค่าของตัวเลขเอง\n",
        "ถ้ามีเป็นพันเป็นหมื่นข้อมูล จะยุ่งยาก  เราไม่สามารถคีย์ข้อมูลจำนวนเยอะมากได้\n",
        "รวมทั้งอ่านและเขียนข้อมูลเก็บไว้ลงไฟล์ อาจทำไม่ได้สะดวกมากนัก\n",
        "\n",
        "จึงต้องมีวิธีอ่านข้อมูลที่เก็บอยู่ในไฟล์ โดยจะใช้ไลบรารี่ pandas ซึ่งจะสะดวกกว่า\n",
        "\n",
        "คอร์สถัดไป\n",
        "[Pandas](https://colab.research.google.com/drive/1yjwcJYm3KChjBnl6jo4qsrdbPoGKRXzE)"
      ],
      "metadata": {
        "id": "zv5-3WdTS63v"
      }
    },
    {
      "cell_type": "code",
      "source": [
        "import pandas as pd\n",
        "df = pd.read_csv('https://www.w3schools.com/python/pandas/data.csv')\n",
        "arr = df.values\n",
        "print(arr)\n",
        "print(arr.shape)"
      ],
      "metadata": {
        "colab": {
          "base_uri": "https://localhost:8080/"
        },
        "id": "iHyn2oy1_KX1",
        "outputId": "4d4a08f0-9724-4336-e93a-49872b0272f7"
      },
      "execution_count": null,
      "outputs": [
        {
          "output_type": "stream",
          "name": "stdout",
          "text": [
            "[[  60.   110.   130.   409.1]\n",
            " [  60.   117.   145.   479. ]\n",
            " [  60.   103.   135.   340. ]\n",
            " [  45.   109.   175.   282.4]\n",
            " [  45.   117.   148.   406. ]\n",
            " [  60.   102.   127.   300. ]\n",
            " [  60.   110.   136.   374. ]\n",
            " [  45.   104.   134.   253.3]\n",
            " [  30.   109.   133.   195.1]\n",
            " [  60.    98.   124.   269. ]\n",
            " [  60.   103.   147.   329.3]\n",
            " [  60.   100.   120.   250.7]\n",
            " [  60.   106.   128.   345.3]\n",
            " [  60.   104.   132.   379.3]\n",
            " [  60.    98.   123.   275. ]\n",
            " [  60.    98.   120.   215.2]\n",
            " [  60.   100.   120.   300. ]\n",
            " [  45.    90.   112.     nan]\n",
            " [  60.   103.   123.   323. ]\n",
            " [  45.    97.   125.   243. ]\n",
            " [  60.   108.   131.   364.2]\n",
            " [  45.   100.   119.   282. ]\n",
            " [  60.   130.   101.   300. ]\n",
            " [  45.   105.   132.   246. ]\n",
            " [  60.   102.   126.   334.5]\n",
            " [  60.   100.   120.   250. ]\n",
            " [  60.    92.   118.   241. ]\n",
            " [  60.   103.   132.     nan]\n",
            " [  60.   100.   132.   280. ]\n",
            " [  60.   102.   129.   380.3]\n",
            " [  60.    92.   115.   243. ]\n",
            " [  45.    90.   112.   180.1]\n",
            " [  60.   101.   124.   299. ]\n",
            " [  60.    93.   113.   223. ]\n",
            " [  60.   107.   136.   361. ]\n",
            " [  60.   114.   140.   415. ]\n",
            " [  60.   102.   127.   300. ]\n",
            " [  60.   100.   120.   300. ]\n",
            " [  60.   100.   120.   300. ]\n",
            " [  45.   104.   129.   266. ]\n",
            " [  45.    90.   112.   180.1]\n",
            " [  60.    98.   126.   286. ]\n",
            " [  60.   100.   122.   329.4]\n",
            " [  60.   111.   138.   400. ]\n",
            " [  60.   111.   131.   397. ]\n",
            " [  60.    99.   119.   273. ]\n",
            " [  60.   109.   153.   387.6]\n",
            " [  45.   111.   136.   300. ]\n",
            " [  45.   108.   129.   298. ]\n",
            " [  60.   111.   139.   397.6]\n",
            " [  60.   107.   136.   380.2]\n",
            " [  80.   123.   146.   643.1]\n",
            " [  60.   106.   130.   263. ]\n",
            " [  60.   118.   151.   486. ]\n",
            " [  30.   136.   175.   238. ]\n",
            " [  60.   121.   146.   450.7]\n",
            " [  60.   118.   121.   413. ]\n",
            " [  45.   115.   144.   305. ]\n",
            " [  20.   153.   172.   226.4]\n",
            " [  45.   123.   152.   321. ]\n",
            " [ 210.   108.   160.  1376. ]\n",
            " [ 160.   110.   137.  1034.4]\n",
            " [ 160.   109.   135.   853. ]\n",
            " [  45.   118.   141.   341. ]\n",
            " [  20.   110.   130.   131.4]\n",
            " [ 180.    90.   130.   800.4]\n",
            " [ 150.   105.   135.   873.4]\n",
            " [ 150.   107.   130.   816. ]\n",
            " [  20.   106.   136.   110.4]\n",
            " [ 300.   108.   143.  1500.2]\n",
            " [ 150.    97.   129.  1115. ]\n",
            " [  60.   109.   153.   387.6]\n",
            " [  90.   100.   127.   700. ]\n",
            " [ 150.    97.   127.   953.2]\n",
            " [  45.   114.   146.   304. ]\n",
            " [  90.    98.   125.   563.2]\n",
            " [  45.   105.   134.   251. ]\n",
            " [  45.   110.   141.   300. ]\n",
            " [ 120.   100.   130.   500.4]\n",
            " [ 270.   100.   131.  1729. ]\n",
            " [  30.   159.   182.   319.2]\n",
            " [  45.   149.   169.   344. ]\n",
            " [  30.   103.   139.   151.1]\n",
            " [ 120.   100.   130.   500. ]\n",
            " [  45.   100.   120.   225.3]\n",
            " [  30.   151.   170.   300. ]\n",
            " [  45.   102.   136.   234. ]\n",
            " [ 120.   100.   157.  1000.1]\n",
            " [  45.   129.   103.   242. ]\n",
            " [  20.    83.   107.    50.3]\n",
            " [ 180.   101.   127.   600.1]\n",
            " [  45.   107.   137.     nan]\n",
            " [  30.    90.   107.   105.3]\n",
            " [  15.    80.   100.    50.5]\n",
            " [  20.   150.   171.   127.4]\n",
            " [  20.   151.   168.   229.4]\n",
            " [  30.    95.   128.   128.2]\n",
            " [  25.   152.   168.   244.2]\n",
            " [  30.   109.   131.   188.2]\n",
            " [  90.    93.   124.   604.1]\n",
            " [  20.    95.   112.    77.7]\n",
            " [  90.    90.   110.   500. ]\n",
            " [  90.    90.   100.   500. ]\n",
            " [  90.    90.   100.   500.4]\n",
            " [  30.    92.   108.    92.7]\n",
            " [  30.    93.   128.   124. ]\n",
            " [ 180.    90.   120.   800.3]\n",
            " [  30.    90.   120.    86.2]\n",
            " [  90.    90.   120.   500.3]\n",
            " [ 210.   137.   184.  1860.4]\n",
            " [  60.   102.   124.   325.2]\n",
            " [  45.   107.   124.   275. ]\n",
            " [  15.   124.   139.   124.2]\n",
            " [  45.   100.   120.   225.3]\n",
            " [  60.   108.   131.   367.6]\n",
            " [  60.   108.   151.   351.7]\n",
            " [  60.   116.   141.   443. ]\n",
            " [  60.    97.   122.   277.4]\n",
            " [  60.   105.   125.     nan]\n",
            " [  60.   103.   124.   332.7]\n",
            " [  30.   112.   137.   193.9]\n",
            " [  45.   100.   120.   100.7]\n",
            " [  60.   119.   169.   336.7]\n",
            " [  60.   107.   127.   344.9]\n",
            " [  60.   111.   151.   368.5]\n",
            " [  60.    98.   122.   271. ]\n",
            " [  60.    97.   124.   275.3]\n",
            " [  60.   109.   127.   382. ]\n",
            " [  90.    99.   125.   466.4]\n",
            " [  60.   114.   151.   384. ]\n",
            " [  60.   104.   134.   342.5]\n",
            " [  60.   107.   138.   357.5]\n",
            " [  60.   103.   133.   335. ]\n",
            " [  60.   106.   132.   327.5]\n",
            " [  60.   103.   136.   339. ]\n",
            " [  20.   136.   156.   189. ]\n",
            " [  45.   117.   143.   317.7]\n",
            " [  45.   115.   137.   318. ]\n",
            " [  45.   113.   138.   308. ]\n",
            " [  20.   141.   162.   222.4]\n",
            " [  60.   108.   135.   390. ]\n",
            " [  60.    97.   127.     nan]\n",
            " [  45.   100.   120.   250.4]\n",
            " [  45.   122.   149.   335.4]\n",
            " [  60.   136.   170.   470.2]\n",
            " [  45.   106.   126.   270.8]\n",
            " [  60.   107.   136.   400. ]\n",
            " [  60.   112.   146.   361.9]\n",
            " [  30.   103.   127.   185. ]\n",
            " [  60.   110.   150.   409.4]\n",
            " [  60.   106.   134.   343. ]\n",
            " [  60.   109.   129.   353.2]\n",
            " [  60.   109.   138.   374. ]\n",
            " [  30.   150.   167.   275.8]\n",
            " [  60.   105.   128.   328. ]\n",
            " [  60.   111.   151.   368.5]\n",
            " [  60.    97.   131.   270.4]\n",
            " [  60.   100.   120.   270.4]\n",
            " [  60.   114.   150.   382.8]\n",
            " [  30.    80.   120.   240.9]\n",
            " [  30.    85.   120.   250.4]\n",
            " [  45.    90.   130.   260.4]\n",
            " [  45.    95.   130.   270. ]\n",
            " [  45.   100.   140.   280.9]\n",
            " [  60.   105.   140.   290.8]\n",
            " [  60.   110.   145.   300. ]\n",
            " [  60.   115.   145.   310.2]\n",
            " [  75.   120.   150.   320.4]\n",
            " [  75.   125.   150.   330.4]]\n",
            "(169, 4)\n"
          ]
        }
      ]
    },
    {
      "cell_type": "markdown",
      "source": [
        "# ลิงก์เอกสารชุดนี้\n",
        "\n",
        "* https://colab.research.google.com/drive/1VYaRGqAtJ3uw1G5LTw60jRaCNMR2LDXU?usp=sharing\n",
        "\n",
        "\n",
        "\n"
      ],
      "metadata": {
        "id": "GJRddaEjkET3"
      }
    }
  ]
}