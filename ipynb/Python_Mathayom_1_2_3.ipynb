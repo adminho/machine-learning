{
  "nbformat": 4,
  "nbformat_minor": 0,
  "metadata": {
    "colab": {
      "provenance": [],
      "collapsed_sections": [
        "Rb59tX3fNMT9",
        "zdhkZrFpaxel"
      ],
      "toc_visible": true
    },
    "kernelspec": {
      "name": "python3",
      "display_name": "Python 3"
    }
  },
  "cells": [
    {
      "cell_type": "markdown",
      "metadata": {
        "id": "iHy2-J-5vSS2"
      },
      "source": [
        "<img height=\"45px\" src=\"https://avatars3.githubusercontent.com/u/20337240?s=460&v=4\" align=\"left\" hspace=\"10px\" vspace=\"0px\">\n",
        "\n",
        "# สรุปเนื้อหาภาษา Python (ไพทอน)\n",
        "<h2> ระดับชั้นมัธยมศึกษา ม.1, ม.2, ม.3</h2>\n",
        "ปรับปรุงใหม่\n",
        "\n",
        "<a href='https://www.facebook.com/programmerthai'><font color='green'>สรุปและเรียบเรียงโดย โปรแกรมเมอร์ไทย thai programmer</font></a>"
      ]
    },
    {
      "cell_type": "markdown",
      "metadata": {
        "id": "iurSizTm7Kwt"
      },
      "source": [
        "วิชา \"วิทยาการคำนวณ\" เป็นหลักสูตรใหม่ที่รวม 3 วิชาเข้าด้วยกัน\n",
        "\n",
        "**วิทยการคำนวณ = วิทย์คอม + IT+ การรู้ดิจิทัล**\n",
        "\n",
        "<pre>\n",
        "ซึ่งในตำราเรียน ม.1 กับ ม.2\n",
        "เขาไม่ได้สอนเขียนโปรแกรมทั้งเล่ม\n",
        "เดี่ยวจะคิดว่าสอนหมดไม่ใช่นะ\n",
        "</pre>\n",
        "\n",
        "<pre>\n",
        "😘 ในหลักสูตรม. ต้น\n",
        "เขาให้เลือกเรียน python หรือ scratch (เลือกเรียนตัวใดตัวหนึ่ง)\n",
        "</pre>\n",
        "\n",
        "**โดยส่วนเขียนโปรแกรมเป็นแค่ส่วนหนึ่งในเนื้อหาเรียนทั้งหมดเท่านั้น**\n",
        "* ของม.1 เนื้อหา Python อยู่ในบทที่ 3 ขณะที่ Scratch อยู่ในบทที่ 4\n",
        "* ของม.2 เนื้อหา Python อยู่ในบทที่ 2 ขณะที่ Scratch อยู่ในบทที่ 3\n",
        "* ของม.3 เนื้อหา Python อยู่ในบทที่ 2 ขณะที่ Scratch อยู่ในบทที่ 3\n",
        "<br/>\n",
        "\n",
        "<pre>\n",
        "โดยผมได้ดึงเนื้อหา Python ออกมา ทั้งของ ม.1 กับ ม.2\n",
        "แล้วสรุปรวมยอดให้ทีเดียวให้แล้วครับ\n",
        "สะดวกต่อการทบทวนเป็นประโยชน์ต่อเด็กๆ คุณครู และผู้ปกครอง\n",
        "</pre>\n",
        "<hr>"
      ]
    },
    {
      "cell_type": "markdown",
      "metadata": {
        "id": "pO4hlAxN-1Sd"
      },
      "source": [
        "# How to use Colab?\n",
        "\n",
        "Colab พัฒนาโดย google เป็นหน้าเว็บเอาไว้ใช้เขียนโค้ด python ได้ผ่านทางหน้าเว็บ พร้อมทั้งเป็นเอกสารในตัว (เหมือนกับ Jupyter Notebook)\n",
        "\n",
        "โดยหน้าเว็บจะเชื่อมต่อกับ  cloud service แถมยังเชื่อมต่อกับ google drive ของเราก็ได้ด้วย\n",
        "พร้อมทั้งรองรับ GPU และ TPU\n",
        "จึงเหมาะสำหรับงาน data science, machine learning, AI\n",
        "\n",
        "**หมายเหตุ** <font color='blue'>**ต้องมี Gmail**</font> ถึงจะรันหน้า colab ได้ และสามารถแก้ไขโค้ดได้ แต่**ไฟล์จะไม่ถูก save**\n",
        "\n",
        "<h3>สามารถแก้ไข และรันได้</h3>\n",
        "<img height=\"200px\" src=\"https://raw.githubusercontent.com/adminho/machine-learning/master/images/use_Colab3.png\" align=\"center\" hspace=\"10px\" vspace=\"0px\">\n",
        "\n",
        "\n",
        "---\n",
        "\n",
        "<h3>ถ้าจะแก้ไขและ save ได้ด้วย ต้อง copy ไฟล์ .ipynb ไปที่่ google drive ของเราเสียก่อน ดังนี้</h3>\n",
        "\n",
        "<h3>กด Copy to Drive ... เพื่อบันทึกไว้ google drive เครื่องเรา</h3>\n",
        "\n",
        "<img height=\"200px\" src=\"https://raw.githubusercontent.com/adminho/machine-learning/master/images/use_Colab1.png\" align=\"center\" hspace=\"10px\" vspace=\"0px\">\n",
        "\n",
        "\n",
        "\n",
        "<h3>จากนั้นไฟล์ .ipynb จะบันทึกที่ Google Drive ของเรา</h3>\n",
        "\n",
        "<img height=\"200px\" src=\"https://raw.githubusercontent.com/adminho/machine-learning/master/images/use_Colab2.png\" align=\"center\" hspace=\"10px\" vspace=\"0px\">\n",
        "\n",
        "---\n",
        "\n",
        "<h3>แต่ถ้าเราไม่มี Gmail ดาวน์โหลดไฟล์ .ipynb แล้วนำไปเปิดที่ Jupyter Notebook ในเครื่องของเรา </h3>\n",
        "\n",
        "\n",
        "<img height=\"500px\" src=\"https://raw.githubusercontent.com/adminho/machine-learning/master/images/use_Colab4.png\" align=\"center\" hspace=\"10px\" vspace=\"0px\">"
      ]
    },
    {
      "cell_type": "markdown",
      "metadata": {
        "id": "Kr9fl9IACH3t"
      },
      "source": [
        "<img height=\"80px\" src=\"https://www.patanasongsivilai.com/blog/wp-content/uploads/2019/11/cover_m.1.jpg\" align=\"left\" hspace=\"10px\" vspace=\"0px\">\n",
        "\n",
        "# สรุป Python ม.1"
      ]
    },
    {
      "cell_type": "markdown",
      "metadata": {
        "id": "SKA7e9cDbCrS"
      },
      "source": [
        "<img height=\"50px\" src=\"https://cdn.pixabay.com/photo/2013/07/13/13/42/animal-161424_960_720.png\" align=\"left\" hspace=\"10px\" vspace=\"0px\">\n",
        "\n",
        "## รู้จัก Python\n",
        "\n",
        "<hr>"
      ]
    },
    {
      "cell_type": "markdown",
      "metadata": {
        "id": "l0gQV0GZ99bH"
      },
      "source": [
        "### การใช้งาน Python\n",
        "\n",
        "เราสามารถเขียน Python ได้ 2 วิธี ได้แก่\n",
        "\n",
        "\n",
        "1. **ติดตั้งไพทอนไอดีอีบนเครื่องคอมตัวเอง** เช่น ใช้ PyCharm ซึ่งดาวน์โหลดได้ที่ https://www.jetbrains.com/pycharm/download/\n",
        "\n",
        "2. **เขียนโปรแกรมไพทอนออนไลน์** ซึ่งปัจจุบันมีหลายเว็บที่ให้บริการ เช่น\n",
        "https://repl.it/languages/python3\n",
        "\n",
        "<hr>\n",
        "\n",
        "โหมดการใช้งาน Python ได้แก่\n",
        "\n",
        "1. **โหมดสคริปต์ (Script mode)** ต้องเขียนชุดคำสั่งทั้งหมดลงในไฟล์แล้วบันทึกไว้ เวลาสั่งรันโปรแกรมก็ให้ทำจากไฟล์ทีเดียวเลย ซึ่งข้อดีเราสามารถรันโปรแกรมได้ซ้ำๆ และแก้ไขเพิ่มเติมได้ภายหลัง\n",
        "2. **อินเตอร์แอคทีฟโหมด (interactive mode)** เป็นการเขียนชุดคำสั่งที่ละคำสั่ง แล้วรันทันทีละคำสั่งด้วยมือเราเอง ไม่มีการบันทึกเป็นไฟล์\n",
        "\n",
        "**หมายเหตุ**\n",
        "\n",
        "คำว่า \"รัน (Run)\" ในความหมายคอมพิวเตอร์ไม่ได้แปลว่า \"วิ่ง\" แต่หมายถึงให้คอมพิวเตอร์มันทำงานตามโปรแกรมที่เขียนไว้\n",
        "\n",
        "\n"
      ]
    },
    {
      "cell_type": "markdown",
      "metadata": {
        "id": "yWJ90I4b66Xo"
      },
      "source": [
        "## เริ่มต้นเขียนโปรแกรมกับ \"\"สวัสดีชาวโลก\"\n",
        "\n"
      ]
    },
    {
      "cell_type": "markdown",
      "metadata": {
        "id": "fhsSfeJmYpkP"
      },
      "source": [
        "**ตัวอย่าง** คำสั่งแสดงผลในภาษา Python"
      ]
    },
    {
      "cell_type": "code",
      "metadata": {
        "id": "gGuYimItYQ17"
      },
      "source": [
        "print(\"Hello World!\")"
      ],
      "execution_count": null,
      "outputs": []
    },
    {
      "cell_type": "markdown",
      "metadata": {
        "id": "7nKnvsijY8vT"
      },
      "source": [
        "**ตัวอย่าง** คำสั่งรับข้อมูลเข้า"
      ]
    },
    {
      "cell_type": "code",
      "metadata": {
        "id": "Qku3cav8975P"
      },
      "source": [
        "name = \"Ying\"\n",
        "print(name)"
      ],
      "execution_count": null,
      "outputs": []
    },
    {
      "cell_type": "code",
      "metadata": {
        "id": "qQSHVEDJZROe"
      },
      "source": [
        "name = input(\"Please enter your name: \")\n",
        "print(name)"
      ],
      "execution_count": null,
      "outputs": []
    },
    {
      "cell_type": "markdown",
      "metadata": {
        "id": "Q32imRWgZntQ"
      },
      "source": [
        "## ตัวแปร\n",
        "\n",
        "<hr>"
      ]
    },
    {
      "cell_type": "markdown",
      "metadata": {
        "id": "G5dBA_hCZ5MN"
      },
      "source": [
        "**ตัวแปร (variable)** คืออะไร\n",
        "\n",
        "ตัวแปรใช้ในการอ้างอิงข้อมูล โดยตัวแปรจะถูกกำหนดค่าด้วยเครื่องหมาย = เช่น"
      ]
    },
    {
      "cell_type": "code",
      "metadata": {
        "id": "Ua4v41MsZnSN"
      },
      "source": [
        "c = 16\n",
        "name = \"somchai\""
      ],
      "execution_count": null,
      "outputs": []
    },
    {
      "cell_type": "markdown",
      "metadata": {
        "id": "RDfBNmnE0v1o"
      },
      "source": [
        "**หมายเหตุ**\n",
        "* ประกอบด้วย อักษร ตัวเลข และเครื่องหมายขีดเส้นใต้ (_) ได้เท่านั้น\n",
        "* แต่อักษรขึ้นต้นต้องเป็นอักษร หรือเครื่องหมายขีดเส้นต้น ห้ามเป็นตัวเลข\n",
        "* ภาษาอังกฤษตัวพิพม์เล็ก  หรือพิมพ์ ใหญ่ถือว่าแตกต่างกัน\n",
        "ชื่*่ ่อภาษาไทยก็ได้นะ ไม่ว่าอะไร\n",
        "\n",
        "* การตั้งชื่อตัวแปรต้องไม่ซ้ำกับคำหลัก (keyword) ที่ python ใช้เป็นคำสั่ง โดยคำหลักมีดังนี้\n",
        "\n",
        "\n",
        "<font color='blue'>  \n",
        "and, as, assert, break, class, continue, def,\n",
        "del, elif, else, except, exec, finally, for,\n",
        "from, global, if, import, in, is, lambda,\n",
        "nonlocal, not, or, pass, raise, return, try,\n",
        "while, with, yield, True, False, None\n",
        "  </font>\n",
        "\n",
        " **ไม่ได้ห้าม** แต่แนะนำอย่าไปชนกับชื่อฟังก์ชัน เช่น print, type, abs, input เป็นต้น"
      ]
    },
    {
      "cell_type": "code",
      "metadata": {
        "id": "Y1isuKL03pL8"
      },
      "source": [
        "# ตั้งชื่อตัวแปรแบบนี้ี้้ สามารถทำได้\n",
        "address = \"ประเทศไทย\"\n",
        "number0844 = \"08-888-7777\"\n",
        "send_email =\"ทดสอบ@ชอบทดลอง\"\n",
        "_move = 12.14\n",
        "Count = 10\n",
        "count = 100 # count กับ Count คนละตัวแปร\n",
        "สวัสดีครับ =\"ยินดีที่ได้รู้จัก\"\n",
        "AND = \"And\""
      ],
      "execution_count": null,
      "outputs": []
    },
    {
      "cell_type": "markdown",
      "metadata": {
        "id": "USa7wG2BaFEL"
      },
      "source": [
        "<hr>\n",
        "\n",
        "**เกร็ดน่ารู้** การตรวจสอบชนิดข้อมูล ด้วยฟังก์ชัน type()\n",
        "\n",
        "ตัวเลขจำนวนเต็ม 16 และสตริง \"somchai\" เป็นข้อมูลคนละชนิดกัน ใน python ตรวจสอบชนิดข้อมูลได้ด้วยฟังก์ชัน **type()**\n",
        "<hr>\n"
      ]
    },
    {
      "cell_type": "code",
      "metadata": {
        "id": "GrfyHepQaQIt"
      },
      "source": [
        "type(16)"
      ],
      "execution_count": null,
      "outputs": []
    },
    {
      "cell_type": "code",
      "metadata": {
        "id": "nPUhK6wzafjA"
      },
      "source": [
        "type('somchai')"
      ],
      "execution_count": null,
      "outputs": []
    },
    {
      "cell_type": "code",
      "metadata": {
        "id": "1qshc_5lq22j"
      },
      "source": [
        "type(\"somchai\")"
      ],
      "execution_count": null,
      "outputs": []
    },
    {
      "cell_type": "code",
      "metadata": {
        "id": "hVUl-oVRp6ON"
      },
      "source": [
        "type(3+5)"
      ],
      "execution_count": null,
      "outputs": []
    },
    {
      "cell_type": "code",
      "metadata": {
        "id": "rw7H3_Vgajdq"
      },
      "source": [
        "type(\"3+5\")"
      ],
      "execution_count": null,
      "outputs": []
    },
    {
      "cell_type": "markdown",
      "metadata": {
        "id": "v-EMuz91c2cJ"
      },
      "source": [
        "**การเปลี่ยนค่าของตัวแปร**"
      ]
    },
    {
      "cell_type": "code",
      "metadata": {
        "id": "1aYbR0Xyc5kL"
      },
      "source": [
        "c = 16\n",
        "print(c)\n",
        "\n",
        "d = c\n",
        "print(d)\n",
        "\n",
        "d = 15\n",
        "print(d)"
      ],
      "execution_count": null,
      "outputs": []
    },
    {
      "cell_type": "markdown",
      "metadata": {
        "id": "rRx93hWGdGl6"
      },
      "source": [
        "## ชนิดข้อมูลพื้นฐาน\n",
        "<hr>\n",
        "\n",
        "ข้อมูลพื้นฐานได้แก่\n",
        "\n",
        "1. **string data type (ข้อมูลประเภทข้อความ หรือสตริง)**\n",
        "การกำหนดข้อมูลแบบ String จะใช้เครื่องหมาย ' หรือ \" ครอบหน้าและหลังข้อความที่ต้องการ หรือถ้ามีหลายบรรทัดก็จะใช้เครื่อง ' หรือ \" ติดต่อกัน 3 ตัว มาครอบหน้าและหลังบรรทัดนั้นที่ต้องการ\n",
        "\n",
        "2. **numerical data type (ข้อมูลประเภทจำนวน)** ใน python มีข้อมูลที่เป็นจำนวนหลายตัวสามารถนำไปคำนวณทางคณิตศาสตร์ได้ แต่ในระดับมัธยมเขาได้แนะนำ 2 ตัวได้แก่\n",
        "\n",
        "* <font color='blue'>signed integer (จำนวนเต็มแบบมีเครื่องหมาย) หรือ integer  (จำนวนเต็ม ) หรือ int</font> สามารถเก็บค่าจำนวนเต็มบวกและจำนวนเต็มลบ\n",
        "\n",
        "* <font color='blue'>floating point number หรือ float (จำนวนจริง)</font> สามารถเก็บค่าทั้งจำนวนจริงบวกและจำนวนจริงลบ ที่อยู่ในทศนิยมได้\n",
        "\n",
        "\n"
      ]
    },
    {
      "cell_type": "markdown",
      "metadata": {
        "id": "sAiTnurid44T"
      },
      "source": [
        "**ตัวอย่าง** การกำหนดข้อมูลชนิดข้อความ (สตริง)"
      ]
    },
    {
      "cell_type": "code",
      "metadata": {
        "id": "UA3GRRX3iees"
      },
      "source": [
        "organization = \"สสวท.\"\n",
        "address = \"924 ถนนสุขุมวิท เขตคลองเตย กรุงเทพฯ 10110\"\n",
        "\n",
        "print(organization)\n",
        "print(address)\n",
        "\n",
        "address=\"สสวท.\"\n",
        "print(address)"
      ],
      "execution_count": null,
      "outputs": []
    },
    {
      "cell_type": "markdown",
      "metadata": {
        "id": "glkhAihB6uEH"
      },
      "source": [
        "**ตัวอย่าง** สตริงหลายบรรทัด"
      ]
    },
    {
      "cell_type": "code",
      "metadata": {
        "id": "VahYQhv47HeQ"
      },
      "source": [
        "print(\"\"\"สสวท.\n",
        "924 ถนนสุขุมวิท เขตคลองเตย\n",
        "กรุงเทพฯ 10110\n",
        "\"\"\")"
      ],
      "execution_count": null,
      "outputs": []
    },
    {
      "cell_type": "markdown",
      "metadata": {
        "id": "QDMsdjkV5e9R"
      },
      "source": [
        "<hr>\n",
        "\n",
        "**เกร็ดน่ารู้** ตัวดำเนินการ + และ * เวลาใช้งานกับสตริง\n",
        "\n",
        "* เมื่อใช้ + ระหว่างสองสตริง จะเป็นการนำสตริงมาต่อกัน\n",
        "* เมื่อใช้ * ระหว่างสตริงกับเลขจำนวนเต็ม จะเป็นการนำสตริงมาต่อกันตามจำนวนครั้งของเลขจำนวนเต็ม\n",
        "\n",
        "<hr>\n"
      ]
    },
    {
      "cell_type": "code",
      "metadata": {
        "id": "4fG-kNfM9Bby"
      },
      "source": [
        "\"Hello\" + \"World\""
      ],
      "execution_count": null,
      "outputs": []
    },
    {
      "cell_type": "code",
      "metadata": {
        "id": "SvbvLzAv9GxL"
      },
      "source": [
        "\"Hello\" + \"World\" + \"!\""
      ],
      "execution_count": null,
      "outputs": []
    },
    {
      "cell_type": "code",
      "metadata": {
        "id": "bfkVmD8j9M94"
      },
      "source": [
        "3*\"Hello+\""
      ],
      "execution_count": null,
      "outputs": []
    },
    {
      "cell_type": "markdown",
      "metadata": {
        "id": "CsrOQr-zjHB0"
      },
      "source": [
        "**ตัวอย่าง** การกำหนดข้อมูลจำนวนและการคำนวณพื้นฐาน"
      ]
    },
    {
      "cell_type": "code",
      "metadata": {
        "id": "9rzUShFXjoAz",
        "colab": {
          "base_uri": "https://localhost:8080/",
          "height": 68
        },
        "outputId": "fa12cdc2-49f5-4def-b325-42eb9f0b4cb2"
      },
      "source": [
        "base = 10\n",
        "height = 15\n",
        "\n",
        "area = (1/2) * base * height\n",
        "\n",
        "print(\"base =\", base)\n",
        "print(\"height =\", height)\n",
        "print(\"area =\", area)"
      ],
      "execution_count": null,
      "outputs": [
        {
          "output_type": "stream",
          "text": [
            "base = 10\n",
            "height = 15\n",
            "area = 75.0\n"
          ],
          "name": "stdout"
        }
      ]
    },
    {
      "cell_type": "markdown",
      "metadata": {
        "id": "1rbuPRFs6BJY"
      },
      "source": [
        "<hr>\n",
        "\n",
        "**เกร็ดน่ารู้** ตัวดำเนินการทางคณิตศาสตร์\n",
        "\n",
        "ตัวดำเนินการสำหรับการบวก ลบ คูณ และหาร ใน python ใช้เครื่องหมาย +, -, * และ / ตามลำดับ\n",
        "\n",
        "นอกจากนี้แล้วยังมีการใช้เครื่องหมาย **, //, % ซึ่งหมายถึงการยกกำลัง, การหารปัดเศษทิ้ง และเศษที่ได้จากการหาร ตามลำดับ\n",
        "\n",
        "<hr>\n"
      ]
    },
    {
      "cell_type": "code",
      "metadata": {
        "id": "FXLXjzrs9WAX"
      },
      "source": [
        "4**3"
      ],
      "execution_count": null,
      "outputs": []
    },
    {
      "cell_type": "code",
      "metadata": {
        "id": "FRNGL3BP9bTK"
      },
      "source": [
        "7//3"
      ],
      "execution_count": null,
      "outputs": []
    },
    {
      "cell_type": "code",
      "metadata": {
        "id": "2YtQYBLu9pt8"
      },
      "source": [
        "7%3"
      ],
      "execution_count": null,
      "outputs": []
    },
    {
      "cell_type": "markdown",
      "metadata": {
        "id": "qz6XMgnQra-O"
      },
      "source": [
        "**ตัวอย่าง** ทอนเท่าไร\n",
        "\n",
        "นักเรียนซื้อแฟลชไดรฟ์ ขนาด 32 GB ราคา 117 บาท ที่ร้านสะดวกซื้อ โดยจ่ายเงินด้วยธนบัตรหนึ่งร้อยบาท 2 ใบ ในลิ้นชักเก็บเงินของร้าน มีแต่ธนบัตร 20 บาท และเหรียญหนึ่งบาท พนักงานจะต้องทอนเงินเป็นธนบัตร 20 บาท จำนวนกี่ใบ และเหรียญหนึ่งบาทจำนวนกี่เหรียญ?\n"
      ]
    },
    {
      "cell_type": "code",
      "metadata": {
        "id": "OkVxccger-ih"
      },
      "source": [
        "change = 200 - 177\n",
        "note20 = change//20\n",
        "coin1 = change % 20\n",
        "\n",
        "print(\"เงินทอนทั้งหมด\", change, \"บาท\")\n",
        "print(\"เป็นธนบัตรยี่สิบบาท จำนวน\", note20, \"ใบ\")\n",
        "print(\"เป็นหนึ่งบาท จำนวน\", coin1, \"เหรียญ\")"
      ],
      "execution_count": null,
      "outputs": []
    },
    {
      "cell_type": "markdown",
      "metadata": {
        "id": "x3l5B7z5kefK"
      },
      "source": [
        "## การแปลงชนิดข้อมูล\n",
        "\n",
        "<hr>"
      ]
    },
    {
      "cell_type": "markdown",
      "metadata": {
        "id": "4B2BNpgwk8gj"
      },
      "source": [
        "**ตัวอย่าง** การแปลงข้อมูลสตริงให้เป็นข้อมูลชนิดจำนวน"
      ]
    },
    {
      "cell_type": "code",
      "metadata": {
        "id": "Q-AqYxpfko6v"
      },
      "source": [
        "val = input(\"ป้อนค่าจำนวนเต็มค่าหนึ่ง \")\n",
        "type(val)\n"
      ],
      "execution_count": null,
      "outputs": []
    },
    {
      "cell_type": "code",
      "metadata": {
        "id": "FynFQnAjmGr9"
      },
      "source": [
        "intVal = int(val)\n",
        "type(intVal)"
      ],
      "execution_count": null,
      "outputs": []
    },
    {
      "cell_type": "markdown",
      "metadata": {
        "id": "KS774reDmMI_"
      },
      "source": [
        "**ตัวอย่าง** รวมด้วยช่วยแชร์\n",
        "\n",
        "ถ้านักเรียนไปรับประทานอาหารฉลองวันปิดเทอมกับเพื่อน และตกลงกันว่าจะจ่ายค่าอาหารคนละเท่าๆ กัน นักเรียนแต่ละคนต้องจ่ายค่าอาหารคนละเท่าใด?\n",
        "\n",
        "\n"
      ]
    },
    {
      "cell_type": "code",
      "metadata": {
        "id": "WHWTDuVLm9X3"
      },
      "source": [
        "totalPrice = int(input('ค่าอาหารทั้งหมด '))\n",
        "\n",
        "number = int(input('จำนวนผู้รับประทานอาหาร '))\n",
        "avg = totalPrice/number\n",
        "\n",
        "print('จ่ายค่าอาหารคนละ', avg, 'บาท')"
      ],
      "execution_count": null,
      "outputs": []
    },
    {
      "cell_type": "markdown",
      "metadata": {
        "id": "ePNdY6LEnpNL"
      },
      "source": [
        "## การทำงานแบบวนซ้ำ\n",
        "\n",
        "ใช้ประโยค for เพื่อทำการวนลูป\n",
        "\n",
        "<hr>"
      ]
    },
    {
      "cell_type": "markdown",
      "metadata": {
        "id": "CRAGxXmdnrRy"
      },
      "source": [
        "**ตัวอย่าง echo** โปรแกรมรับชื่อ และนามสกุล แล้วพิมพ์ซ้ำออกทางจอภาพจำนวน 5 ครั้ง"
      ]
    },
    {
      "cell_type": "code",
      "metadata": {
        "id": "KdU_ePLPngeO"
      },
      "source": [
        "name = input('Please enter your firstname ')\n",
        "surname = input('Please enter your lastname ')\n",
        "\n",
        "for x in range(5):\n",
        "  print(x, name)\n",
        "  print(x, surname)\n",
        "\n",
        "print('Bye bye!')"
      ],
      "execution_count": null,
      "outputs": []
    },
    {
      "cell_type": "markdown",
      "metadata": {
        "id": "h19UtwN9y7tl"
      },
      "source": [
        "**ตัวอย่าง** ร่วมด้วยช่วยแชร์ แบบคำนวณซ้ำตามจำนวนรอบที่ผู้ใช้ระบุ"
      ]
    },
    {
      "cell_type": "code",
      "metadata": {
        "id": "l1i-DC_lyzgN"
      },
      "source": [
        "i = int(input('คุณต้องการคำนวณกี่รอบคะ '))\n",
        "\n",
        "for count in range(i):\n",
        "    print('การคำนวณรอบที่ ', count+1)\n",
        "    totalPrice = int(input('ราคาอาหารทั้งหมด '))\n",
        "    number = int(input('จำนวนผู้รับประทานอาหาร '))\n",
        "    avg = totalPrice/number\n",
        "    print('จ่ายค่าอาหรคนละ ', avg, 'บาท')\n",
        "\n",
        "print('โปรแกรมทำงานเสร็จแล้ว')"
      ],
      "execution_count": null,
      "outputs": []
    },
    {
      "cell_type": "markdown",
      "metadata": {
        "id": "pK7pAtXdnm8h"
      },
      "source": [
        "## การทำงานแบบมีทางเลือก\n",
        "\n",
        "ใช้ประโยค if เพื่อกำหนดเงื่อนไขทางเลือก\n",
        "<hr>"
      ]
    },
    {
      "cell_type": "markdown",
      "metadata": {
        "id": "p947cZsXqasD"
      },
      "source": [
        "**ตัวอย่าง** มากไป - น้อยไป"
      ]
    },
    {
      "cell_type": "code",
      "metadata": {
        "id": "1XgzkDj9qJqk",
        "colab": {
          "base_uri": "https://localhost:8080/",
          "height": 51
        },
        "outputId": "be9d7d6b-fbb1-4352-e5d7-e028f71d05ec"
      },
      "source": [
        "x = int(input(\"Enter a number: \"))\n",
        "\n",
        "if x < 50:\n",
        "  print(\"Too small\")\n",
        "if x > 50:\n",
        "  print(\"Too large\")\n",
        "if x == 50:\n",
        "  print(\"Perfect\")"
      ],
      "execution_count": null,
      "outputs": [
        {
          "output_type": "stream",
          "text": [
            "Enter a number: 100\n",
            "Too large\n"
          ],
          "name": "stdout"
        }
      ]
    },
    {
      "cell_type": "markdown",
      "metadata": {
        "id": "eYMmoi6T8Tzr"
      },
      "source": [
        "<hr>\n",
        "\n",
        "**เกร็ดน่ารู้** ตัวดำเนินการเปรียบเทียบ\n",
        "\n",
        "ตัวดำเนินการที่ใช้ในการเปรียบเทียบ ได้แก่\n",
        "\n",
        "* น้อยกว่า(<)\n",
        "\n",
        "* มากกว่า(>)\n",
        "\n",
        "* เท่ากับ (==)\n",
        "\n",
        "* น้อยกว่าหรือเท่ากับ(<=)\n",
        "\n",
        "* มากกว่าหรือเท่ากับ(>=)\n",
        "\n",
        "* และไม่เท่ากับ(!=)\n",
        "\n",
        "<hr>\n"
      ]
    },
    {
      "cell_type": "markdown",
      "metadata": {
        "id": "gYfIRJEConh-"
      },
      "source": [
        "**ตัวอย่าง** ทายใจ"
      ]
    },
    {
      "cell_type": "code",
      "metadata": {
        "id": "WCs9yWYZo1vm"
      },
      "source": [
        "puzzle = 3\n",
        "guess = int(input('เลขที่ทาย 1-10 คือ '))\n",
        "\n",
        "if puzzle == guess:\n",
        "    print('คุณทายถูกแล้วค่ะ')"
      ],
      "execution_count": null,
      "outputs": []
    },
    {
      "cell_type": "markdown",
      "metadata": {
        "id": "PQZs5aN39QXE"
      },
      "source": [
        "ในบางกรณีต้องการให้โปรแกรมทำงานมากกว่า 1 ทางเลือก ใน python ก็จะมีคำสั่ง **if-else** ให้ใช้"
      ]
    },
    {
      "cell_type": "markdown",
      "metadata": {
        "id": "uWsIbVLhonee"
      },
      "source": [
        "**ตัวอย่าง** ทายใจ 2"
      ]
    },
    {
      "cell_type": "code",
      "metadata": {
        "id": "DrXxATW8pSpH"
      },
      "source": [
        "puzzle = 3\n",
        "guess = int(input('เลขที่ทาย 1-10 คือ '))\n",
        "\n",
        "if puzzle == guess:\n",
        "    print('คุณทายถูกแล้วค่ะ')\n",
        "else:\n",
        "    print('คุณยังทายไม่ถูกค่ะ')"
      ],
      "execution_count": null,
      "outputs": []
    },
    {
      "cell_type": "markdown",
      "metadata": {
        "id": "ZR943zUj7-ix"
      },
      "source": [
        "<hr>\n",
        "\n",
        "**เกร็ดน่ารู้** โมดูล\n",
        "\n",
        "โมดูล (module) คือไฟล์โปรแกรม python ที่รวบรวมฟังก์ชันการทำงาน  ตัวแปร และสิ่งอื่นที่มีความสัมพันธ์กันไว้เป็นหมวดหมู่ สามารถเรียกใช้ได้โดยคำสั่ง import พร้อมระบุชื่อโมดุลที่ต้องการอ้างอิงมาใช้งาน เช่น import math หมายถึงเรากำลังจะใช้งานโมดูล math\n",
        "\n",
        "<hr>"
      ]
    },
    {
      "cell_type": "markdown",
      "metadata": {
        "id": "SijMrn81AUzH"
      },
      "source": [
        "## ฝึกเขียนโปรแกรมกับเต่าไพทอน"
      ]
    },
    {
      "cell_type": "code",
      "metadata": {
        "id": "BSOlnJ9VAZ3v"
      },
      "source": [
        "from turtle import *\n",
        "shape(\"turtle\")\n",
        "speed(1)\n",
        "forward(100)\n",
        "left(90)\n",
        "forward(100)\n",
        "left(90)\n",
        "forward(100)\n",
        "left(90)\n",
        "forward(100)\n",
        "exitonclick()"
      ],
      "execution_count": null,
      "outputs": []
    },
    {
      "cell_type": "markdown",
      "metadata": {
        "id": "vawlX064Cd9v"
      },
      "source": [
        "\n",
        "<img height=\"80px\" src=\"https://www.patanasongsivilai.com/blog/wp-content/uploads/2020/09/cover_m2.jpg\" align=\"left\" hspace=\"10px\" vspace=\"0px\">\n",
        "\n",
        "\n",
        "# สรุป Python ม.2"
      ]
    },
    {
      "cell_type": "markdown",
      "metadata": {
        "id": "I2KSXbmj2eUD"
      },
      "source": [
        "## ตัวดำเนินการบูลีน\n",
        "\n",
        "ประโยคคำสั่งที่ต้องมีการเปรียบเที่ยบเงื่อนไข เช่น if , if-else while เป็นต้น เราต้องระบุนิพจน์เปรียบเทียบได้แก่ True หรือ False ในการกำหนดเงื่อนไข\n",
        "\n",
        "แต่หาต้องการกำหนดเงือนไขที่ซับซ้อนขึ้น สามารถใช้ตัวดำเนินการบูลีนได้แก่ and or หรือ not ในการเชื่อมนิพจน์เปรียบเทียบอย่างง่ายเข้าด้วยกันได้\n",
        "\n",
        "<hr>"
      ]
    },
    {
      "cell_type": "markdown",
      "metadata": {
        "id": "X5kiA1zOAhc3"
      },
      "source": [
        "<img height=\"300px\" src=\"https://www.patanasongsivilai.com/blog/wp-content/uploads/2020/02/opertor_boolean.png\" align=\"left\" hspace=\"10px\" vspace=\"0px\">"
      ]
    },
    {
      "cell_type": "code",
      "metadata": {
        "id": "cBn7kPcw1v7p"
      },
      "source": [
        "age = 12"
      ],
      "execution_count": null,
      "outputs": []
    },
    {
      "cell_type": "code",
      "metadata": {
        "id": "NMqafApP2b78"
      },
      "source": [
        "age > 13 and age < 19"
      ],
      "execution_count": null,
      "outputs": []
    },
    {
      "cell_type": "code",
      "metadata": {
        "id": "HlhxrjnV2aPG"
      },
      "source": [
        "age > 13 or age < 19"
      ],
      "execution_count": null,
      "outputs": []
    },
    {
      "cell_type": "code",
      "metadata": {
        "id": "DxSyYG3M2Zhe"
      },
      "source": [
        "not age > 13"
      ],
      "execution_count": null,
      "outputs": []
    },
    {
      "cell_type": "markdown",
      "metadata": {
        "id": "HC3Q_M67OdBW"
      },
      "source": [
        "**ตัวอย่าง** เขียนโปรแกรมภาษาไพทอนเพื่อแก้ปัญหาการคิดโดยสาร"
      ]
    },
    {
      "cell_type": "code",
      "metadata": {
        "id": "h3ol3FiMOGfJ"
      },
      "source": [
        "all = int(input('มีผู้โดยสารทั้งหมดกี่คน: '))\n",
        "children = int(input('มีผู้โดยสารอายุต่ำกว่า 3 ขวบกี่คน: '))\n",
        "elders = int(input('มีผู้โดยสารอายุ 60 ปีขึ้นไปกี่คน: '))\n",
        "regular = (all - children - elders)\n",
        "fare_elders = elders*(10/2)\n",
        "fare_regular = regular*10\n",
        "total = fare_elders + fare_regular\n",
        "\n",
        "print('จำนวนผู้โดยสารทั้งหมด', all, 'คน')\n",
        "print('เป็นเด็กอายุต่ำกว่า 3 ขวบ', children, 'คน')\n",
        "print('เป็นผู้สูงอายุ', elders, 'คน')\n",
        "print('เป็นผู้โดยสารคิดอัตราปกติ', regular, 'คน')\n",
        "print('ค่าโดยสารรวมทั้งสิ้น', total, 'บาท')\n",
        "\n",
        "if all<=30 and total >= 200:\n",
        "    total_discounted = total - (total*0.1)\n",
        "    print('ลดราคา 10% คิดเป็นค่าโดยสารทั้งสิ้น', total_discounted, 'บาท')"
      ],
      "execution_count": null,
      "outputs": []
    },
    {
      "cell_type": "markdown",
      "metadata": {
        "id": "ioe_ZKqkKTTt"
      },
      "source": [
        "## การวนซ้ำด้วยคำสั่ง while\n",
        "\n",
        "ใช้ประโยคคำสั่ง while เพื่อวนลูปแบบเดียวกับ for\n",
        "\n",
        "ซึ่งสิ่งที่แตกต่างกันก็คือ while ไม่ทราบจำนวนรอบ แต่ for ทราบจำนวนรอบ\n",
        "\n",
        "<hr>"
      ]
    },
    {
      "cell_type": "markdown",
      "metadata": {
        "id": "cnDzpK4vcnpU"
      },
      "source": [
        "**ตัวอย่าง** การใช้คำสั่ง while เมื่อไม่ทราบจำนวนรอบการวนซ้ำที่แน่นอน"
      ]
    },
    {
      "cell_type": "code",
      "metadata": {
        "id": "eEzumJKOKSfq",
        "colab": {
          "base_uri": "https://localhost:8080/",
          "height": 102
        },
        "outputId": "be2b2411-144d-4492-8252-61d1fbf8f42d"
      },
      "source": [
        "x = int(input('ป้อนจำนวนเต็มบวก หรือป้อน 0 หากไม่ต้องการป้อนข้อมูลต่อไป '))\n",
        "\n",
        "sum = 0\n",
        "max = 0\n",
        "n = 0\n",
        "\n",
        "while x > 0:\n",
        "    n = n + 1\n",
        "    sum = sum + x\n",
        "    if (x > max):\n",
        "        max = x\n",
        "    x = int(input('ป้อนจำนวนเต็มบวก หรือป้อน 0 หากไม่ต้องการป้อนข้อมูลตัวต่อไป ' ))\n",
        "\n",
        "if n > 0:\n",
        "  print('ผลรวม', sum, 'และค่ามากที่สุด', max)"
      ],
      "execution_count": null,
      "outputs": [
        {
          "output_type": "stream",
          "text": [
            "ป้อนจำนวนเต็มบวก หรือป้อน 0 หากไม่ต้องการป้อนข้อมูลต่อไป 1\n",
            "ป้อนจำนวนเต็มบวก หรือป้อน 0 หากไม่ต้องการป้อนข้อมูลตัวต่อไป 2\n",
            "ป้อนจำนวนเต็มบวก หรือป้อน 0 หากไม่ต้องการป้อนข้อมูลตัวต่อไป 3\n",
            "ป้อนจำนวนเต็มบวก หรือป้อน 0 หากไม่ต้องการป้อนข้อมูลตัวต่อไป 0\n",
            "ผลรวม 6 และค่ามากที่สุด 3\n"
          ],
          "name": "stdout"
        }
      ]
    },
    {
      "cell_type": "markdown",
      "metadata": {
        "id": "QJeLUlaWGzad"
      },
      "source": [
        "## เงือนไขทางเลือก\n",
        "\n",
        "\n",
        "ใช้ประโยคคำสั่ง if-else เพื่อกำหนดทางเลือก\n",
        "\n",
        "<hr>"
      ]
    },
    {
      "cell_type": "markdown",
      "metadata": {
        "id": "fLfL4JuyIpQX"
      },
      "source": [
        "**ตัวอย่าง** การใช้คำสั่ง if-elif-else สำหรับกรณีที่มากกว่า 2 ทางเลือก"
      ]
    },
    {
      "cell_type": "code",
      "metadata": {
        "id": "ZUQ85u3cDoZh"
      },
      "source": [
        "fare = 6.50\n",
        "age = int(input(\"อายุของท่าน คือ \"))\n",
        "\n",
        "\n",
        "if age >= 60:\n",
        "  fare=3.25\n",
        "elif age<=3:\n",
        "  fare = 0\n",
        "else:\n",
        "  fare = 6.50\n",
        "\n",
        "print(\"ค่าโดยสารของท่าน คือ\", fare)"
      ],
      "execution_count": null,
      "outputs": []
    },
    {
      "cell_type": "markdown",
      "metadata": {
        "id": "t717mFmdIvnq"
      },
      "source": [
        "**ตัวอย่าง** การหาพื้นที่ของวงกลม สามเหลี่ยม หรือสี่เหลี่ยม"
      ]
    },
    {
      "cell_type": "code",
      "metadata": {
        "id": "6JN7CfZqIvUq"
      },
      "source": [
        "from math import pi\n",
        "\n",
        "shape = input ('ต้องการหาพื้นที่ของ วงกลม(c) สามเหลี่ยม(ุt) หรือสี่เหลี่ยม(r): ')\n",
        "\n",
        "if shape == 'c':\n",
        "    r = float(input('ป้อนรัศมีของวงกลม: '))\n",
        "    area = pi*r*r\n",
        "\n",
        "elif shape == 't':\n",
        "    b = float(input('ป้อนความยาวฐาน: '))\n",
        "    h = float(input('ป้อนความสูง: '))\n",
        "    area = (1/2)*b*h\n",
        "\n",
        "else:\n",
        "    w = float(input('ป้อนความกว้าง: '))\n",
        "    l = float(input('ป้อนความยาว: '))\n",
        "    area = w*1\n",
        "\n",
        "print('รูปดังกล่าวมีพื้นที่', area, 'ตารางหน่วย')"
      ],
      "execution_count": null,
      "outputs": []
    },
    {
      "cell_type": "markdown",
      "metadata": {
        "id": "H0Gz3zHxDsGD"
      },
      "source": [
        "## ฟังก์ชัน\n",
        "\n",
        "ฟังก์ชัน (function) เป็นโปรแกรมย่อยที่เขียนขึ้นเพื่อให้ทำงานเฉพาะตามที่กำหนด ผู้เขียนโปรแกรมสามารถเรียกใช้ได้สะดวกไม่ต้องเขียนชุดคำสั่งซ้ำอีก ทำให้การเขียนโปรแกรมขนาดใหญ่ทำได้รวดเร็วและตรวจสอบความถูกต้องของโปรแกรมได้ง่าย\n",
        "\n",
        "<hr>"
      ]
    },
    {
      "cell_type": "markdown",
      "metadata": {
        "id": "5DnEWn1WE0Ya"
      },
      "source": [
        "**เกร็ดน่ารู้** ฟังก์ชันและการคิดเชิงนามธรรม\n",
        "\n",
        "การใช้ฟังก์ชันเป็นรูปแบบหนึ่งของการซ่อนรายละเอียดในการคิดเชิงนามธรรม เนื่องจากการเรียกใช้ฟังก์ชัน เช่น print() หรือ input() ไม่จำเป็นต้องทราบรายละเอียดว่าภายในฟังก์ชันนั้นมีการทำงานอย่างไร แต่ทราบเพียงหน้าที่ของฟังก์ชัน ก็สามารถเีรยกใช้งานได้"
      ]
    },
    {
      "cell_type": "markdown",
      "metadata": {
        "id": "iLNytFXhE8yR"
      },
      "source": [
        "**เกร็ดน่ารู้** อาร์กิวเมนต์\n",
        "\n",
        "ในการเรียกใช้ฟังก์ชัน ค่าที่ส่งไปให้กับฟังก์ชัน จะเรียกว่า **อาร์กิวเมนต์(argument)** โดยอาจอยู่ในรูปของค่าข้อมูล ตัวแปร นิพจน์ ข้อความหรืออาจเป็นฟังก์ชันก็ได้ ซึ่งจำนวนอาร์กิวเมนต์อาจมีไ้ดหลายตัว ขึ้นอยู่กับแต่ละฟังก์ชัน ถ้ามีอาร์กิวเมนต์หลายตัว จะเขียนโดยใช้เครื่องหมาย , คั่นระหว่างอาร์กิวเมนต์แต่ละตัว"
      ]
    },
    {
      "cell_type": "code",
      "metadata": {
        "id": "3tzqGGYxGfr1"
      },
      "source": [
        "def hello1(name):\n",
        "  print('สวัสดี',name)\n",
        "\n",
        "hello1('ประวิทย์')"
      ],
      "execution_count": null,
      "outputs": []
    },
    {
      "cell_type": "markdown",
      "metadata": {
        "id": "Y407wcVA4LBy"
      },
      "source": [
        "<font color=\"blue\">**รูปแบบการนิยายมฟังก์ชันมีดังนี้**</font>\n",
        "\n",
        "<br/>\n",
        "\n",
        "\n",
        "**def** **ชื่อฟังก์ชั่น** (พารามิเตอร์_1, พารามิเตอร์_2, ...):\n",
        "    \n",
        "     ชุดคำสั่ง\n",
        "\n",
        "     ...\n",
        "\n"
      ]
    },
    {
      "cell_type": "markdown",
      "metadata": {
        "id": "mUeRXAlKFF3T"
      },
      "source": [
        "<hr>\n",
        "\n",
        "**เกร็ดน่ารู้** บล็อก\n",
        "\n",
        "ชุดคำสั่ง ที่เรียกว่า **บล็อก (block)** จะอยู่บรรทัดถัดจากเครื่องหมาย : ใช้ร่วมกับการใช้ย่อหน้า (indentation) ของบล็อก และสิ้นสุดชุดคำสั่งเมื่อยุติการย่อหน้านั้น ในการเขียนโปรแกรม python นิยมย่อหน้าด้วยการเคาะแป้นเว้นวรรค 4 ครั้ง\n",
        "<hr>"
      ]
    },
    {
      "cell_type": "markdown",
      "metadata": {
        "id": "0_43VV1a_02y"
      },
      "source": [
        "**ตัวอย่าง**การนิยามฟังก์ชันที่มีพารามิเตอร์มากกว่าหนึ่งตัว"
      ]
    },
    {
      "cell_type": "code",
      "metadata": {
        "id": "XIkoNA9IGOLB"
      },
      "source": [
        "def hello2(fname, lname):\n",
        "    print('สวัสดี', fname, lname)\n",
        "\n",
        "hello2('ประวิทย์', 'โพธิ์ทอง')"
      ],
      "execution_count": null,
      "outputs": []
    },
    {
      "cell_type": "markdown",
      "metadata": {
        "id": "Z5NYSZ25_q_C"
      },
      "source": [
        "**ตัวอย่าง** ฟังก์ชันวาดรูปบ้าน"
      ]
    },
    {
      "cell_type": "code",
      "metadata": {
        "id": "4WzcAGuM11YM"
      },
      "source": [
        "from turtle import *\n",
        "\n",
        "def draw_square(size):\n",
        "    pendown()\n",
        "    for i in range(4):\n",
        "        forward(size)\n",
        "        left(90)\n",
        "    penup()\n",
        "\n",
        "def draw_triangle(size):\n",
        "    pendown()\n",
        "    for i in range(3):\n",
        "        forward(size)\n",
        "        left(120)\n",
        "    penup()\n",
        "\n",
        "def draw_house(size):\n",
        "    draw_square(size)\n",
        "    left(90)\n",
        "    forward(size)\n",
        "    right(90)\n",
        "    draw_triangle(size)\n",
        "\n",
        "shape(\"turtle\")\n",
        "pensize(5)\n",
        "draw_house(50)\n",
        "hiddeturtle()\n",
        "exitonclick()"
      ],
      "execution_count": null,
      "outputs": []
    },
    {
      "cell_type": "markdown",
      "metadata": {
        "id": "lJLMarDfFNNs"
      },
      "source": [
        "## การคืนค่าจากฟังก์ชั่น\n",
        "\n",
        "การสร้างฟังก์ชันชึ้นใช้งานเองนั้น หากต้องการคืนค่าให้กับโปรแกรมหลักเมื่อฟังก์ชันทำงานเสร็จ ให้ใช้คำสั่ง **return** ตามด้วยนิพจน์หรือค่าที่ต้องการคืน ในกรณีที่ไม่มีการคืนค่าก็ไม่ต้องใช้คำสั่ง **return**"
      ]
    },
    {
      "cell_type": "code",
      "metadata": {
        "id": "yd14upxsFT8k"
      },
      "source": [
        "from math import pi\n",
        "\n",
        "def sphere_volume(r):\n",
        "    vol = (4/3)*pi*r*r*r\n",
        "    return vol\n",
        "\n",
        "radius = float(input('Enter a radius: '))\n",
        "print('Volume is', sphere_volume(radius))"
      ],
      "execution_count": null,
      "outputs": []
    },
    {
      "cell_type": "markdown",
      "metadata": {
        "id": "lM9TwV37Fy2p"
      },
      "source": [
        "**การคืนค่าเป็นนิพจน์**\n",
        "\n",
        "หรือจะเขียนฟังก์ชัน sphere_volume ให้สั้นได้ดังนี้"
      ]
    },
    {
      "cell_type": "code",
      "metadata": {
        "id": "otniJ0leFsms"
      },
      "source": [
        "def sphere_volume(r):\n",
        "    return (4/3)*pi*r*r*r"
      ],
      "execution_count": null,
      "outputs": []
    },
    {
      "cell_type": "code",
      "metadata": {
        "id": "sBj9IAUTF8Js"
      },
      "source": [
        "radius = float(input('Enter a radius: '))\n",
        "print('Volume is', sphere_volume(radius))"
      ],
      "execution_count": null,
      "outputs": []
    },
    {
      "cell_type": "markdown",
      "metadata": {
        "id": "-HLaZqhTZtxJ"
      },
      "source": [
        "# เสริมเพิ่มเติม"
      ]
    },
    {
      "cell_type": "markdown",
      "metadata": {
        "id": "MmRaAwiYcSA7"
      },
      "source": [
        "สามารถรวบประโยคไว้บรรทัดเดียวกันได้ (ไม่นิยม)"
      ]
    },
    {
      "cell_type": "code",
      "metadata": {
        "id": "rjRD67IT8ehC"
      },
      "source": [
        "print(\"บรรทัด 1\");print(\"บรรทัด 2\");print(\"บรรทัด 3\");print(\"บรรทัด 4\");print(\"บรรทัด 5\")\n",
        "\n",
        "# จะเสมือนเขียนดังนี้\n",
        "'''\n",
        "print(\"บรรทัด 1\")\n",
        "print(\"บรรทัด 2\")\n",
        "print(\"บรรทัด 3\")\n",
        "print(\"บรรทัด 4\")\n",
        "print(\"บรรทัด 5\")\n",
        "'''"
      ],
      "execution_count": null,
      "outputs": []
    },
    {
      "cell_type": "code",
      "metadata": {
        "id": "Hz6iwynjcPft"
      },
      "source": [
        "if True : print(\"สวัสดีครับ\")\n",
        "\n",
        "# จะเสมือนเขียนดังนี้\n",
        "'''\n",
        "if True :\n",
        "  print(\"สวัสดีครับ\")\n",
        "'''"
      ],
      "execution_count": null,
      "outputs": []
    },
    {
      "cell_type": "code",
      "metadata": {
        "id": "cGMNxPGbO4p9"
      },
      "source": [
        "if True : print(\"สวัสดีครับ 1\") ; print(\"สวัสดีครับ 2\") ; print(\"สวัสดีครับ 3\")\n",
        "\n",
        "# จะเสมือนเขียนดังนี้\n",
        "'''\n",
        "if True :\n",
        "  print(\"สวัสดีครับ 1\")\n",
        "  print(\"สวัสดีครับ 2\")\n",
        "  print(\"สวัสดีครับ 3\")\n",
        "'''"
      ],
      "execution_count": null,
      "outputs": []
    },
    {
      "cell_type": "markdown",
      "metadata": {
        "id": "KVK_sF6jZ3DO"
      },
      "source": [
        "## Ternary operators  \n",
        "\n",
        "Ternary operators หรือจะเรียกว่า conditional expressions เป็นประโยคที่เช็คเงื่อนไข True หรือ False แล้วกำหนดค่าให้กับตัวแปร\n",
        "\n",
        "<hr>"
      ]
    },
    {
      "cell_type": "code",
      "metadata": {
        "id": "A9njpOJ0Z8uh"
      },
      "source": [
        "is_fat = True\n",
        "state = \"fat\" if is_fat else \"not fat\"\n",
        "\n",
        "# จะเสมือนเขียนดังนี้\n",
        "'''\n",
        "if  is_fat == True:\n",
        "  state= \"fat\"\n",
        "else:\n",
        "  state= \" not fat \"\n",
        "'''\n",
        "\n",
        "print(state)"
      ],
      "execution_count": null,
      "outputs": []
    },
    {
      "cell_type": "markdown",
      "metadata": {
        "id": "Rb59tX3fNMT9"
      },
      "source": [
        "## ลำดับความสำคัญของตัวดำเนินการ (Operator precedence rule)\n",
        "\n",
        "<img  src=\"https://study.com/cimages/multimages/16/precedence_table.png\" align=\"left\" >\n",
        "\n",
        "<hr>\n",
        "ที่มา https://study.com/cimages/multimages/16/precedence_table.png"
      ]
    },
    {
      "cell_type": "code",
      "metadata": {
        "id": "hyvPv9w3y2RR"
      },
      "source": [
        "x = 2\n",
        "y = 10\n",
        "print( x!=2 or x>10 and y==10)\n",
        "\n",
        "# จะเสมือนเขียน\n",
        "# print( x!=2 or (x>10 and y==10))"
      ],
      "execution_count": null,
      "outputs": []
    },
    {
      "cell_type": "code",
      "metadata": {
        "id": "1WEjOBwTi51F"
      },
      "source": [
        "x = 2\n",
        "y = 10\n",
        "\n",
        "print(x<5 or x==y*5)\n",
        "\n",
        "# x<5 or x==y*5\n",
        "# จะเสมือนเขียน\n",
        "# (x<5) or (x==(y*5))"
      ],
      "execution_count": null,
      "outputs": []
    },
    {
      "cell_type": "markdown",
      "metadata": {
        "id": "cyeApmm6C9C5"
      },
      "source": [
        "## ลิสต์ (List)\n",
        "โครงสร้างข้อมูลแบบลิสต์\n",
        "<hr>"
      ]
    },
    {
      "cell_type": "code",
      "metadata": {
        "id": "AgaCHP-4i5vB"
      },
      "source": [
        "x = [ 1, 2, 4, 8, 12]"
      ],
      "execution_count": null,
      "outputs": []
    },
    {
      "cell_type": "markdown",
      "metadata": {
        "id": "anF9xty_N5dH"
      },
      "source": [
        "ดูความยาวลิสต์"
      ]
    },
    {
      "cell_type": "code",
      "metadata": {
        "id": "wAOC2j__N2Tb"
      },
      "source": [
        "print(len(x))"
      ],
      "execution_count": null,
      "outputs": []
    },
    {
      "cell_type": "markdown",
      "metadata": {
        "id": "yVacXSmhN9Q5"
      },
      "source": [
        "เข้าถึงสมาชิก"
      ]
    },
    {
      "cell_type": "code",
      "metadata": {
        "id": "MVAiD10VN_k5"
      },
      "source": [
        "print(x[0])\n",
        "print(x[4])\n",
        "\n",
        "x[2] = 100\n",
        "print(x)"
      ],
      "execution_count": null,
      "outputs": []
    },
    {
      "cell_type": "markdown",
      "metadata": {
        "id": "hTOVsdzZOKt5"
      },
      "source": [
        "เพิ่มสมาชิก"
      ]
    },
    {
      "cell_type": "code",
      "metadata": {
        "id": "mRwM9JB1ONHE"
      },
      "source": [
        "x.append(-116)\n",
        "print(x)"
      ],
      "execution_count": null,
      "outputs": []
    },
    {
      "cell_type": "code",
      "metadata": {
        "id": "Elz2dEMsuSbt"
      },
      "source": [
        "x.extend([20, 30, 40])\n",
        "print(x)"
      ],
      "execution_count": null,
      "outputs": []
    },
    {
      "cell_type": "markdown",
      "metadata": {
        "id": "YX9UfkapL4OH"
      },
      "source": [
        "## ตัวอย่างการเรียกใช้โมดูล\n",
        "\n"
      ]
    },
    {
      "cell_type": "code",
      "metadata": {
        "id": "rRVHlxeYL_xc"
      },
      "source": [
        "import math\n",
        "print(math.pi)\n",
        "print(math.sin(1))"
      ],
      "execution_count": null,
      "outputs": []
    },
    {
      "cell_type": "code",
      "metadata": {
        "id": "tVDcVp0oMO_8"
      },
      "source": [
        "from math import pi\n",
        "from math import sin\n",
        "\n",
        "# หรือจะรวมบรรทัดเดียวกันได้\n",
        "# from math import sin, pi\n",
        "\n",
        "print(pi)\n",
        "print(sin(1))\n"
      ],
      "execution_count": null,
      "outputs": []
    },
    {
      "cell_type": "markdown",
      "metadata": {
        "id": "MPQqDqDDNn-Z"
      },
      "source": [
        "เปลี่ยนชื่อโมดูล"
      ]
    },
    {
      "cell_type": "code",
      "metadata": {
        "id": "N6H9OMkSMHNT"
      },
      "source": [
        "# เปลี่ยนชื่อ math เป็น m\n",
        "import math as m\n",
        "print( m.pi)\n",
        "print( m.sin(1))"
      ],
      "execution_count": null,
      "outputs": []
    },
    {
      "cell_type": "markdown",
      "metadata": {
        "id": "yjb6n-NSNtEu"
      },
      "source": [
        "เปลี่ยนชื่อตัวแปร และฟังก์ชัน"
      ]
    },
    {
      "cell_type": "code",
      "metadata": {
        "id": "rjc5t72CNOjD"
      },
      "source": [
        "from math import pi as p\n",
        "from math import sin as s\n",
        "\n",
        "# หรือจะรวมบรรทัดเดียวกันได้\n",
        "# from math import sin as p, pi as s\n",
        "print(p)\n",
        "print(s(1))"
      ],
      "execution_count": null,
      "outputs": []
    },
    {
      "cell_type": "markdown",
      "metadata": {
        "id": "STQlXpoOhm9q"
      },
      "source": [
        "\n",
        "<img height=\"80px\" src=\"https://www.patanasongsivilai.com/blog/wp-content/uploads/2020/09/cover_m3.jpg\" align=\"left\" hspace=\"10px\" vspace=\"0px\">\n",
        "\n",
        "\n",
        "# สรุป Python ม.3"
      ]
    },
    {
      "cell_type": "markdown",
      "metadata": {
        "id": "o9EpKqbeiuo6"
      },
      "source": [
        "## Pandas\n",
        "\n",
        "ข้อมูลที่เก็บอยู่ใน Pandas จะอยู่ในรูปแบบของชุดข้อมูลที่เป็น Series หรือ DataFrame"
      ]
    },
    {
      "cell_type": "markdown",
      "metadata": {
        "id": "Xs_Lacslz53e"
      },
      "source": [
        "### ข้อมูลที่เก็บเป็น Series\n",
        "ข้อมูลที่เก็บเป็น Series จะมีลักษณะคล้ายลิสต์ของข้อมูลหนึ่งมิติ โดยหากผู้ใช้ไม่กำหนดดัชนี Pandas จะกำหนดดัชนีเริ่มต้นตั้งแต่ 0 ถึง (จำนวนข้อมูลใน Series -1)\n"
      ]
    },
    {
      "cell_type": "markdown",
      "metadata": {
        "id": "A_pFrtt20WKn"
      },
      "source": [
        "**ตัวอย่างที่ 2.1** การใช้ Series ในการเก็บคะแนนสอบวิชาวิทยาการคำนวณของนักเรียนชั้น ม.3/1 จำนวน 20 คน มีรูปแบบดังนี้"
      ]
    },
    {
      "cell_type": "code",
      "metadata": {
        "id": "0Y3_DwLWSl2e",
        "colab": {
          "base_uri": "https://localhost:8080/",
          "height": 374
        },
        "outputId": "8b6165eb-9e3f-444b-90bb-1b418b93573c"
      },
      "source": [
        "import pandas as pd\n",
        "s = pd.Series([18, 20, 15, 6, 9, 10, 20, 19, 17, 13, 16, 7, 14, 15, 20, 4, 12, 17, 19, 18])\n",
        "print(s)"
      ],
      "execution_count": null,
      "outputs": [
        {
          "output_type": "stream",
          "text": [
            "0     18\n",
            "1     20\n",
            "2     15\n",
            "3      6\n",
            "4      9\n",
            "5     10\n",
            "6     20\n",
            "7     19\n",
            "8     17\n",
            "9     13\n",
            "10    16\n",
            "11     7\n",
            "12    14\n",
            "13    15\n",
            "14    20\n",
            "15     4\n",
            "16    12\n",
            "17    17\n",
            "18    19\n",
            "19    18\n",
            "dtype: int64\n"
          ],
          "name": "stdout"
        }
      ]
    },
    {
      "cell_type": "markdown",
      "metadata": {
        "id": "Gg0_ZltW1QiT"
      },
      "source": [
        "### ข้อมูลที่เก็บเป็น DataFrame\n",
        "ข้อมูลที่เก็บเป็น DataFrame จะมีลักษณะคล้ายตาราง (สองมิติขึ้นไป) โดยหากผู้ใช้ไม่กำหนดดัชนี Pandas จะกำหนดดัชนีเริ่มต้นให้แต่ละมิติตั้งแต่ 0 ถึง (จำนวนข้อมูลใน Series -1)\n"
      ]
    },
    {
      "cell_type": "markdown",
      "metadata": {
        "id": "TDtmvR1P2Kn1"
      },
      "source": [
        "**ตัวอย่างที่ 2.2** การใช้งาน DataFrame"
      ]
    },
    {
      "cell_type": "code",
      "metadata": {
        "id": "ft8XEQKg11x4",
        "colab": {
          "base_uri": "https://localhost:8080/",
          "height": 85
        },
        "outputId": "ee8f0856-24dd-441b-d11a-de3558faded6"
      },
      "source": [
        "df=pd.DataFrame([[1,'a'], [2,'b'], [3,'c']])\n",
        "print(df)"
      ],
      "execution_count": null,
      "outputs": [
        {
          "output_type": "stream",
          "text": [
            "   0  1\n",
            "0  1  a\n",
            "1  2  b\n",
            "2  3  c\n"
          ],
          "name": "stdout"
        }
      ]
    },
    {
      "cell_type": "markdown",
      "metadata": {
        "id": "pQ-Cddin2gyX"
      },
      "source": [
        "### ไฟล์ซีเอสวี หรือ CSV (comma sperated values: CSV)"
      ]
    },
    {
      "cell_type": "markdown",
      "metadata": {
        "id": "ciFnxgpM4KBz"
      },
      "source": [
        "ดาวน์โหลไฟล์ csv ตัวอย่าง\n",
        "\n",
        "http://oho.ipst.ac.th/studentData.csv\n",
        "\n",
        "http://oho.ipst.ac.th/studentData-noHeader.csv"
      ]
    },
    {
      "cell_type": "code",
      "metadata": {
        "id": "_In2tkZh2rKh",
        "colab": {
          "base_uri": "https://localhost:8080/",
          "height": 34
        },
        "outputId": "aac027ff-ee8b-4f1c-c472-1e0431c4e0c8"
      },
      "source": [
        "!wget https://raw.githubusercontent.com/adminho/machine-learning/master/Datasets/studentData.csv -O studentData.csv &>/dev/null &\n",
        "!wget https://raw.githubusercontent.com/adminho/machine-learning/master/Datasets/studentData-noHeader.csv -O studentData-noHeader.csv &>/dev/null &\n",
        "!ls"
      ],
      "execution_count": null,
      "outputs": [
        {
          "output_type": "stream",
          "text": [
            "null  sample_data  studentData.csv  studentData-noHeader.csv\n"
          ],
          "name": "stdout"
        }
      ]
    },
    {
      "cell_type": "code",
      "metadata": {
        "id": "vxJmjsFJ4M8m",
        "colab": {
          "base_uri": "https://localhost:8080/",
          "height": 374
        },
        "outputId": "98b3128d-7df6-42d6-92ed-4dd6a54a3a7a"
      },
      "source": [
        "stdData = pd.read_csv('studentData.csv', delimiter=',')\n",
        "print(stdData)"
      ],
      "execution_count": null,
      "outputs": [
        {
          "output_type": "stream",
          "text": [
            "    เลขประจำตัว  เพศ  Cs  height\n",
            "0          5884    2  18     158\n",
            "1          5885    2  20     164\n",
            "2          5887    1  15     150\n",
            "3          5889    1   6     168\n",
            "4          5890    2   9     153\n",
            "5          5893    1  10     172\n",
            "6          5895    1  20     162\n",
            "7          5896    1  19     157\n",
            "8          5897    2  17     169\n",
            "9          5900    2  13     174\n",
            "10         5903    1  16     150\n",
            "11         5905    2   7     150\n",
            "12         5906    1  14     169\n",
            "13         5908    1  15     175\n",
            "14         5910    1  20     173\n",
            "15         5912    1   4     173\n",
            "16         5915    1  12     175\n",
            "17         5916    2  17     154\n",
            "18         5919    1  19     174\n",
            "19         5921    2  18     158\n"
          ],
          "name": "stdout"
        }
      ]
    },
    {
      "cell_type": "code",
      "metadata": {
        "id": "SJ73wik_6Avt",
        "colab": {
          "base_uri": "https://localhost:8080/",
          "height": 374
        },
        "outputId": "0daf8d15-778e-480c-df00-d104708de024"
      },
      "source": [
        "stdData=pd.read_csv('studentData-noHeader.csv', delimiter=',', names=['ID', 'Gender', 'CsScore', 'Height'])\n",
        "print(stdData)"
      ],
      "execution_count": null,
      "outputs": [
        {
          "output_type": "stream",
          "text": [
            "      ID  Gender  CsScore  Height\n",
            "0   5884       2       18     158\n",
            "1   5885       2       20     164\n",
            "2   5887       1       15     150\n",
            "3   5889       1        6     168\n",
            "4   5890       2        9     153\n",
            "5   5893       1       10     172\n",
            "6   5895       1       20     162\n",
            "7   5896       1       19     157\n",
            "8   5897       2       17     169\n",
            "9   5900       2       13     174\n",
            "10  5903       1       16     150\n",
            "11  5905       2        7     150\n",
            "12  5906       1       14     169\n",
            "13  5908       1       15     175\n",
            "14  5910       1       20     173\n",
            "15  5912       1        4     173\n",
            "16  5915       1       12     175\n",
            "17  5916       2       17     154\n",
            "18  5919       1       19     174\n",
            "19  5921       2       18     158\n"
          ],
          "name": "stdout"
        }
      ]
    },
    {
      "cell_type": "markdown",
      "metadata": {
        "id": "7NWpIEpt355w"
      },
      "source": [
        "**ตัวอย่างที่ 2.3** การนับจำนวนข้อมูล"
      ]
    },
    {
      "cell_type": "code",
      "metadata": {
        "id": "NSsUqUBv3GAu",
        "colab": {
          "base_uri": "https://localhost:8080/",
          "height": 102
        },
        "outputId": "8e127c5e-8403-441b-d402-01268e909c2e"
      },
      "source": [
        "print(stdData.count())"
      ],
      "execution_count": null,
      "outputs": [
        {
          "output_type": "stream",
          "text": [
            "ID         20\n",
            "Gender     20\n",
            "CsScore    20\n",
            "Height     20\n",
            "dtype: int64\n"
          ],
          "name": "stdout"
        }
      ]
    },
    {
      "cell_type": "code",
      "metadata": {
        "id": "Nq71HkUS4Chl",
        "colab": {
          "base_uri": "https://localhost:8080/",
          "height": 51
        },
        "outputId": "63b4871c-6fa4-4ca2-997f-540a755d8654"
      },
      "source": [
        "print(stdData[['ID']].count())"
      ],
      "execution_count": null,
      "outputs": [
        {
          "output_type": "stream",
          "text": [
            "ID    20\n",
            "dtype: int64\n"
          ],
          "name": "stdout"
        }
      ]
    },
    {
      "cell_type": "markdown",
      "metadata": {
        "id": "sLbb0R4K6nL-"
      },
      "source": [
        "**ตัวอย่างที่** 2.4 การหาเฉลี่ย"
      ]
    },
    {
      "cell_type": "code",
      "metadata": {
        "id": "wZx0x0ID6r1X",
        "colab": {
          "base_uri": "https://localhost:8080/",
          "height": 34
        },
        "outputId": "84c1c048-9541-4f05-b879-52425ba1fe3e"
      },
      "source": [
        "print(stdData.CsScore.mean())"
      ],
      "execution_count": null,
      "outputs": [
        {
          "output_type": "stream",
          "text": [
            "14.45\n"
          ],
          "name": "stdout"
        }
      ]
    },
    {
      "cell_type": "markdown",
      "metadata": {
        "id": "S8UJP3QB6zVK"
      },
      "source": [
        "**ตัวอย่างที่ 2.5** การหาค่าเฉลี่ยแยกตามกลุ่ม"
      ]
    },
    {
      "cell_type": "code",
      "metadata": {
        "id": "TVHnfQNb66qP",
        "colab": {
          "base_uri": "https://localhost:8080/",
          "height": 85
        },
        "outputId": "eb523a53-2500-498e-f279-47e655fef7f0"
      },
      "source": [
        "print(stdData.groupby('Gender').mean())"
      ],
      "execution_count": null,
      "outputs": [
        {
          "output_type": "stream",
          "text": [
            "             ID    CsScore  Height\n",
            "Gender                            \n",
            "1       5902.75  14.166667   166.5\n",
            "2       5899.75  14.875000   160.0\n"
          ],
          "name": "stdout"
        }
      ]
    },
    {
      "cell_type": "code",
      "metadata": {
        "id": "cPBUBmey7Kw9",
        "colab": {
          "base_uri": "https://localhost:8080/",
          "height": 85
        },
        "outputId": "b0811d37-c6ae-4d07-9076-9ddf60ed5e3d"
      },
      "source": [
        "print(stdData.groupby('Gender').CsScore.mean())"
      ],
      "execution_count": null,
      "outputs": [
        {
          "output_type": "stream",
          "text": [
            "Gender\n",
            "1    14.166667\n",
            "2    14.875000\n",
            "Name: CsScore, dtype: float64\n"
          ],
          "name": "stdout"
        }
      ]
    },
    {
      "cell_type": "code",
      "metadata": {
        "id": "xD_SqPDP7Q7c",
        "colab": {
          "base_uri": "https://localhost:8080/",
          "height": 85
        },
        "outputId": "17d709a4-d6f3-4f49-a10a-108358fb7e72"
      },
      "source": [
        "# หรือ\n",
        "print(stdData.groupby('Gender').mean()[['CsScore']])"
      ],
      "execution_count": null,
      "outputs": [
        {
          "output_type": "stream",
          "text": [
            "          CsScore\n",
            "Gender           \n",
            "1       14.166667\n",
            "2       14.875000\n"
          ],
          "name": "stdout"
        }
      ]
    },
    {
      "cell_type": "markdown",
      "metadata": {
        "id": "hT82vLjY7eaL"
      },
      "source": [
        "**ตัวอย่างที่ 2.6** การจัดเรียงข้อมูล\n"
      ]
    },
    {
      "cell_type": "code",
      "metadata": {
        "id": "CEdrwio-7jfE",
        "colab": {
          "base_uri": "https://localhost:8080/",
          "height": 374
        },
        "outputId": "dc4914fc-a2c0-4257-c15b-2a046149e38b"
      },
      "source": [
        "print(stdData.sort_values(by=['Height']))"
      ],
      "execution_count": null,
      "outputs": [
        {
          "output_type": "stream",
          "text": [
            "      ID  Gender  CsScore  Height\n",
            "2   5887       1       15     150\n",
            "11  5905       2        7     150\n",
            "10  5903       1       16     150\n",
            "4   5890       2        9     153\n",
            "17  5916       2       17     154\n",
            "7   5896       1       19     157\n",
            "0   5884       2       18     158\n",
            "19  5921       2       18     158\n",
            "6   5895       1       20     162\n",
            "1   5885       2       20     164\n",
            "3   5889       1        6     168\n",
            "8   5897       2       17     169\n",
            "12  5906       1       14     169\n",
            "5   5893       1       10     172\n",
            "14  5910       1       20     173\n",
            "15  5912       1        4     173\n",
            "18  5919       1       19     174\n",
            "9   5900       2       13     174\n",
            "13  5908       1       15     175\n",
            "16  5915       1       12     175\n"
          ],
          "name": "stdout"
        }
      ]
    },
    {
      "cell_type": "code",
      "metadata": {
        "id": "FTnmEyN47u8w",
        "colab": {
          "base_uri": "https://localhost:8080/",
          "height": 374
        },
        "outputId": "4c8534fd-7636-45c6-ac33-a4e7926d62d1"
      },
      "source": [
        "print(stdData.sort_values(by=['Height'], ascending=False))"
      ],
      "execution_count": null,
      "outputs": [
        {
          "output_type": "stream",
          "text": [
            "      ID  Gender  CsScore  Height\n",
            "13  5908       1       15     175\n",
            "16  5915       1       12     175\n",
            "18  5919       1       19     174\n",
            "9   5900       2       13     174\n",
            "15  5912       1        4     173\n",
            "14  5910       1       20     173\n",
            "5   5893       1       10     172\n",
            "8   5897       2       17     169\n",
            "12  5906       1       14     169\n",
            "3   5889       1        6     168\n",
            "1   5885       2       20     164\n",
            "6   5895       1       20     162\n",
            "0   5884       2       18     158\n",
            "19  5921       2       18     158\n",
            "7   5896       1       19     157\n",
            "17  5916       2       17     154\n",
            "4   5890       2        9     153\n",
            "11  5905       2        7     150\n",
            "2   5887       1       15     150\n",
            "10  5903       1       16     150\n"
          ],
          "name": "stdout"
        }
      ]
    },
    {
      "cell_type": "markdown",
      "metadata": {
        "id": "M9M-3Kmb78E6"
      },
      "source": [
        "### การเชื่อมโยงข้อมูล"
      ]
    },
    {
      "cell_type": "markdown",
      "metadata": {
        "id": "FDyoOAmi-1PF"
      },
      "source": [
        "ดาวน์โหลดไฟล์ตัวอย่าง\n",
        "\n",
        "http://oho.ipst.ac.th/sciScore.csv"
      ]
    },
    {
      "cell_type": "code",
      "metadata": {
        "id": "y1h4DJMj77m0",
        "colab": {
          "base_uri": "https://localhost:8080/",
          "height": 34
        },
        "outputId": "b7c089cd-b0b4-4926-9f49-d4e1c56dce6e"
      },
      "source": [
        "!wget https://raw.githubusercontent.com/adminho/machine-learning/master/Datasets/sciScore.csv -O  sciScore.csv &>/dev/null &\n",
        "!ls"
      ],
      "execution_count": null,
      "outputs": [
        {
          "output_type": "stream",
          "text": [
            "null  sample_data  sciScore.csv  studentData.csv  studentData-noHeader.csv\n"
          ],
          "name": "stdout"
        }
      ]
    },
    {
      "cell_type": "markdown",
      "metadata": {
        "id": "0ZtY7iVZB7Av"
      },
      "source": [
        "**ตัวอย่างที่ 2.7** การเชื่อมโยงข้อมูลจากไฟล์ 2 ไฟล์"
      ]
    },
    {
      "cell_type": "code",
      "metadata": {
        "id": "wkfAHGTTCz70",
        "colab": {
          "base_uri": "https://localhost:8080/",
          "height": 374
        },
        "outputId": "2b67f06a-6daa-4b55-e879-5c6077f2714c"
      },
      "source": [
        "import pandas as pd\n",
        "\n",
        "stdData = pd.read_csv('studentData.csv', delimiter=',')\n",
        "sciData =  pd.read_csv('sciScore.csv', delimiter=',')\n",
        "\n",
        "newData=stdData.merge(sciData)\n",
        "print(newData)"
      ],
      "execution_count": null,
      "outputs": [
        {
          "output_type": "stream",
          "text": [
            "    เลขประจำตัว  เพศ  Cs  height  Science1\n",
            "0          5884    2  18     158        14\n",
            "1          5885    2  20     164        17\n",
            "2          5887    1  15     150         9\n",
            "3          5889    1   6     168         8\n",
            "4          5890    2   9     153        14\n",
            "5          5893    1  10     172         4\n",
            "6          5895    1  20     162        16\n",
            "7          5896    1  19     157         7\n",
            "8          5897    2  17     169         8\n",
            "9          5900    2  13     174        18\n",
            "10         5903    1  16     150         7\n",
            "11         5905    2   7     150        12\n",
            "12         5906    1  14     169         4\n",
            "13         5908    1  15     175        10\n",
            "14         5910    1  20     173        15\n",
            "15         5912    1   4     173         3\n",
            "16         5915    1  12     175        11\n",
            "17         5916    2  17     154         4\n",
            "18         5919    1  19     174        16\n",
            "19         5921    2  18     158         4\n"
          ],
          "name": "stdout"
        }
      ]
    },
    {
      "cell_type": "markdown",
      "metadata": {
        "id": "A_R7VPbJDllj"
      },
      "source": [
        "**ตัวอย่างที่ 2.8** การเชื่อมโยงข้อมูลกรณีที่ชื่อคอลัมน์หลักไม่ตรงกัน"
      ]
    },
    {
      "cell_type": "code",
      "metadata": {
        "id": "dS_5r7PnDtdR",
        "colab": {
          "base_uri": "https://localhost:8080/",
          "height": 374
        },
        "outputId": "7c8e5b42-4b98-440f-9cab-eabe45a2b77d"
      },
      "source": [
        "import pandas as pd\n",
        "\n",
        "stdData = pd.read_csv('studentData-noHeader.csv', delimiter=',', names=['ID', 'Gender', 'CsScore', 'Height'])\n",
        "sciData =  pd.read_csv('sciScore.csv', delimiter=',')\n",
        "\n",
        "newData=stdData.merge(sciData, left_on='ID', right_on='เลขประจำตัว')\n",
        "print(newData)"
      ],
      "execution_count": null,
      "outputs": [
        {
          "output_type": "stream",
          "text": [
            "      ID  Gender  CsScore  Height  เลขประจำตัว  Science1\n",
            "0   5884       2       18     158         5884        14\n",
            "1   5885       2       20     164         5885        17\n",
            "2   5887       1       15     150         5887         9\n",
            "3   5889       1        6     168         5889         8\n",
            "4   5890       2        9     153         5890        14\n",
            "5   5893       1       10     172         5893         4\n",
            "6   5895       1       20     162         5895        16\n",
            "7   5896       1       19     157         5896         7\n",
            "8   5897       2       17     169         5897         8\n",
            "9   5900       2       13     174         5900        18\n",
            "10  5903       1       16     150         5903         7\n",
            "11  5905       2        7     150         5905        12\n",
            "12  5906       1       14     169         5906         4\n",
            "13  5908       1       15     175         5908        10\n",
            "14  5910       1       20     173         5910        15\n",
            "15  5912       1        4     173         5912         3\n",
            "16  5915       1       12     175         5915        11\n",
            "17  5916       2       17     154         5916         4\n",
            "18  5919       1       19     174         5919        16\n",
            "19  5921       2       18     158         5921         4\n"
          ],
          "name": "stdout"
        }
      ]
    },
    {
      "cell_type": "markdown",
      "metadata": {
        "id": "5KYpNvsQEpKU"
      },
      "source": [
        "### การทำข้อมูลให้เป็นภาพ"
      ]
    },
    {
      "cell_type": "markdown",
      "metadata": {
        "id": "fyUQqUsCEsRS"
      },
      "source": [
        "**ตัวอย่างที่ 2.9** การนำเสนอผลคะแนนด้วยฮิสโทแกรม"
      ]
    },
    {
      "cell_type": "code",
      "metadata": {
        "id": "LyMcYBI6Ey2p",
        "colab": {
          "base_uri": "https://localhost:8080/",
          "height": 652
        },
        "outputId": "21393229-1af7-4fcd-aed4-d0e4adc1fa7c"
      },
      "source": [
        "import pandas as pd\n",
        "import matplotlib.pyplot as plt\n",
        "\n",
        "stdData = pd.read_csv('studentData-noHeader.csv', delimiter=',', names=['ID', 'Gender', 'CsScore', 'Height'])\n",
        "sciData =  pd.read_csv('sciScore.csv', delimiter=',')\n",
        "\n",
        "newData=stdData.merge(sciData, left_on='ID', right_on='เลขประจำตัว', how='inner')\n",
        "print(newData)\n",
        "\n",
        "newData.CsScore.hist(range=[0,20], bins=21)\n",
        "plt.title('Coumputing Science Test Score Frequency')\n",
        "plt.xlabel('CsScore')\n",
        "plt.ylabel('Frequency')\n",
        "plt.axis([0, 20 , 0, 5])\n",
        "plt.xticks(range(0, 21, 2))\n",
        "plt.show()\n",
        "\n"
      ],
      "execution_count": null,
      "outputs": [
        {
          "output_type": "stream",
          "text": [
            "      ID  Gender  CsScore  Height  เลขประจำตัว  Science1\n",
            "0   5884       2       18     158         5884        14\n",
            "1   5885       2       20     164         5885        17\n",
            "2   5887       1       15     150         5887         9\n",
            "3   5889       1        6     168         5889         8\n",
            "4   5890       2        9     153         5890        14\n",
            "5   5893       1       10     172         5893         4\n",
            "6   5895       1       20     162         5895        16\n",
            "7   5896       1       19     157         5896         7\n",
            "8   5897       2       17     169         5897         8\n",
            "9   5900       2       13     174         5900        18\n",
            "10  5903       1       16     150         5903         7\n",
            "11  5905       2        7     150         5905        12\n",
            "12  5906       1       14     169         5906         4\n",
            "13  5908       1       15     175         5908        10\n",
            "14  5910       1       20     173         5910        15\n",
            "15  5912       1        4     173         5912         3\n",
            "16  5915       1       12     175         5915        11\n",
            "17  5916       2       17     154         5916         4\n",
            "18  5919       1       19     174         5919        16\n",
            "19  5921       2       18     158         5921         4\n"
          ],
          "name": "stdout"
        },
        {
          "output_type": "display_data",
          "data": {
            "image/png": "[encoded data removed]",
            "text/plain": [
              "<Figure size 432x288 with 1 Axes>"
            ]
          },
          "metadata": {
            "tags": [],
            "needs_background": "light"
          }
        }
      ]
    },
    {
      "cell_type": "markdown",
      "metadata": {
        "id": "BpuMEGNQFqZP"
      },
      "source": [
        "**ตัวอย่างที่ 2.10** การนำเสนอผลคะแนนด้วยแผนภาพการกระจาย"
      ]
    },
    {
      "cell_type": "code",
      "metadata": {
        "id": "Vyd0RaJ4FwwP",
        "colab": {
          "base_uri": "https://localhost:8080/",
          "height": 652
        },
        "outputId": "41ac388a-641d-4de8-a301-a280a0af51ab"
      },
      "source": [
        "import pandas as pd\n",
        "import matplotlib.pyplot as plt\n",
        "\n",
        "stdData = pd.read_csv('studentData-noHeader.csv', delimiter=',', names=['ID', 'Gender', 'CsScore', 'Height'])\n",
        "sciData =  pd.read_csv('sciScore.csv', delimiter=',')\n",
        "\n",
        "newData=stdData.merge(sciData, left_on='ID', right_on='เลขประจำตัว', how='inner')\n",
        "print(newData)\n",
        "\n",
        "plt.scatter(newData.CsScore, newData.Science1)\n",
        "plt.xlabel('Computing Science score')\n",
        "plt.ylabel('Science score')\n",
        "\n",
        "for i  in range(0, 20):\n",
        "  plt.text(newData.CsScore[i], newData.Science1[i], newData.ID[i])\n",
        "plt.title('Computing Science score & Science score relationship')\n",
        "plt.show()\n"
      ],
      "execution_count": null,
      "outputs": [
        {
          "output_type": "stream",
          "text": [
            "      ID  Gender  CsScore  Height  เลขประจำตัว  Science1\n",
            "0   5884       2       18     158         5884        14\n",
            "1   5885       2       20     164         5885        17\n",
            "2   5887       1       15     150         5887         9\n",
            "3   5889       1        6     168         5889         8\n",
            "4   5890       2        9     153         5890        14\n",
            "5   5893       1       10     172         5893         4\n",
            "6   5895       1       20     162         5895        16\n",
            "7   5896       1       19     157         5896         7\n",
            "8   5897       2       17     169         5897         8\n",
            "9   5900       2       13     174         5900        18\n",
            "10  5903       1       16     150         5903         7\n",
            "11  5905       2        7     150         5905        12\n",
            "12  5906       1       14     169         5906         4\n",
            "13  5908       1       15     175         5908        10\n",
            "14  5910       1       20     173         5910        15\n",
            "15  5912       1        4     173         5912         3\n",
            "16  5915       1       12     175         5915        11\n",
            "17  5916       2       17     154         5916         4\n",
            "18  5919       1       19     174         5919        16\n",
            "19  5921       2       18     158         5921         4\n"
          ],
          "name": "stdout"
        },
        {
          "output_type": "display_data",
          "data": {
            "image/png": "[encoded data removed]",
            "text/plain": [
              "<Figure size 432x288 with 1 Axes>"
            ]
          },
          "metadata": {
            "tags": [],
            "needs_background": "light"
          }
        }
      ]
    },
    {
      "cell_type": "markdown",
      "metadata": {
        "id": "XQ1aL76UTFxH"
      },
      "source": [
        "## การสร้างส่วนต่อประสานกราฟิกกับผู้ใช้"
      ]
    },
    {
      "cell_type": "markdown",
      "metadata": {
        "id": "s5rXB4_ayOWm"
      },
      "source": [
        "ในการเขียนโปรแกรมที่มีส่วนต่อประสานกราฟิกกับผู้ใช้ (Graphical User Interface: GUI) จะช่วยให้เห็นภาพรวมของโปรแกรมได้ดี ในภาษาไพทอนมีโมดูล tkinter ที่ช่วยให้การพัฒนาส่วนต่อประสานกราฟิกกับผู้ใช้ทำได้ง่าย และรวดเร็ว ซึ่งมี 4 ขั้นตอนดังนี้\n",
        "1. นำเข้าโมดูล tkinter\n",
        "2. สร้างหน้าต่างหลัก (main window)\n",
        "3. จัดวางวิดเจ็ต (widget) หรือองค์ประกอบอื่นที่เป็นส่วนต่อประสานกราฟิกกับผู้ใช้ลงในหน้าหลัก เช่น ปุ่มกด กล่องข้อความ\n",
        "4. เชื่อมโยงเหตุการณ์ (evernt) ต่างๆ ที่เกิดขึ้นจากการทำงานของวิดเจ็ตเข้ากับส่วนของโปรแกรมย่อย เพื่อให้แอปพลิเคชันทำงานได้ตามต้องการ"
      ]
    },
    {
      "cell_type": "markdown",
      "metadata": {
        "id": "lsFahQyLyAdx"
      },
      "source": [
        "**ตัวอย่างที่ 2.11**  การสร้างหน้าต่างหลักด้วย tkinter"
      ]
    },
    {
      "cell_type": "code",
      "metadata": {
        "id": "RJx4DQjIx2P0"
      },
      "source": [
        "import tkinter as tk\n",
        "\n",
        "m=tk.Tk()   # m ย่อมาจาก main window ซึ่งหมายถึง หน้าต่างหลัก\n",
        "m.title('Main Window')\n",
        "m.mainloop()\n"
      ],
      "execution_count": null,
      "outputs": []
    },
    {
      "cell_type": "markdown",
      "metadata": {
        "id": "ghA96bpJtfrG"
      },
      "source": [
        "**ตัวอย่างที่ 2.12** การเพิ่มปุ่มลงในหน้าต่างหลัก"
      ]
    },
    {
      "cell_type": "code",
      "metadata": {
        "id": "vxIh1OUpxhQe"
      },
      "source": [
        "import tkinter as tk\n",
        "\n",
        "m=tk.Tk()\n",
        "\n",
        "m.title('Main Window')\n",
        "button = tk.Button(m, text='Stop', width=25, command=lambda: m.destroy())\n",
        "button.pack()\n",
        "m.mainloop()\n"
      ],
      "execution_count": null,
      "outputs": []
    },
    {
      "cell_type": "markdown",
      "metadata": {
        "id": "ZoRXHVFBpYc5"
      },
      "source": [
        "**ตัวอย่างที่ 2.13** การเพิ่มวิดเจ็ตลาเบลลงในหน้าต่างหลัก"
      ]
    },
    {
      "cell_type": "code",
      "metadata": {
        "id": "HgU2r1d5pyZG"
      },
      "source": [
        "import tkinter as tk\n",
        "\n",
        "def counting(n):\n",
        "  global count\n",
        "  global label1Text\n",
        "  count+=1\n",
        "  label1Text.set(str(count))\n",
        "\n",
        "m=tk.Tk()\n",
        "count=0\n",
        "label1Text=tk.StringVar()\n",
        "label1Text.set(str(count))\n",
        "\n",
        "m.title('Main Window')\n",
        "button = tk.Button(m, text='Stop', width=25, command=lambda: m.destroy())\n",
        "button.pack()\n",
        "\n",
        "button2 = tk.Button(m, text='Counting', width=25, command=lambda: counting(m))\n",
        "button2.pack()\n",
        "\n",
        "label1 = tk.Label(m, borderwidth=2, relief='ridge', textvariable=label1Text, width=30)\n",
        "label1.pack()\n",
        "m.mainloop()"
      ],
      "execution_count": null,
      "outputs": []
    },
    {
      "cell_type": "markdown",
      "metadata": {
        "id": "w7a05D4BS-4V"
      },
      "source": [
        "**ตัวอย่างที่ 2.14** การเพิ่มปุ่มตัวเลขบนเครื่องคิดเลข"
      ]
    },
    {
      "cell_type": "code",
      "metadata": {
        "id": "mKLAr_tzkpW1"
      },
      "source": [
        "import tkinter as tk\n",
        "\n",
        "def press(n):\n",
        "  global expression\n",
        "  global label1Text\n",
        "  expression = expression+n\n",
        "  label1Text.set(expression)\n",
        "\n",
        "m=tk.Tk()\n",
        "m.title('Main Window')\n",
        "\n",
        "expression=''\n",
        "label1Text =tk.StringVar()\n",
        "label1Text.set(expression)\n",
        "\n",
        "label1 = tk.Label(m, borderwidth=2, relief='ridge', textvariable=label1Text, width=30)\n",
        "label1.pack()\n",
        "button1 = tk.Button(m, text='1', width=25, command=lambda: press('1'))\n",
        "button1.pack()\n",
        "\n",
        "button=tk.Button(m, text='Stop', width=25, command=lambda: m.destroy())\n",
        "button.pack()\n",
        "m.mainloop()"
      ],
      "execution_count": null,
      "outputs": []
    },
    {
      "cell_type": "markdown",
      "metadata": {
        "id": "RAqbwR-lSmfi"
      },
      "source": [
        "**ตัวอย่างที่ 2.15** การจัดวางวิดเจ็ตแบบกริด"
      ]
    },
    {
      "cell_type": "code",
      "metadata": {
        "id": "x2LcqDfeS9aW"
      },
      "source": [
        "import tkinter as tk\n",
        "\n",
        "def press(n):\n",
        "  global expression\n",
        "  global label1Text\n",
        "  expression = expression+n\n",
        "  label1Text.set(expression)\n",
        "\n",
        "m=tk.Tk()\n",
        "m.title('Main Window')\n",
        "\n",
        "expression=''\n",
        "label1Text =tk.StringVar()\n",
        "label1Text.set(expression)\n",
        "\n",
        "label1 = tk.Label(m, borderwidth=2, relief='ridge', textvariable=label1Text, width=20)\n",
        "label1.grid(row=0, columnspan=2)\n",
        "\n",
        "button1 = tk.Button(m, text='1', width=6, command=lambda: press('1'))\n",
        "button1.grid(row=2, column=0)\n",
        "\n",
        "button2 = tk.Button(m, text='2', width=6, command=lambda: press('2'))\n",
        "button2.grid(row=2, column=1)\n",
        "\n",
        "button3 = tk.Button(m, text='3', width=6, command=lambda: press('3'))\n",
        "button3.grid(row=1, column=0)\n",
        "\n",
        "button4 = tk.Button(m, text='4', width=6, command=lambda: press('4'))\n",
        "button4.grid(row=1, column=1)\n",
        "\n",
        "button=tk.Button(m, text='Stop', width=16, command=lambda: m.destroy())\n",
        "button.grid(row=3, columnspan=2)\n",
        "m.mainloop()"
      ],
      "execution_count": null,
      "outputs": []
    },
    {
      "cell_type": "markdown",
      "metadata": {
        "id": "Vy6CloIISmWF"
      },
      "source": [
        "**ตัวอย่างที่ 2.16** การทำงานของแอปพลิเคชันเครื่องคิดเลข"
      ]
    },
    {
      "cell_type": "code",
      "metadata": {
        "id": "iwYYIhGJiwGZ"
      },
      "source": [
        "def equal():\n",
        "  try:\n",
        "    global expression\n",
        "    global label1Text\n",
        "    result = str(eval(expression))\n",
        "    expression =result\n",
        "  except:\n",
        "    result = 'ERROR'\n",
        "    expression = ''\n",
        "  label1Text.set(result)"
      ],
      "execution_count": null,
      "outputs": []
    },
    {
      "cell_type": "markdown",
      "metadata": {
        "id": "cdWPaGzq2JDL"
      },
      "source": [
        "# แบบฝึกหัดท้ายบทของ ม.1\n"
      ]
    },
    {
      "cell_type": "markdown",
      "metadata": {
        "id": "oSFCHmMw4een"
      },
      "source": [
        "<font color=blue>**ตัวอย่าง 1**</font>\n",
        "<hr>\n",
        "\n",
        "แปลงค่าปีพุทธศักราชให้เป็นปีคริสต์ศักราช\n",
        "\n",
        "**แนะนำ **ปีคริสต์ศักราช = ปีพุทธศักราช - 543"
      ]
    },
    {
      "cell_type": "code",
      "metadata": {
        "id": "duzhx8LZ4YCE"
      },
      "source": [
        "val = int(input(\"รับค่าเป็นปีพุทธศักราช: \"))\n",
        "AD = val-543\n",
        "\n",
        "print(\"แปลงเป็นคริสตร์ศักราชได้เท่ากับ \" , (AD))"
      ],
      "execution_count": null,
      "outputs": []
    },
    {
      "cell_type": "markdown",
      "metadata": {
        "id": "-EMqP_v14xw4"
      },
      "source": [
        "<font color=blue>**ตัวอย่าง 2**</font>\n",
        "<hr>\n",
        "\n",
        "หาปริมาตรของน้ำในตู้ปลาทรงสี่เหลี่ยมมุมฉาก เมื่อทราบความกว้าง ความยาว และความสูง\n",
        "\n",
        "**แนะนำ **ปริมาตร = กว้าง x ยาว x สูง"
      ]
    },
    {
      "cell_type": "code",
      "metadata": {
        "id": "KUT11SFy46wF"
      },
      "source": [
        "width = int(input(\"ความกว้าง: \"))\n",
        "height = int(input(\"ความสูง: \"))\n",
        "length = int(input(\"ความยาว: \"))\n",
        "result = width*height*length\n",
        "\n",
        "print(\"ปริมาตรของน้ำในตู้ปลา: \", result)"
      ],
      "execution_count": null,
      "outputs": []
    },
    {
      "cell_type": "markdown",
      "metadata": {
        "id": "I1M9S4xT5Jn8"
      },
      "source": [
        "<font color=blue>**ตัวอย่าง 3**</font>\n",
        "<hr>\n",
        "\n",
        "หาค่าเฉลี่ยและร้อยละของคะแนนสอบ 5 รายวิชา จากคะแนนเต็มวิชาละ 100 คะแนน\n",
        "\n",
        "**แนะนำ **  ค่าเฉลี่ย = ผลรวมของทุกวิชา/100"
      ]
    },
    {
      "cell_type": "code",
      "metadata": {
        "id": "GA4Ahkbt5QdJ"
      },
      "source": [
        "math = int(input(\"คะแนนเลข: \"))\n",
        "sci = int(input(\"คะแนนวิทยาศาสตร์: \"))\n",
        "music = int(input(\"คะแนนดนตรี: \"))\n",
        "his = int(input(\"คะแนนประวัติศาสตร์: \"))\n",
        "eng = int(input(\"คะแนนอังกฤษ: \"))\n",
        "\n",
        "result = (math + sci + music + his + eng)/100\n",
        "print(\"ค่าเฉลี่ยของคะแนนสอบ: \", result)"
      ],
      "execution_count": null,
      "outputs": []
    },
    {
      "cell_type": "markdown",
      "metadata": {
        "id": "beGLnjN156d1"
      },
      "source": [
        "<font color=blue>**ตัวอย่าง 4**</font>\n",
        "<hr>\n",
        "\n",
        "ลุงลิตเริ่มวิ่งจากจุดเริ่มต้นไปทางตะวันออก x กิโลเมตร แล้ววิ่งต่อไปทางทิศเหนืออีก y กิโลเมตร ลุงลิตจะอยู่ห่างจากจุดเริ่มต้นเท่าใด\n",
        "\n",
        "**แนะนำ** ระยะทาง = sqr(x^2 + y^2)"
      ]
    },
    {
      "cell_type": "code",
      "metadata": {
        "id": "Gxv0VZ6p6KE5"
      },
      "source": [
        "import math\n",
        "x = int(input(\"ลุงลิตเริ่มวิงไปทางทิศตะวันออก (กิโลเมตร): \"))\n",
        "y = int(input(\"ลุงลิตเริ่มวิงไปทางทิศเหนือ (กิโลเมตร): \"))\n",
        "\n",
        "result = math.sqrt( x**2 + y**2 )\n",
        "print(\"ลุงลิตห่างจากจุดเริ่มต้น: %.2f กิโลเมตร\" % result)"
      ],
      "execution_count": null,
      "outputs": []
    },
    {
      "cell_type": "markdown",
      "metadata": {
        "id": "ZU9xLYJV6uJK"
      },
      "source": [
        "<font color=blue>**ตัวอย่าง 5**</font>\n",
        "<hr>\n",
        "\n",
        "\n",
        "ป้าหญิงต้องการไปเที่ยวประเทศแอฟริกาใต้ พยากรณ์อากาศแจ้งว่าอุณภูมิช่วงที่เดินทางไปจะอยู่ที่ 55 องศาฟาเรนไฮต์ จะเที่ยบเท่ากี่องศาเซลเซียส\n",
        "\n",
        "**แนะนำ**\n",
        "\n",
        "°F = (1.8 × °C) + 32\n",
        "\n",
        "°C = (°F - 32)/1.8"
      ]
    },
    {
      "cell_type": "code",
      "metadata": {
        "id": "02M6r32-61c0"
      },
      "source": [
        "F = int(input(\"อุณภูมิ (ฟาเรนไฮต์): \"))\n",
        "C = (F-32)/1.8\n",
        "\n",
        "print(\"อุณหภูมิ (เซลเซียส) %.2f °C\" % C)"
      ],
      "execution_count": null,
      "outputs": []
    },
    {
      "cell_type": "markdown",
      "metadata": {
        "id": "GbDJQIaD7EUa"
      },
      "source": [
        "<font color=blue>**ตัวอย่าง 6**</font>\n",
        "<hr>\n",
        "\n",
        " โรงภาพยนตร์แห่งหนึ่งสามารถกำหนดราคาของตั๋วได้เอง เดือนนี้เป็นช่วงเทศกาลภาพยนตร์ ราคาตั๋วจะลดลง 20% ถ้าซื้อตั๋ว 3 ใบขึ้นไปราคาตั๋วจะลดลง 25% ให้นักเรียนคำนวณเงินค่าตั๋วสุทธิ"
      ]
    },
    {
      "cell_type": "code",
      "metadata": {
        "id": "CdQigh9W7oEY"
      },
      "source": [
        "price = int(input(\"ราคาตั๋ว: \"))\n",
        "number = int(input(\"จำนวนตั๋ว: \"))\n",
        "total_price = price * number\n",
        "if number >= 3:\n",
        "\ttotal_price = total_price*75/100\n",
        "else:\n",
        "\ttotal_price = total_price*80/100\n",
        "\n",
        "print(\"ราคาตั๋วที่ซื้อทั้งหมด: %.2f บาท\" % total_price)"
      ],
      "execution_count": null,
      "outputs": []
    },
    {
      "cell_type": "markdown",
      "metadata": {
        "id": "rwdrZ70-9PMg"
      },
      "source": [
        "<font color=blue>**ตัวอย่าง 7**</font>\n",
        "<hr>\n",
        "\n",
        "\n",
        "นักเรียนเปิดกระปุกออมสินพบเงินที่เป็นเหรียญจำนวนหนึ่ง ซึ่งประกอบด้วยเหรียญหนึ่งบาท สองบาท ห้าบาท และสิบบาท ถ้ายอดรวมเงินทั้งหมดมากกว่า 500 บาท คุณแม่จะให้เงินเพิ่มอีกหนึ่งเท่า ให้นักเรียนคำนวณเงินทั้งหมด โดยรับข้อมูลจำนวนเหรียญแต่ละราคา"
      ]
    },
    {
      "cell_type": "code",
      "metadata": {
        "id": "VhiMPXNe9UbR"
      },
      "source": [
        "baht_1 = int(input(\"จำนวนเหรียญหนึ่งบาท: \"))\n",
        "baht_2 = int(input(\"จำนวนเหรียญหนึ่งบาท: \"))\n",
        "baht_5 = int(input(\"จำนวนเหรียญหนึ่งบาท: \"))\n",
        "baht_10 = int(input(\"จำนวนเหรียญหนึ่งบาท: \"))\n",
        "amount = baht_1 + baht_2 + baht_5 + baht_10\n",
        "if  amount > 500:\n",
        "\tamount +=500\n",
        "\n",
        "print(\"จำนวนเงินที่ได้รับทั้งหมด: \", amount)"
      ],
      "execution_count": null,
      "outputs": []
    },
    {
      "cell_type": "markdown",
      "metadata": {
        "id": "1W6vKphY9oY-"
      },
      "source": [
        "<font color=blue>**ตัวอย่าง 8**</font>\n",
        "<hr>\n",
        "\n",
        "การจัดสรรทัพยาการที่ดินตามหลักเกษตรทฤษีใหม่ ต้องปลูกข้าว 30  % ของพื้นที่ทั้งหมดที่มี ให้คำนวณจำนวนพื้นที่ที่ต้องปลูกข้าวตามหลักเกษตรฤษีใหม่ โดยรับข้อมูลจากผู้ใช้ เป็นพื้นที่ทั้งหมด\n",
        "\n"
      ]
    },
    {
      "cell_type": "code",
      "metadata": {
        "id": "4yLS2aXh9sSb"
      },
      "source": [
        "area = int(input(\"พื้นที่ทั้งหมด: \"))\n",
        "print(\"จำนวนพื้นที่ที่ต้องปลูกข้าวเท่ากับ \", area*30/100)"
      ],
      "execution_count": null,
      "outputs": []
    },
    {
      "cell_type": "markdown",
      "metadata": {
        "id": "GS8dnwSY95hM"
      },
      "source": [
        "<font color=blue>**ตัวอย่าง 9**</font>\n",
        "<hr>\n",
        "\n",
        "ใช้เต่าไพทอนวาดรูปหัวใจ\n",
        "\n",
        "<font color=red>(ตัวอย่างโค้ดต้องรันบนคอมเท่านั้น เพราะจะมีหน้าจอเล็กๆ เด้งขึ้นมา)</font>\n",
        "\n"
      ]
    },
    {
      "cell_type": "code",
      "metadata": {
        "id": "M8r5Nb4b_GyE"
      },
      "source": [
        "# cite: https://www.quora.com/How-can-I-draw-a-heart-using-Python\n",
        "import turtle\n",
        "\n",
        "t = turtle.Turtle()\n",
        "def curvemove():\n",
        "    for i in range(200):\n",
        "        t.right(1)\n",
        "        t.forward(1)\n",
        "t.color('red','pink')\n",
        "t.begin_fill()\n",
        "t.left(140)\n",
        "t.forward(111.65)\n",
        "\n",
        "curvemove()\n",
        "t.left(120)\n",
        "\n",
        "curvemove()\n",
        "t.forward(111.65)\n",
        "t.end_fill()\n",
        "turtle.done()"
      ],
      "execution_count": null,
      "outputs": []
    },
    {
      "cell_type": "markdown",
      "metadata": {
        "id": "KIO-YW9D-K5A"
      },
      "source": [
        "<font color=blue>**ตัวอย่าง 10**</font>\n",
        "<hr>\n",
        "\n",
        "นักเรียนต้องการดื่มน้ำที่มีอุณหภูมิ 30 องศาเซลเซียสในทันที แต่ว่าขณะนี้มีน้ำเย็นที่ 20 องศาเซลเซียส และน้ำร้อนที่ 60 องศาเซลเซียส หานักเรียนทราบปริมาณน้ำร้อน ให้คำนวณหาปริมาณน้ำเย็นที่ต้องผสมกันว่าเป็นเท่าใด"
      ]
    },
    {
      "cell_type": "code",
      "metadata": {
        "id": "Q9FowPOxPvAr"
      },
      "source": [
        "'''\n",
        "ใช้สูตร Q=mc∆t\n",
        "Q20 องศา = cold_litre x c x 20\n",
        "Q60 องศา = hot_litre x c x 60\n",
        "Q30 องศา = (cold_litre + hot_litre) x c x 30\n",
        "\n",
        "แก้สมการ\n",
        "Q20 องศา + Q60 องศา = Q30 องศา\n",
        "(cold_litre x c x 20) + (hot_litre x c x 60) = (cold_litre + hot_litre) x c x 30\n",
        "\n",
        "นำ c หารทั้ง 2 ข้าง จะได้\n",
        "(cold_litre x 20) + (hot_litre x 60) = (cold_litre + hot_litre) x 30\n",
        "\n",
        "ย้ายข้างให้เรียบร้อย\n",
        "(hot_litre x 60) - (hot_litre x 30) = (cold_litre x 30) - (cold_litre x 20)\n",
        "\n",
        "เขียนใหม่\n",
        "60hot_litre - 30hot_litre = 30cold_litre - 20cold_litre\n",
        "\n",
        "แก้สมการต่อ\n",
        "30hot_litre = 10cold_litre\n",
        "hot_litre = 10cold_litre/30\n",
        "hot_litre = cold_litre/3\n",
        "\n",
        "'''\n",
        "\n",
        "# เขียนโปรแกรม\n",
        "cold_litre = int(input(\"ปริมาณน้ำร้อน (ลิตร) ที่อุณหภูมิ 60 องศาเซลเซียส: \"))\n",
        "hot_litre = cold_litre/3\n",
        "print(\"จำนวนน้ำเย็น 20 องศาเซลเซียส ที่ต้องผสม %.2f เพื่อให้ได้ดื่มน้ำอุณหภูมิ 30 องศาเซลเซียสในทันที\" % hot_litre)"
      ],
      "execution_count": null,
      "outputs": []
    },
    {
      "cell_type": "markdown",
      "metadata": {
        "id": "cpaP6ftJ-HQR"
      },
      "source": [
        "<font color=blue>**ตัวอย่าง 11**</font>\n",
        "<hr>\n",
        "\n",
        "ถ้ามีน้ำร้อน x กรัม ที่อุณหภูมิ 60 องศาเซลเซียส จะต้องใช้น้ำแข็งก้อนละ 10 กรัม ที่อุณหภูมิ 0 องศาสเซลเซียสกี่ก้อน ใส่ลงไปในน้ำร้อนให้อุณหภูมิลดลงเหลือ 20 องศาเซลเซียส"
      ]
    },
    {
      "cell_type": "code",
      "metadata": {
        "id": "aMR7y29Ak_6k"
      },
      "source": [
        "'''\n",
        "ใช้สูตร Q=mc∆t\n",
        "Q0 องศา = n10 x c x 0 = 0\n",
        "Q60 องศา = X x c x 60\n",
        "Q20 องศา = (n10 + X) x c x 20\n",
        "\n",
        "แก้สมการ\n",
        "Q0 องศา + Q60 องศา = Q20 องศา\n",
        "0 + (X x c x 60) = (n10 + X) x c x 20\n",
        "\n",
        "นำ c หารทั้ง 2 ข้าง จะได้\n",
        "X x 60 = (n10 + X) x 20\n",
        "\n",
        "ย้ายข้างให้เรียบร้อย\n",
        "(X x 60) - (X x 20) = n10 x 20\n",
        "\n",
        "เขียนใหม่\n",
        "60X - 20X = 200n\n",
        "200n = 60X - 20X\n",
        "\n",
        "แก้สมการต่อ\n",
        "200n = 40X\n",
        "n = 40X/200\n",
        "n = X/5\n",
        "'''\n",
        "\n",
        "# เขียนโปรแกรม\n",
        "X = int(input(\"ปริมาณน้ำร้อน (ลิตร) ที่อุณหภูมิ 60 องศาเซลเซียส: \"))\n",
        "n = X/5\n",
        "print(\"จำนวนน้ำแข็ง 0 องศาเซลเซียส จำนวน %.2f ก้อน ใส่ลงไปในน้ำร้อนให้อุณหภูมิลดลงเหลือ 20 องศาเซลเซียส\" % n)"
      ],
      "execution_count": null,
      "outputs": []
    },
    {
      "cell_type": "markdown",
      "metadata": {
        "id": "_SAX-vZJ-EmH"
      },
      "source": [
        "<font color=blue>**ตัวอย่าง 12**</font>\n",
        "<hr>\n",
        "\n",
        " คนปูนอันหนึ่งทับอยู่บนแผ่นไม้ที่ช่างต้องการนำไปใช้งาน โดยคานออกแรงกดแบนแผ่นไม้ 30 นิวตัน ถ้าช่างต้องการนำไปใช้ประโยชน์ ต้องใช้ชะแลงเหล็กยาว 1 เมตร สอดไว้ใต้คาน แล้วออกแรงกดที่ปลายคานอีกข้างหนึ่ง โดยออกแรงเพียง 10 นิวตัน ช่างคนนี้จะต้องนำก้อนหินวางไว้ใต้ชะแลงเหล็ก ห่างจากปลายที่สอดไว้ใต้คานปูนเป็นระยะทางเท่าใด (ไม่คิดน้ำหนักของชะแลง)\n",
        "\n",
        " **แนะนำ**\n",
        "\n",
        "```\n",
        "\n",
        "  weight * x = force * (length_crowbar - x)\n",
        "  \n",
        "\n",
        "```\n",
        "\n",
        " * เมื่อ weight  คือ คนปูนอันหนึ่งทับอยู่บนแผ่นไม้ โดยออกแรง (นิวตัน)\n",
        "\n",
        "*  เมื่อ length_crowbar คือ ความยาวของชะแลง(เมตร)\n",
        "\n",
        "* เมื่อ force  คือ ช่างอีกคนออกแรงเพียง (นิวตัว)\n",
        "\n",
        "* และ x คือ ระยะห่างของชะแลงจากปลายที่สอดไว้ใต้คานปูน (สิ่งที่โจทย์ต้องการหา)\n",
        "\n",
        "\n",
        "\n",
        "**แก้สมการหา x ก่อน**\n",
        "\n",
        "\n",
        "```\n",
        " weight * x  =  force * length_crowbar - force * x\n",
        "\n",
        " weight * x + force * x = force * length_crowbar\n",
        "\n",
        " x *  ( weight + force) =  force * length_crowbar\n",
        "\n",
        " x = force * length_crowbar / ( weight + force)\n",
        "```\n",
        "\n"
      ]
    },
    {
      "cell_type": "code",
      "metadata": {
        "id": "Y7u26TR7AA_f"
      },
      "source": [
        "weight = int(input(\"คนปูนอันหนึ่งทับอยู่บนแผ่นไม้ โดยออกแรง (นิวตัน): \"))\n",
        "length_crowbar = int(input(\"ความยาวของชะแลง(เมตร): \"))\n",
        "force = int(input(\"ช่างอีกคนออกแรงเพียง (นิวตัว): \"))\n",
        "\n",
        "x = force * length_crowbar / ( weight + force)\n",
        "print(\"ช่างคนนี้จะต้องนำก้อนหินวางไว้ใต้ชะแลงเหล็ก ห่างจากปลายที่สอดไว้ใต้คานปูนเป็นระยะทาง %.2f เมตร\" % x)\n"
      ],
      "execution_count": null,
      "outputs": []
    },
    {
      "cell_type": "markdown",
      "metadata": {
        "id": "VxtISDY68vwI"
      },
      "source": [
        "# แบบฝึกหัดท้ายบทของ ม.2"
      ]
    },
    {
      "cell_type": "markdown",
      "metadata": {
        "id": "RlXGDrIq73WP"
      },
      "source": [
        "<font color=blue>**ตัวอย่าง 1**</font>\n",
        "<hr>\n",
        "\n",
        "นักเรียนหารายได้พิเศษด้วยการรับอาหารมาขาย โดยได้รับส่วนแบ่งยอดขายจากเจ้าของร้านดังนี้\n",
        "\n",
        "<table style=\"width:100%\">\n",
        "  <tr>\n",
        "    <th>รายการอาหาร</th>\n",
        "    <th>ราคาต่อหน่วย (บาท)</th>\n",
        "    <th>ส่วนแบ่งต่อหน่วย (บาท)</th>\n",
        "    <th>ส่วนแบ่งเพิ่มเติม</th>\n",
        "  </tr>\n",
        "  <tr>\n",
        "    <td>ขนมเค้ก</td>\n",
        "    <td>10</td>\n",
        "    <td>2</td>\n",
        "    <td>มากกว่า 20 ชิ้น เพิ่มเป็นชิ้นละ 3 บาท</td>\n",
        "  </tr>\n",
        "  <tr>\n",
        "    <td>ข้าวเหนี่ยวไก่</td>\n",
        "    <td>20</td>\n",
        "    <td>5</td>\n",
        "    <td>มากกว่า 30 ชิ้น เพิ่มเป็นห่อละ 7 บาท</td>\n",
        "  </tr>\n",
        "  <tr>\n",
        "    <td>น้ำส้ม</td>\n",
        "    <td>15</td>\n",
        "    <td>3</td>\n",
        "    <td>มากกว่า 30 ขวด เพิ่มเป็นขวดละ 5 บาท</td>\n",
        "  </tr>\n",
        "</table>\n",
        "\n",
        "\n",
        "ซึ่งหากนักเรียนทำยอดขายได้มากกว่า 500 บาท จะได้รับส่วนแบ่งจากยอดขายอีกร้อยละ 10 จากเงื่อนไขดังกล่าวให้เขียนโปรแกรม เพื่อสรุปยอดขายและส่วนแบ่งที่ได้รับ\n",
        "\n"
      ]
    },
    {
      "cell_type": "code",
      "metadata": {
        "id": "Vzt6Lxn1RWF3"
      },
      "source": [
        "share = 0\n",
        "num_cakes = int(input(\"จำนวนขนมเค้ก (ชิ้น): \"))\n",
        "num_rice_chicken = int(input(\"จำนวนข้าวเหนียวไก่ (่ห่อ): \"))\n",
        "num_orange_juice = int(input(\"จำนวนน้ำส้ม (ขวด): \"))\n",
        "\n",
        "#จำนวนยอดขายรวมทั้งหมด\n",
        "sales = num_cakes * 10  + num_rice_chicken*20 + num_orange_juice*15\n",
        "\n",
        "if num_cakes > 20 :\n",
        "  share = share + num_cakes*3   # มากกว่า 20 ชิ้น เพิ่มส่วนแบ่งเป็นชิ้นละ 3 บาท\n",
        "else:\n",
        "  share = share + num_cakes*2   # ปกติคิดส่วนแบ่งชิ้นละ 2 บาท\n",
        "\n",
        "if num_rice_chicken > 30 :\n",
        "  share = share + num_rice_chicken*7   # มากกว่า 30 ชิ้น เพิ่มส่วนแบ่งเป็นห่อละ 7 บาท\n",
        "else:\n",
        "  share = share + num_rice_chicken*5   # ปกติคิดส่วนแบ่งห่อละ 5 บาท\n",
        "\n",
        "if num_orange_juice > 30 :\n",
        "  share = share + num_orange_juice*5   # มากกว่า 30 ชิ้น เพิ่มส่วนแบ่งเป็นขวดละ 5 บาท\n",
        "else:\n",
        "  share = share + num_orange_juice*3   # ปกติคิดส่วนแบ่งขวดละ 3 บาท\n",
        "\n",
        "if sales > 500:\n",
        "  share = share + sales*0.1 # ได้รับส่วนแบ่งจากยอดขายร้อยละ 10\n",
        "\n",
        "print(\"สรุปยอดขาย %.2f บาท และส่วนแบ่งคิดเป็น %.2f บาท\" %(sales,share))\n"
      ],
      "execution_count": null,
      "outputs": []
    },
    {
      "cell_type": "markdown",
      "metadata": {
        "id": "yGmgQYEnP5qi"
      },
      "source": [
        "<font color=blue>**ตัวอย่าง 2**</font>\n",
        "<hr>\n",
        "\n",
        "ขึ้นรถอะไรดี\n",
        "\n",
        "* นั่งรถโดยสารประจำทางปรับอากาศคิดอัตราค่าโดยสารคนละ 5 บาทต่อกิโลเมตร หากไม่ถึง 1 กิโลเมตรให้คิดราคา 5 บาท\n",
        "* นั่งรถรับจ้างสาธารณะ ค่าโดยสารเริ่มต้น 35 บาทที่ระยะทาง 3 กิโลเมตรแรก ระยะทางที่เกินจากนั้นคิดอัตราค่าโดยสารเพิ่มขึ้น 2 บาทต่อกิโลเมตร โดยรถรับจ้างหนึ่งคันรับผู้โดยสารได้สูงสุด 4 คน\n",
        "\n",
        "นักเรียนและกลุ่มเพื่อนต้องการเดินทางไปยังสถานที่หนึ่ง นักเรียนจะเลือกเดินทางด้วยรถอะไรเพื่อให้ประหยัดค่าโดยสารที่สุด"
      ]
    },
    {
      "cell_type": "markdown",
      "metadata": {
        "id": "fpCMadeEOraN"
      },
      "source": [
        "<font color=blue>**ตัวอย่าง 3**</font>\n",
        "<hr>\n",
        "\n",
        "ครูประจำชั้นมอบหมายให้นักเรียนบันทึกข้อมูล ส่วนสูง น้ำหนัก เพศของเพื่อนและจัดทำรายงานสรุป ซึ่งประกอบด้วยข้อมูล ดังนี้\n",
        "\n",
        "* ชื่อ นามสกุล เพศ ส่วนสูง น้ำหนัก\n",
        "* ค่าเฉลี่ย ส่วนสูง น้ำหนัก ของทั้งห้อง และแยกตามเพศ"
      ]
    },
    {
      "cell_type": "markdown",
      "metadata": {
        "id": "xIzK_XF576Qs"
      },
      "source": [
        "<font color=blue>**ตัวอย่าง 4**</font>\n",
        "<hr>\n",
        "\n",
        "ครูจ้างป้าเชอรี่มาทำข้าวกะเพราะไก่ไข่ดาวที่โรงเรียน จำนวน x กล่อง โดยป้าเชอรี่ต้องเตรียมวัตถุดิบมาเอง นักเรียนคิดว่าป้าเชอรี่ต้องใช้ต้นทุนในการทำข้าวกระเพราะไก่ไข่ดาวทั้งสิ้นเท่าไร และจะคิดค่าจ้างในการทำกล่องละกี่บาท จึงจะได้กำไรร้อยละ 30\n",
        "\n",
        "ข้าวกระเพราะไก่ 15 กล่อง ใช้วัตถุดิบดังนี้\n"
      ]
    },
    {
      "cell_type": "markdown",
      "metadata": {
        "id": "zdhkZrFpaxel"
      },
      "source": [
        "# อ้างอิง\n",
        "\n",
        "* หนังสือวิทยาการคำนวณ ชั้นมัธยมศึกษาปีที่ 1\n",
        "* หนังสือวิทยาการคำนวณ ชั้นมัธยมศึกษาปีที่ 2"
      ]
    },
    {
      "cell_type": "markdown",
      "source": [
        "# ลิงก์เอกสารชุดนี้\n",
        "\n",
        "* https://colab.research.google.com/drive/1rm-kW7Nh5q3kk9JsnvBea2oUr42W9GIF?usp=sharing\n"
      ],
      "metadata": {
        "id": "1550HDAxtLBW"
      }
    },
    {
      "cell_type": "markdown",
      "metadata": {
        "id": "JBrxsV-nI9H-"
      },
      "source": [
        "# ฝากติดตาม\n",
        "\n",
        "<img height=\"20px\" src=\"https://www.patanasongsivilai.com/blog/wp-content/uploads/2017/06/logo_facebook2.png\" align=\"left\" hspace=\"10px\" vspace=\"0px\">  https://www.facebook.com/programmerthai/\n",
        "\n",
        "<img height=\"14px\" src=\"https://www.patanasongsivilai.com/blog/wp-content/uploads/2019/03/youtube.png\" align=\"left\" hspace=\"10px\" vspace=\"3px\">  https://www.youtube.com/channel/UCvhCKtG5cRE6K5--RJPql_w\n",
        "\n",
        "<img height=\"14px\" src=\"https://www.patanasongsivilai.com/blog/wp-content/uploads/2019/09/github-2.jpg\" align=\"left\" hspace=\"10px\" vspace=\"3px\">https://github.com/adminho/machine-learning"
      ]
    },
    {
      "cell_type": "code",
      "metadata": {
        "id": "wPJn_p-Tr--o",
        "colab": {
          "base_uri": "https://localhost:8080/",
          "height": 247
        },
        "outputId": "ec4392c9-e3ef-4263-8365-b45350bca961",
        "cellView": "form"
      },
      "source": [
        "#@title ฝากประชาสัมพันธ์ ebook \"เปิดซิงโค้ดดิ้งด้วยไพทอน ไม่ใช่เด็กคอมก็เก็ต\"\n",
        "%%HTML\n",
        "<p>\n",
        "\n",
        "</p>\n",
        "<iframe class=\"iframe_seller_link\" width=\"430\" height=\"220\" src=\"https://www.mebmarket.com/embed.php?seller_link=YToyOntzOjc6InVzZXJfaWQiO3M6NzoiMTcyNTQ4MyI7czo3OiJib29rX2lkIjtzOjY6IjE5MjkyMiI7fQ\" frameborder=\"0\"></iframe>"
      ],
      "execution_count": null,
      "outputs": [
        {
          "output_type": "display_data",
          "data": {
            "text/plain": [
              "<IPython.core.display.HTML object>"
            ],
            "text/html": [
              "<p>\n",
              "\n",
              "</p>\n",
              "<iframe class=\"iframe_seller_link\" width=\"430\" height=\"220\" src=\"https://www.mebmarket.com/embed.php?seller_link=YToyOntzOjc6InVzZXJfaWQiO3M6NzoiMTcyNTQ4MyI7czo3OiJib29rX2lkIjtzOjY6IjE5MjkyMiI7fQ\" frameborder=\"0\"></iframe>\t\n"
            ]
          },
          "metadata": {}
        }
      ]
    }
  ]
}